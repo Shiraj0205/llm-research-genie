{
 "cells": [
  {
   "cell_type": "code",
   "execution_count": null,
   "id": "32a25d4c",
   "metadata": {},
   "outputs": [],
   "source": [
    "print(\"Test\")"
   ]
  },
  {
   "cell_type": "code",
   "execution_count": 1,
   "id": "66419c48",
   "metadata": {},
   "outputs": [
    {
     "name": "stdout",
     "output_type": "stream",
     "text": [
      "Project root added to path: d:\\Data\\Projects\\llm-research-genie\n"
     ]
    }
   ],
   "source": [
    "import sys, os\n",
    "\n",
    "# Get project root — one level up from 'research_and_analyst'\n",
    "project_root = os.path.abspath(os.path.join(os.getcwd(), \"../..\"))\n",
    "sys.path.append(project_root)\n",
    "\n",
    "print(\"Project root added to path:\", project_root)"
   ]
  },
  {
   "cell_type": "code",
   "execution_count": 2,
   "id": "11ae2df5",
   "metadata": {},
   "outputs": [
    {
     "name": "stderr",
     "output_type": "stream",
     "text": [
      "{\"timestamp\": \"2025-10-16T23:29:22.359736Z\", \"level\": \"info\", \"event\": \"OPENAI_API_KEY loaded from environment\"}\n",
      "{\"timestamp\": \"2025-10-16T23:29:22.359736Z\", \"level\": \"info\", \"event\": \"GOOGLE_API_KEY loaded from environment\"}\n",
      "{\"timestamp\": \"2025-10-16T23:29:22.359736Z\", \"level\": \"info\", \"event\": \"GROQ_API_KEY loaded from environment\"}\n",
      "{\"timestamp\": \"2025-10-16T23:29:22.359736Z\", \"level\": \"info\", \"event\": \"ASTRA_DB_API_ENDPOINT loaded from environment\"}\n",
      "{\"timestamp\": \"2025-10-16T23:29:22.359736Z\", \"level\": \"info\", \"event\": \"ASTRA_DB_APPLICATION_TOKEN loaded from environment\"}\n",
      "{\"timestamp\": \"2025-10-16T23:29:22.359736Z\", \"level\": \"info\", \"event\": \"ASTRA_DB_KEYSPACE loaded from environment\"}\n",
      "{\"config_keys\": [\"astra_db\", \"embedding_model\", \"retriever\", \"llm\"], \"timestamp\": \"2025-10-16T23:29:22.359736Z\", \"level\": \"info\", \"event\": \"YAML config loaded\"}\n",
      "{\"provider\": \"openai\", \"model\": \"gpt-4o\", \"timestamp\": \"2025-10-16T23:29:22.359736Z\", \"level\": \"info\", \"event\": \"Loading LLM\"}\n",
      "{\"timestamp\": \"2025-10-16T23:29:22.359736Z\", \"level\": \"info\", \"event\": \"GOOGLE_API_KEY loaded from environment\"}\n",
      "{\"timestamp\": \"2025-10-16T23:29:22.359736Z\", \"level\": \"info\", \"event\": \"GROQ_API_KEY loaded from environment\"}\n",
      "{\"timestamp\": \"2025-10-16T23:29:22.359736Z\", \"level\": \"info\", \"event\": \"ASTRA_DB_API_ENDPOINT loaded from environment\"}\n",
      "{\"timestamp\": \"2025-10-16T23:29:22.359736Z\", \"level\": \"info\", \"event\": \"ASTRA_DB_APPLICATION_TOKEN loaded from environment\"}\n",
      "{\"timestamp\": \"2025-10-16T23:29:22.359736Z\", \"level\": \"info\", \"event\": \"ASTRA_DB_KEYSPACE loaded from environment\"}\n",
      "{\"config_keys\": [\"astra_db\", \"embedding_model\", \"retriever\", \"llm\"], \"timestamp\": \"2025-10-16T23:29:22.359736Z\", \"level\": \"info\", \"event\": \"YAML config loaded\"}\n",
      "{\"provider\": \"openai\", \"model\": \"gpt-4o\", \"timestamp\": \"2025-10-16T23:29:22.359736Z\", \"level\": \"info\", \"event\": \"Loading LLM\"}\n"
     ]
    }
   ],
   "source": [
    "from research_and_analyst.utils.model_loader import ModelLoader\n",
    "model_loader = ModelLoader()\n",
    "llm = model_loader.load_llm()"
   ]
  },
  {
   "cell_type": "code",
   "execution_count": 4,
   "id": "4282275f",
   "metadata": {},
   "outputs": [
    {
     "name": "stderr",
     "output_type": "stream",
     "text": [
      "HTTP Request: POST https://api.openai.com/v1/chat/completions \"HTTP/1.1 200 OK\"\n"
     ]
    },
    {
     "data": {
      "text/plain": [
       "\"Hello! I'm just a computer program, so I don't have feelings, but I'm here and ready to help you. How can I assist you today?\""
      ]
     },
     "execution_count": 4,
     "metadata": {},
     "output_type": "execute_result"
    }
   ],
   "source": [
    "llm.invoke(\"Hello, how are you?\").content"
   ]
  },
  {
   "cell_type": "code",
   "execution_count": 5,
   "id": "d02747b7",
   "metadata": {},
   "outputs": [],
   "source": [
    "from typing import List\n",
    "from typing_extensions import TypedDict\n",
    "from pydantic import BaseModel, Field"
   ]
  },
  {
   "cell_type": "code",
   "execution_count": 6,
   "id": "3bd51bbb",
   "metadata": {},
   "outputs": [],
   "source": [
    "from langgraph.graph import StateGraph, START, END\n",
    "from langchain_core.messages import AIMessage,HumanMessage , SystemMessage\n",
    "from langgraph.checkpoint.memory import MemorySaver"
   ]
  },
  {
   "cell_type": "markdown",
   "id": "feae1989",
   "metadata": {},
   "source": [
    "## Health \n",
    "Analyst( name=\"Dr. Neha Patel\", role=\"Medical Data Scientist\", affiliation=\"Stanford Medicine\", description=\"Focuses on predictive models for patient outcomes.\" ),\n",
    "\n",
    "Analyst( name=\"Dr. Arun Verma\", role=\"Ethics Researcher\", affiliation=\"WHO\", description=\"Explores ethical implications of AI in diagnostics.\" ), Analyst( name=\"Ms. Priya Sharma\", role=\"Policy Analyst\", affiliation=\"Ministry of Health\", description=\"Investigates AI policy and compliance frameworks.\" )"
   ]
  },
  {
   "cell_type": "code",
   "execution_count": 33,
   "id": "49e07c7d",
   "metadata": {},
   "outputs": [],
   "source": [
    "class Analyst(BaseModel):\n",
    "    name: str = Field(description=\"Name of the analyst.\")\n",
    "    role: str = Field(description=\"Role of the analyst in the context of the topic.\")\n",
    "    affiliation: str = Field(description=\"Primary affiliation of the analyst.\")\n",
    "    description: str = Field(description=\"Description of the analyst focus, concerns, and motives.\")\n",
    "    \n",
    "    @property\n",
    "    def persona(self) -> str:\n",
    "        return f\"Name: {self.name}\\nRole: {self.role}\\nAffiliation: {self.affiliation}\\nDescription: {self.description}\\n\""
   ]
  },
  {
   "cell_type": "code",
   "execution_count": 34,
   "id": "5e17c78a",
   "metadata": {},
   "outputs": [
    {
     "data": {
      "text/plain": [
       "Analyst(name='John Doe', role='AI Engineer', affiliation='AI Research LAB', description='I am AI Engineer  with a focus on creating and deploying AI models for various applications.')"
      ]
     },
     "execution_count": 34,
     "metadata": {},
     "output_type": "execute_result"
    }
   ],
   "source": [
    "Analyst(\n",
    "    name=\"John Doe\",\n",
    "    role=\"AI Engineer\",\n",
    "    affiliation=\"AI Research LAB\",\n",
    "    description=\"I am AI Engineer  with a focus on creating and deploying AI models for various applications.\"\n",
    "    )"
   ]
  },
  {
   "cell_type": "code",
   "execution_count": 35,
   "id": "fb034336",
   "metadata": {},
   "outputs": [],
   "source": [
    "analyst = Analyst(\n",
    "    name=\"John Doe\",\n",
    "    role=\"AI Engineer\",\n",
    "    affiliation=\"AI Research LAB\",\n",
    "    description=\"I am AI Engineer  with a focus on creating and deploying AI models for various applications.\"\n",
    "    )"
   ]
  },
  {
   "cell_type": "code",
   "execution_count": null,
   "id": "2ef45b87",
   "metadata": {},
   "outputs": [
    {
     "name": "stdout",
     "output_type": "stream",
     "text": [
      "Name: John Doe\n",
      "Role: AI Engineer\n",
      "Affiliation: AI Research LAB\n",
      "Description: I am AI Engineer  with a focus on creating and deploying AI models for various applications.\n",
      "\n",
      "\n"
     ]
    }
   ],
   "source": [
    "analyst.persona"
   ]
  },
  {
   "cell_type": "code",
   "execution_count": 37,
   "id": "d44eeaee",
   "metadata": {},
   "outputs": [
    {
     "data": {
      "text/plain": [
       "'John Doe'"
      ]
     },
     "execution_count": 37,
     "metadata": {},
     "output_type": "execute_result"
    }
   ],
   "source": [
    "analyst.name"
   ]
  },
  {
   "cell_type": "code",
   "execution_count": 39,
   "id": "a6283283",
   "metadata": {},
   "outputs": [
    {
     "name": "stdout",
     "output_type": "stream",
     "text": [
      "Name: John Doe\n",
      "Role: AI Engineer\n",
      "Affiliation: AI Research LAB\n",
      "Description: I am AI Engineer  with a focus on creating and deploying AI models for various applications.\n",
      "\n",
      "\n"
     ]
    }
   ],
   "source": [
    "print(analyst.persona)"
   ]
  },
  {
   "cell_type": "code",
   "execution_count": 40,
   "id": "1b8a13dc",
   "metadata": {},
   "outputs": [],
   "source": [
    "class Perspectives(BaseModel):\n",
    "       analysts: List[Analyst] = Field(description=\"Comprehensive list of analysts with their roles and affiliations.\")"
   ]
  },
  {
   "cell_type": "code",
   "execution_count": 41,
   "id": "a74215c9",
   "metadata": {},
   "outputs": [],
   "source": [
    "class GenerateAnalystsState(TypedDict):\n",
    "    topic: str #research topic\n",
    "    max_analysts: int # number of analyst\n",
    "    human_analyst_feedback: str # Human feedback\n",
    "    analysts: List[Analyst] # Analyst asking questions\n",
    "    "
   ]
  },
  {
   "cell_type": "code",
   "execution_count": 42,
   "id": "ac5eb80f",
   "metadata": {},
   "outputs": [
    {
     "data": {
      "text/plain": [
       "{'topic': 'finance',\n",
       " 'max_analysts': 5,\n",
       " 'human_analyst_feedback': 'give the real info'}"
      ]
     },
     "execution_count": 42,
     "metadata": {},
     "output_type": "execute_result"
    }
   ],
   "source": [
    "GenerateAnalystsState(\n",
    "    topic = \"finance\",\n",
    "    max_analysts= 5,\n",
    "    human_analyst_feedback= \"give the real info\",  \n",
    ")"
   ]
  },
  {
   "cell_type": "code",
   "execution_count": 43,
   "id": "e12057cc",
   "metadata": {},
   "outputs": [
    {
     "data": {
      "text/plain": [
       "(Analyst(name='Dr. Neha Patel', role='Medical Data Scientist', affiliation='Stanford Medicine', description='Focuses on predictive models for patient outcomes.'),)"
      ]
     },
     "execution_count": 43,
     "metadata": {},
     "output_type": "execute_result"
    }
   ],
   "source": [
    "Analyst(\n",
    "        name=\"Dr. Neha Patel\",\n",
    "        role=\"Medical Data Scientist\",\n",
    "        affiliation=\"Stanford Medicine\",\n",
    "        description=\"Focuses on predictive models for patient outcomes.\"\n",
    "    ),"
   ]
  },
  {
   "cell_type": "code",
   "execution_count": 44,
   "id": "7cbff373",
   "metadata": {},
   "outputs": [],
   "source": [
    "analyst_instructions=\"\"\"You are tasked with creating a set of AI analyst personas. Follow these instructions carefully:\n",
    "\n",
    "1. First, review the research topic:\n",
    "{topic}\n",
    "        \n",
    "2. Examine any editorial feedback that has been optionally provided to guide creation of the analysts: \n",
    "        \n",
    "{human_analyst_feedback}\n",
    "    \n",
    "3. Determine the most interesting themes based upon documents and / or feedback above.\n",
    "                    \n",
    "4. Pick the top {max_analysts} themes.\n",
    "\n",
    "5. Assign one analyst to each theme.\"\"\""
   ]
  },
  {
   "cell_type": "code",
   "execution_count": 45,
   "id": "ad5cb491",
   "metadata": {},
   "outputs": [
    {
     "name": "stdout",
     "output_type": "stream",
     "text": [
      "['You are tasked with creating a set of AI analyst personas. Follow these instructions carefully:\\n\\n1. First, review the research topic:\\neducation\\n\\n2. Examine any editorial feedback that has been optionally provided to guide creation of the analysts: \\n\\nplease exaplain only on AI\\n\\n3. Determine the most interesting themes based upon documents and / or feedback above.\\n\\n4. Pick the top 4 themes.\\n\\n5. Assign one analyst to each theme.', 'Generate the set of analysts.']\n",
      "\n"
     ]
    }
   ],
   "source": [
    "print([analyst_instructions.format(\n",
    "        topic=\"education\",\n",
    "        max_analysts=4,\n",
    "        human_analyst_feedback=\"please exaplain only on AI\"\n",
    "        \n",
    "        )] + [\"Generate the set of analysts.\"])"
   ]
  },
  {
   "cell_type": "code",
   "execution_count": 46,
   "id": "366a1cc4",
   "metadata": {},
   "outputs": [],
   "source": [
    "def create_analyst(state:GenerateAnalystsState):\n",
    "    \"\"\"\n",
    "    it is creating my analyst\n",
    "    \n",
    "    \"\"\"\n",
    "    topic = state[\"topic\"]\n",
    "    max_analysts = state[\"max_analysts\"]\n",
    "    human_analyst_feedback = state.get(\"human_analyst_feedback\",\"\")\n",
    "    \n",
    "    structured_llm = llm.with_structured_output(Perspectives)\n",
    "    \n",
    "    system_messages = analyst_instructions.format(\n",
    "        topic=topic,\n",
    "        max_analysts=max_analysts,\n",
    "        human_analyst_feedback=human_analyst_feedback\n",
    "        \n",
    "        )\n",
    "    analysts = structured_llm.invoke([SystemMessage(content=system_messages)]+ [HumanMessage(content=\"Generate the set of analysts.\")])\n",
    "    \n",
    "    # Write the list of analysis to state\n",
    "    return {\"analysts\": analysts.analysts}"
   ]
  },
  {
   "cell_type": "code",
   "execution_count": 47,
   "id": "26f31753",
   "metadata": {},
   "outputs": [
    {
     "name": "stderr",
     "output_type": "stream",
     "text": [
      "HTTP Request: POST https://api.openai.com/v1/chat/completions \"HTTP/1.1 200 OK\"\n"
     ]
    },
    {
     "data": {
      "text/plain": [
       "{'analysts': [Analyst(name='Dr. Emily Chen', role='Public Health Researcher', affiliation='World Health Organization', description='Dr. Emily Chen focuses on global health trends and the impact of public health policies on disease prevention and health promotion. Her primary concern is understanding how different health policies can be optimized to improve health outcomes across diverse populations. She is motivated by the need to address health disparities and ensure equitable access to healthcare services worldwide.'),\n",
       "  Analyst(name='Dr. Raj Patel', role='Healthcare Technology Analyst', affiliation='Harvard T.H. Chan School of Public Health', description='Dr. Raj Patel specializes in the intersection of technology and healthcare, particularly how digital health innovations can transform patient care and health system efficiency. His focus is on evaluating the effectiveness of telemedicine, wearable health devices, and AI-driven diagnostics. He is driven by the potential of technology to enhance healthcare delivery and improve patient outcomes, especially in underserved areas.')]}"
      ]
     },
     "execution_count": 47,
     "metadata": {},
     "output_type": "execute_result"
    }
   ],
   "source": [
    "create_analyst(\n",
    "    {'topic': 'health',\n",
    "    'max_analysts': 2,\n",
    "    'human_analyst_feedback': 'give the real info'}\n",
    "    )"
   ]
  },
  {
   "cell_type": "code",
   "execution_count": 48,
   "id": "4f8cc20e",
   "metadata": {},
   "outputs": [],
   "source": [
    "def human_feedback(state):\n",
    "    \"\"\" No-op node that should be interrupted on \"\"\"\n",
    "    pass"
   ]
  },
  {
   "cell_type": "code",
   "execution_count": 49,
   "id": "55212429",
   "metadata": {},
   "outputs": [],
   "source": [
    "def should_continue(state):\n",
    "    \"\"\" Return the next node to execute \"\"\"\n",
    "    human_analyst_feedback = state.get(\"human_analyst_feedback\",None)\n",
    "    if human_analyst_feedback:\n",
    "        return \"create_analyst\""
   ]
  },
  {
   "cell_type": "code",
   "execution_count": 50,
   "id": "b13f1fb2",
   "metadata": {},
   "outputs": [],
   "source": [
    "from IPython.display import Image, display"
   ]
  },
  {
   "cell_type": "markdown",
   "id": "24198687",
   "metadata": {},
   "source": [
    "## 1. Analyst Workflow"
   ]
  },
  {
   "cell_type": "code",
   "execution_count": 164,
   "id": "08e715ff",
   "metadata": {},
   "outputs": [],
   "source": [
    "builder = StateGraph(GenerateAnalystsState)"
   ]
  },
  {
   "cell_type": "code",
   "execution_count": 52,
   "id": "6f807ad0",
   "metadata": {},
   "outputs": [
    {
     "data": {
      "text/plain": [
       "<langgraph.graph.state.StateGraph at 0x28f62457250>"
      ]
     },
     "execution_count": 52,
     "metadata": {},
     "output_type": "execute_result"
    }
   ],
   "source": [
    "builder.add_node(\"create_analyst\",create_analyst)\n",
    "builder.add_node(\"human_feedback\", human_feedback)"
   ]
  },
  {
   "cell_type": "code",
   "execution_count": 165,
   "id": "a385ce08",
   "metadata": {},
   "outputs": [
    {
     "data": {
      "text/plain": [
       "<langgraph.graph.state.StateGraph at 0x28f6444d4d0>"
      ]
     },
     "execution_count": 165,
     "metadata": {},
     "output_type": "execute_result"
    }
   ],
   "source": [
    "builder.add_edge(START,\"create_analyst\")\n",
    "builder.add_edge(\"create_analyst\", \"human_feedback\")\n",
    "builder.add_conditional_edges(\"human_feedback\",\n",
    "                        should_continue,\n",
    "                        [\"create_analyst\",\n",
    "                        END])"
   ]
  },
  {
   "cell_type": "code",
   "execution_count": 54,
   "id": "63ba28c2",
   "metadata": {},
   "outputs": [],
   "source": [
    "memory = MemorySaver()"
   ]
  },
  {
   "cell_type": "code",
   "execution_count": 55,
   "id": "35146d84",
   "metadata": {},
   "outputs": [],
   "source": [
    "graph = builder.compile(interrupt_before= [\"human_feedback\"],checkpointer= memory)"
   ]
  },
  {
   "cell_type": "code",
   "execution_count": 56,
   "id": "d6191a8a",
   "metadata": {},
   "outputs": [
    {
     "data": {
      "image/png": "[encoded data removed]",
      "text/plain": [
       "<IPython.core.display.Image object>"
      ]
     },
     "metadata": {},
     "output_type": "display_data"
    }
   ],
   "source": [
    "display(Image(graph.get_graph(xray=1).draw_mermaid_png()))"
   ]
  },
  {
   "cell_type": "code",
   "execution_count": 57,
   "id": "812ff604",
   "metadata": {},
   "outputs": [],
   "source": [
    "topic = \"the benefits of adopting Langgraph as an agent framework\"\n",
    "max_analysts = 4\n",
    "thread =  {\"configurable\":{\"thread_id\":1}}"
   ]
  },
  {
   "cell_type": "code",
   "execution_count": 58,
   "id": "915a8946",
   "metadata": {},
   "outputs": [
    {
     "name": "stderr",
     "output_type": "stream",
     "text": [
      "HTTP Request: POST https://api.openai.com/v1/chat/completions \"HTTP/1.1 200 OK\"\n"
     ]
    },
    {
     "name": "stdout",
     "output_type": "stream",
     "text": [
      "Name: Dr. Emily Chen\n",
      "Affiliation: Tech Innovators Inc.\n",
      "Role: Technology Adoption Specialist\n",
      "Description: Dr. Chen focuses on the strategic benefits of adopting new technologies like Langgraph. She is particularly interested in how Langgraph can streamline processes and improve efficiency in various industries. Her motive is to identify technologies that can provide a competitive edge to businesses.\n",
      "--------------------------------------------------\n",
      "Name: Raj Patel\n",
      "Affiliation: FutureTech Research Group\n",
      "\n",
      "Affiliation: Tech Innovators Inc.\n",
      "Role: Technology Adoption Specialist\n",
      "Description: Dr. Chen focuses on the strategic benefits of adopting new technologies like Langgraph. She is particularly interested in how Langgraph can streamline processes and improve efficiency in various industries. Her motive is to identify technologies that can provide a competitive edge to businesses.\n",
      "--------------------------------------------------\n",
      "Name: Raj Patel\n",
      "Affiliation: FutureTech Research Group\n",
      "Role: AI Framework Analyst\n",
      "Description: Raj Patel analyzes different AI frameworks and their impact on development processes. He is concerned with the flexibility and scalability of Langgraph as an agent framework, and how it compares to other frameworks in terms of ease of integration and performance.\n",
      "--------------------------------------------------\n",
      "Name: Sophia Martinez\n",
      "Affiliation: Global Solutions Ltd.\n",
      "Role: Business Process Consultant\n",
      "Description: Sophia Martinez examines how Langgraph can transform business processes. Her focus is on the practical applications of Langgraph in automating workflows and enhancing decision-making capabilities. She aims to demonstrate the tangible benefits of Langgraph in real-world business scenarios.\n",
      "--------------------------------------------------\n",
      "Name: Dr. Ahmed El-Sayed\n",
      "Affiliation: CyberSafe Analytics\n",
      "Role: Data Security Expert\n",
      "Description: Dr. El-Sayed is concerned with the security implications of adopting new technologies like Langgraph. He evaluates the framework's security features and its ability to protect sensitive data. His motive is to ensure that adopting Langgraph does not compromise data integrity and privacy.\n",
      "--------------------------------------------------\n"
     ]
    }
   ],
   "source": [
    "for event in graph.stream({\"topic\":topic,\n",
    "              \"max_analysts\":max_analysts},\n",
    "             thread,\n",
    "             stream_mode= \"values\"):\n",
    "    analysts = event.get('analysts', '')\n",
    "    \n",
    "    if analysts:\n",
    "        for analyst in analysts:\n",
    "            print(f\"Name: {analyst.name}\")\n",
    "            print(f\"Affiliation: {analyst.affiliation}\")\n",
    "            print(f\"Role: {analyst.role}\")\n",
    "            print(f\"Description: {analyst.description}\")\n",
    "            print(\"-\" * 50)  "
   ]
  },
  {
   "cell_type": "code",
   "execution_count": 231,
   "id": "7af24422",
   "metadata": {},
   "outputs": [],
   "source": [
    "state = graph.get_state(thread)"
   ]
  },
  {
   "cell_type": "code",
   "execution_count": 60,
   "id": "8384a7c2",
   "metadata": {},
   "outputs": [
    {
     "data": {
      "text/plain": [
       "StateSnapshot(values={'topic': 'the benefits of adopting Langgraph as an agent framework', 'max_analysts': 4, 'analysts': [Analyst(name='Dr. Emily Chen', role='Technology Adoption Specialist', affiliation='Tech Innovators Inc.', description='Dr. Chen focuses on the strategic benefits of adopting new technologies like Langgraph. She is particularly interested in how Langgraph can streamline processes and improve efficiency in various industries. Her motive is to identify technologies that can provide a competitive edge to businesses.'), Analyst(name='Raj Patel', role='AI Framework Analyst', affiliation='FutureTech Research Group', description='Raj Patel analyzes different AI frameworks and their impact on development processes. He is concerned with the flexibility and scalability of Langgraph as an agent framework, and how it compares to other frameworks in terms of ease of integration and performance.'), Analyst(name='Sophia Martinez', role='Business Process Consultant', affiliation='Global Solutions Ltd.', description='Sophia Martinez examines how Langgraph can transform business processes. Her focus is on the practical applications of Langgraph in automating workflows and enhancing decision-making capabilities. She aims to demonstrate the tangible benefits of Langgraph in real-world business scenarios.'), Analyst(name='Dr. Ahmed El-Sayed', role='Data Security Expert', affiliation='CyberSafe Analytics', description=\"Dr. El-Sayed is concerned with the security implications of adopting new technologies like Langgraph. He evaluates the framework's security features and its ability to protect sensitive data. His motive is to ensure that adopting Langgraph does not compromise data integrity and privacy.\")]}, next=('human_feedback',), config={'configurable': {'thread_id': '1', 'checkpoint_ns': '', 'checkpoint_id': '1f0aae9f-578c-6dbf-8001-b0f25fd5439b'}}, metadata={'source': 'loop', 'step': 1, 'parents': {}}, created_at='2025-10-16T23:43:47.092217+00:00', parent_config={'configurable': {'thread_id': '1', 'checkpoint_ns': '', 'checkpoint_id': '1f0aae9f-310c-636b-8000-fc4bffd7a0c7'}}, tasks=(PregelTask(id='c77f4a4e-8766-f23e-968a-406279152a8f', name='human_feedback', path=('__pregel_pull', 'human_feedback'), error=None, interrupts=(), state=None, result=None),), interrupts=())"
      ]
     },
     "execution_count": 60,
     "metadata": {},
     "output_type": "execute_result"
    }
   ],
   "source": [
    "state"
   ]
  },
  {
   "cell_type": "code",
   "execution_count": 232,
   "id": "e9ea5b1f",
   "metadata": {},
   "outputs": [
    {
     "data": {
      "text/plain": [
       "{'topic': 'How can generative AI accelerate drug discovery?',\n",
       " 'max_analysts': 3,\n",
       " 'analysts': [Analyst(name='Dr. Emily Chen', role='AI and Computational Biology Expert', affiliation='Stanford University', description='Dr. Chen focuses on the integration of generative AI models with biological data to enhance the drug discovery process. Her primary concern is ensuring that AI models are trained on diverse and comprehensive datasets to improve their predictive accuracy and reliability. She is motivated by the potential of AI to significantly reduce the time and cost associated with bringing new drugs to market.'),\n",
       "  Analyst(name='Dr. Raj Patel', role='Pharmaceutical Industry Strategist', affiliation='Pfizer', description='Dr. Patel analyzes the strategic implications of adopting generative AI in pharmaceutical companies. He is particularly interested in how AI can streamline the drug development pipeline, from target identification to clinical trials. His concerns include the regulatory challenges and the need for industry-wide standards to ensure AI-driven discoveries are safe and effective. He is motivated by the competitive advantage that AI can provide in the rapidly evolving pharmaceutical landscape.'),\n",
       "  Analyst(name='Dr. Lisa Gomez', role='Ethics and Policy Researcher', affiliation='World Health Organization', description='Dr. Gomez examines the ethical and policy implications of using generative AI in drug discovery. Her focus is on ensuring equitable access to AI-driven innovations and addressing potential biases in AI models that could lead to health disparities. She is concerned about the transparency of AI processes and the need for robust ethical guidelines. Her motivation is to ensure that AI advancements benefit all populations and do not exacerbate existing inequalities in healthcare.')],\n",
       " 'sections': []}"
      ]
     },
     "execution_count": 232,
     "metadata": {},
     "output_type": "execute_result"
    }
   ],
   "source": [
    "state.values"
   ]
  },
  {
   "cell_type": "code",
   "execution_count": 62,
   "id": "679f543b",
   "metadata": {},
   "outputs": [
    {
     "data": {
      "text/plain": [
       "('human_feedback',)"
      ]
     },
     "execution_count": 62,
     "metadata": {},
     "output_type": "execute_result"
    }
   ],
   "source": [
    "\n",
    "state.next"
   ]
  },
  {
   "cell_type": "code",
   "execution_count": 63,
   "id": "c771920b",
   "metadata": {},
   "outputs": [
    {
     "data": {
      "text/plain": [
       "dict_items([('1', defaultdict(<class 'dict'>, {'': {'1f0aae9f-3109-6c1c-bfff-4b467a8dbd68': (('msgpack', b'\\x86\\xa1v\\x04\\xa2ts\\xd9 2025-10-16T23:43:43.053929+00:00\\xa2id\\xd9$1f0aae9f-3109-6c1c-bfff-4b467a8dbd68\\xb0channel_versions\\x81\\xa9__start__\\xd9400000000000000000000000000000001.0.09886794216755856\\xadversions_seen\\x81\\xa9__input__\\x80\\xb0updated_channels\\x91\\xa9__start__'), ('msgpack', b'\\x83\\xa6source\\xa5input\\xa4step\\xff\\xa7parents\\x80'), None), '1f0aae9f-310c-636b-8000-fc4bffd7a0c7': (('msgpack', b'\\x86\\xa1v\\x04\\xa2ts\\xd9 2025-10-16T23:43:43.054935+00:00\\xa2id\\xd9$1f0aae9f-310c-636b-8000-fc4bffd7a0c7\\xb0channel_versions\\x84\\xa9__start__\\xd9400000000000000000000000000000002.0.07639650891392036\\xa5topic\\xd9400000000000000000000000000000002.0.07639650891392036\\xacmax_analysts\\xd9400000000000000000000000000000002.0.07639650891392036\\xb8branch:to:create_analyst\\xd9400000000000000000000000000000002.0.07639650891392036\\xadversions_seen\\x82\\xa9__input__\\x80\\xa9__start__\\x81\\xa9__start__\\xd9400000000000000000000000000000001.0.09886794216755856\\xb0updated_channels\\x93\\xb8branch:to:create_analyst\\xacmax_analysts\\xa5topic'), ('msgpack', b'\\x83\\xa6source\\xa4loop\\xa4step\\x00\\xa7parents\\x80'), '1f0aae9f-3109-6c1c-bfff-4b467a8dbd68'), '1f0aae9f-578c-6dbf-8001-b0f25fd5439b': (('msgpack', b'\\x86\\xa1v\\x04\\xa2ts\\xd9 2025-10-16T23:43:47.092217+00:00\\xa2id\\xd9$1f0aae9f-578c-6dbf-8001-b0f25fd5439b\\xb0channel_versions\\x86\\xa9__start__\\xd9400000000000000000000000000000002.0.07639650891392036\\xa5topic\\xd9400000000000000000000000000000002.0.07639650891392036\\xacmax_analysts\\xd9400000000000000000000000000000002.0.07639650891392036\\xb8branch:to:create_analyst\\xd9300000000000000000000000000000003.0.9223265408262712\\xa8analysts\\xd9300000000000000000000000000000003.0.9223265408262712\\xb8branch:to:human_feedback\\xd9300000000000000000000000000000003.0.9223265408262712\\xadversions_seen\\x83\\xa9__input__\\x80\\xa9__start__\\x81\\xa9__start__\\xd9400000000000000000000000000000001.0.09886794216755856\\xaecreate_analyst\\x81\\xb8branch:to:create_analyst\\xd9400000000000000000000000000000002.0.07639650891392036\\xb0updated_channels\\x92\\xa8analysts\\xb8branch:to:human_feedback'), ('msgpack', b'\\x83\\xa6source\\xa4loop\\xa4step\\x01\\xa7parents\\x80'), '1f0aae9f-310c-636b-8000-fc4bffd7a0c7')}}))])"
      ]
     },
     "execution_count": 63,
     "metadata": {},
     "output_type": "execute_result"
    }
   ],
   "source": [
    "memory.storage.items()"
   ]
  },
  {
   "cell_type": "code",
   "execution_count": null,
   "id": "0de5ddfc",
   "metadata": {},
   "outputs": [],
   "source": [
    "# import msgpack\n",
    "\n",
    "# for thread_id, ns_dict in memory.storage.items():\n",
    "#     print(f\"\\n Thread ID: {thread_id}\")\n",
    "    \n",
    "#     # ns_dict = defaultdict(dict, {'': {...}})\n",
    "#     for ns, ckpts in ns_dict.items():\n",
    "#         print(f\"  Namespace: '{ns}'\")\n",
    "        \n",
    "#         # ckpts = dict of {checkpoint_id: (packed_values, packed_metadata, parent_id)}\n",
    "#         for ckpt_id, (packed_values, packed_metadata, parent_id) in ckpts.items():\n",
    "#             print(f\"    Checkpoint ID: {ckpt_id}\")\n",
    "            \n",
    "#             # Decode msgpack binary\n",
    "#             values = msgpack.unpackb(packed_values[1], raw=False)\n",
    "#             meta = msgpack.unpackb(packed_metadata[1], raw=False)\n",
    "            \n",
    "#             print(f\"    Values keys: {list(values.keys())}\")\n",
    "#             print(f\"    Parent ID: {parent_id}\")\n",
    "#             print(f\"    Metadata: {meta}\")\n",
    "#             print(\"-\" * 80)"
   ]
  },
  {
   "cell_type": "code",
   "execution_count": 64,
   "id": "67bc8958",
   "metadata": {},
   "outputs": [
    {
     "data": {
      "text/plain": [
       "{'configurable': {'thread_id': '1',\n",
       "  'checkpoint_ns': '',\n",
       "  'checkpoint_id': '1f0aae9f-578c-6dbf-8001-b0f25fd5439b'}}"
      ]
     },
     "execution_count": 64,
     "metadata": {},
     "output_type": "execute_result"
    }
   ],
   "source": [
    "state.config"
   ]
  },
  {
   "cell_type": "code",
   "execution_count": 235,
   "id": "06c5b95c",
   "metadata": {},
   "outputs": [
    {
     "ename": "KeyError",
     "evalue": "'create_analyst'",
     "output_type": "error",
     "traceback": [
      "\u001b[31m---------------------------------------------------------------------------\u001b[39m",
      "\u001b[31mKeyError\u001b[39m                                  Traceback (most recent call last)",
      "\u001b[36mCell\u001b[39m\u001b[36m \u001b[39m\u001b[32mIn[235]\u001b[39m\u001b[32m, line 1\u001b[39m\n\u001b[32m----> \u001b[39m\u001b[32m1\u001b[39m \u001b[43mgraph\u001b[49m\u001b[43m.\u001b[49m\u001b[43mupdate_state\u001b[49m\u001b[43m(\u001b[49m\u001b[43mthread\u001b[49m\u001b[43m,\u001b[49m\n\u001b[32m      2\u001b[39m \u001b[43m                   \u001b[49m\u001b[43m{\u001b[49m\u001b[33;43m\"\u001b[39;49m\u001b[33;43mhuman_analyst_feedback\u001b[39;49m\u001b[33;43m\"\u001b[39;49m\u001b[43m:\u001b[49m\u001b[33;43m\"\u001b[39;49m\u001b[33;43madd something from the startup perspective and focus on the latest enterprise application\u001b[39;49m\u001b[33;43m\"\u001b[39;49m\u001b[43m}\u001b[49m\u001b[43m,\u001b[49m\n\u001b[32m      3\u001b[39m \u001b[43m                   \u001b[49m\u001b[43mas_node\u001b[49m\u001b[43m=\u001b[49m\u001b[33;43m\"\u001b[39;49m\u001b[33;43mhuman_feedback\u001b[39;49m\u001b[33;43m\"\u001b[39;49m\n\u001b[32m      4\u001b[39m \u001b[43m                   \u001b[49m\u001b[43m)\u001b[49m\n",
      "\u001b[36mFile \u001b[39m\u001b[32md:\\Data\\Projects\\llm-research-genie\\.venv\\Lib\\site-packages\\langgraph\\pregel\\main.py:2339\u001b[39m, in \u001b[36mPregel.update_state\u001b[39m\u001b[34m(self, config, values, as_node, task_id)\u001b[39m\n\u001b[32m   2328\u001b[39m \u001b[38;5;28;01mdef\u001b[39;00m\u001b[38;5;250m \u001b[39m\u001b[34mupdate_state\u001b[39m(\n\u001b[32m   2329\u001b[39m     \u001b[38;5;28mself\u001b[39m,\n\u001b[32m   2330\u001b[39m     config: RunnableConfig,\n\u001b[32m   (...)\u001b[39m\u001b[32m   2333\u001b[39m     task_id: \u001b[38;5;28mstr\u001b[39m | \u001b[38;5;28;01mNone\u001b[39;00m = \u001b[38;5;28;01mNone\u001b[39;00m,\n\u001b[32m   2334\u001b[39m ) -> RunnableConfig:\n\u001b[32m   2335\u001b[39m \u001b[38;5;250m    \u001b[39m\u001b[33;03m\"\"\"Update the state of the graph with the given values, as if they came from\u001b[39;00m\n\u001b[32m   2336\u001b[39m \u001b[33;03m    node `as_node`. If `as_node` is not provided, it will be set to the last node\u001b[39;00m\n\u001b[32m   2337\u001b[39m \u001b[33;03m    that updated the state, if not ambiguous.\u001b[39;00m\n\u001b[32m   2338\u001b[39m \u001b[33;03m    \"\"\"\u001b[39;00m\n\u001b[32m-> \u001b[39m\u001b[32m2339\u001b[39m     \u001b[38;5;28;01mreturn\u001b[39;00m \u001b[38;5;28;43mself\u001b[39;49m\u001b[43m.\u001b[49m\u001b[43mbulk_update_state\u001b[49m\u001b[43m(\u001b[49m\u001b[43mconfig\u001b[49m\u001b[43m,\u001b[49m\u001b[43m \u001b[49m\u001b[43m[\u001b[49m\u001b[43m[\u001b[49m\u001b[43mStateUpdate\u001b[49m\u001b[43m(\u001b[49m\u001b[43mvalues\u001b[49m\u001b[43m,\u001b[49m\u001b[43m \u001b[49m\u001b[43mas_node\u001b[49m\u001b[43m,\u001b[49m\u001b[43m \u001b[49m\u001b[43mtask_id\u001b[49m\u001b[43m)\u001b[49m\u001b[43m]\u001b[49m\u001b[43m]\u001b[49m\u001b[43m)\u001b[49m\n",
      "\u001b[36mFile \u001b[39m\u001b[32md:\\Data\\Projects\\llm-research-genie\\.venv\\Lib\\site-packages\\langgraph\\pregel\\main.py:1872\u001b[39m, in \u001b[36mPregel.bulk_update_state\u001b[39m\u001b[34m(self, config, supersteps)\u001b[39m\n\u001b[32m   1868\u001b[39m current_config = patch_configurable(\n\u001b[32m   1869\u001b[39m     config, {CONFIG_KEY_THREAD_ID: \u001b[38;5;28mstr\u001b[39m(config[CONF][CONFIG_KEY_THREAD_ID])}\n\u001b[32m   1870\u001b[39m )\n\u001b[32m   1871\u001b[39m \u001b[38;5;28;01mfor\u001b[39;00m superstep \u001b[38;5;129;01min\u001b[39;00m supersteps:\n\u001b[32m-> \u001b[39m\u001b[32m1872\u001b[39m     current_config = \u001b[43mperform_superstep\u001b[49m\u001b[43m(\u001b[49m\u001b[43mcurrent_config\u001b[49m\u001b[43m,\u001b[49m\u001b[43m \u001b[49m\u001b[43msuperstep\u001b[49m\u001b[43m)\u001b[49m\n\u001b[32m   1873\u001b[39m \u001b[38;5;28;01mreturn\u001b[39;00m current_config\n",
      "\u001b[36mFile \u001b[39m\u001b[32md:\\Data\\Projects\\llm-research-genie\\.venv\\Lib\\site-packages\\langgraph\\pregel\\main.py:1807\u001b[39m, in \u001b[36mPregel.bulk_update_state.<locals>.perform_superstep\u001b[39m\u001b[34m(input_config, updates)\u001b[39m\n\u001b[32m   1805\u001b[39m     run = RunnableSequence(*writers) \u001b[38;5;28;01mif\u001b[39;00m \u001b[38;5;28mlen\u001b[39m(writers) > \u001b[32m1\u001b[39m \u001b[38;5;28;01melse\u001b[39;00m writers[\u001b[32m0\u001b[39m]\n\u001b[32m   1806\u001b[39m     \u001b[38;5;66;03m# execute task\u001b[39;00m\n\u001b[32m-> \u001b[39m\u001b[32m1807\u001b[39m     \u001b[43mrun\u001b[49m\u001b[43m.\u001b[49m\u001b[43minvoke\u001b[49m\u001b[43m(\u001b[49m\n\u001b[32m   1808\u001b[39m \u001b[43m        \u001b[49m\u001b[43mvalues\u001b[49m\u001b[43m,\u001b[49m\n\u001b[32m   1809\u001b[39m \u001b[43m        \u001b[49m\u001b[43mpatch_config\u001b[49m\u001b[43m(\u001b[49m\n\u001b[32m   1810\u001b[39m \u001b[43m            \u001b[49m\u001b[43mconfig\u001b[49m\u001b[43m,\u001b[49m\n\u001b[32m   1811\u001b[39m \u001b[43m            \u001b[49m\u001b[43mrun_name\u001b[49m\u001b[43m=\u001b[49m\u001b[38;5;28;43mself\u001b[39;49m\u001b[43m.\u001b[49m\u001b[43mname\u001b[49m\u001b[43m \u001b[49m\u001b[43m+\u001b[49m\u001b[43m \u001b[49m\u001b[33;43m\"\u001b[39;49m\u001b[33;43mUpdateState\u001b[39;49m\u001b[33;43m\"\u001b[39;49m\u001b[43m,\u001b[49m\n\u001b[32m   1812\u001b[39m \u001b[43m            \u001b[49m\u001b[43mconfigurable\u001b[49m\u001b[43m=\u001b[49m\u001b[43m{\u001b[49m\n\u001b[32m   1813\u001b[39m \u001b[43m                \u001b[49m\u001b[38;5;66;43;03m# deque.extend is thread-safe\u001b[39;49;00m\n\u001b[32m   1814\u001b[39m \u001b[43m                \u001b[49m\u001b[43mCONFIG_KEY_SEND\u001b[49m\u001b[43m:\u001b[49m\u001b[43m \u001b[49m\u001b[43mwrites\u001b[49m\u001b[43m.\u001b[49m\u001b[43mextend\u001b[49m\u001b[43m,\u001b[49m\n\u001b[32m   1815\u001b[39m \u001b[43m                \u001b[49m\u001b[43mCONFIG_KEY_TASK_ID\u001b[49m\u001b[43m:\u001b[49m\u001b[43m \u001b[49m\u001b[43mtask_id\u001b[49m\u001b[43m,\u001b[49m\n\u001b[32m   1816\u001b[39m \u001b[43m                \u001b[49m\u001b[43mCONFIG_KEY_READ\u001b[49m\u001b[43m:\u001b[49m\u001b[43m \u001b[49m\u001b[43mpartial\u001b[49m\u001b[43m(\u001b[49m\n\u001b[32m   1817\u001b[39m \u001b[43m                    \u001b[49m\u001b[43mlocal_read\u001b[49m\u001b[43m,\u001b[49m\n\u001b[32m   1818\u001b[39m \u001b[43m                    \u001b[49m\u001b[43m_scratchpad\u001b[49m\u001b[43m(\u001b[49m\n\u001b[32m   1819\u001b[39m \u001b[43m                        \u001b[49m\u001b[38;5;28;43;01mNone\u001b[39;49;00m\u001b[43m,\u001b[49m\n\u001b[32m   1820\u001b[39m \u001b[43m                        \u001b[49m\u001b[43m[\u001b[49m\u001b[43m]\u001b[49m\u001b[43m,\u001b[49m\n\u001b[32m   1821\u001b[39m \u001b[43m                        \u001b[49m\u001b[43mtask_id\u001b[49m\u001b[43m,\u001b[49m\n\u001b[32m   1822\u001b[39m \u001b[43m                        \u001b[49m\u001b[33;43m\"\u001b[39;49m\u001b[33;43m\"\u001b[39;49m\u001b[43m,\u001b[49m\n\u001b[32m   1823\u001b[39m \u001b[43m                        \u001b[49m\u001b[38;5;28;43;01mNone\u001b[39;49;00m\u001b[43m,\u001b[49m\n\u001b[32m   1824\u001b[39m \u001b[43m                        \u001b[49m\u001b[43mstep\u001b[49m\u001b[43m,\u001b[49m\n\u001b[32m   1825\u001b[39m \u001b[43m                        \u001b[49m\u001b[43mstep\u001b[49m\u001b[43m \u001b[49m\u001b[43m+\u001b[49m\u001b[43m \u001b[49m\u001b[32;43m2\u001b[39;49m\u001b[43m,\u001b[49m\n\u001b[32m   1826\u001b[39m \u001b[43m                    \u001b[49m\u001b[43m)\u001b[49m\u001b[43m,\u001b[49m\n\u001b[32m   1827\u001b[39m \u001b[43m                    \u001b[49m\u001b[43mchannels\u001b[49m\u001b[43m,\u001b[49m\n\u001b[32m   1828\u001b[39m \u001b[43m                    \u001b[49m\u001b[43mmanaged\u001b[49m\u001b[43m,\u001b[49m\n\u001b[32m   1829\u001b[39m \u001b[43m                    \u001b[49m\u001b[43mtask\u001b[49m\u001b[43m,\u001b[49m\n\u001b[32m   1830\u001b[39m \u001b[43m                \u001b[49m\u001b[43m)\u001b[49m\u001b[43m,\u001b[49m\n\u001b[32m   1831\u001b[39m \u001b[43m            \u001b[49m\u001b[43m}\u001b[49m\u001b[43m,\u001b[49m\n\u001b[32m   1832\u001b[39m \u001b[43m        \u001b[49m\u001b[43m)\u001b[49m\u001b[43m,\u001b[49m\n\u001b[32m   1833\u001b[39m \u001b[43m    \u001b[49m\u001b[43m)\u001b[49m\n\u001b[32m   1834\u001b[39m \u001b[38;5;66;03m# save task writes\u001b[39;00m\n\u001b[32m   1835\u001b[39m \u001b[38;5;28;01mfor\u001b[39;00m task_id, task \u001b[38;5;129;01min\u001b[39;00m \u001b[38;5;28mzip\u001b[39m(run_task_ids, run_tasks):\n\u001b[32m   1836\u001b[39m     \u001b[38;5;66;03m# channel writes are saved to current checkpoint\u001b[39;00m\n",
      "\u001b[36mFile \u001b[39m\u001b[32md:\\Data\\Projects\\llm-research-genie\\.venv\\Lib\\site-packages\\langchain_core\\runnables\\base.py:3246\u001b[39m, in \u001b[36mRunnableSequence.invoke\u001b[39m\u001b[34m(self, input, config, **kwargs)\u001b[39m\n\u001b[32m   3244\u001b[39m                 input_ = context.run(step.invoke, input_, config, **kwargs)\n\u001b[32m   3245\u001b[39m             \u001b[38;5;28;01melse\u001b[39;00m:\n\u001b[32m-> \u001b[39m\u001b[32m3246\u001b[39m                 input_ = context.run(step.invoke, input_, config)\n\u001b[32m   3247\u001b[39m \u001b[38;5;66;03m# finish the root run\u001b[39;00m\n\u001b[32m   3248\u001b[39m \u001b[38;5;28;01mexcept\u001b[39;00m \u001b[38;5;167;01mBaseException\u001b[39;00m \u001b[38;5;28;01mas\u001b[39;00m e:\n",
      "\u001b[36mFile \u001b[39m\u001b[32md:\\Data\\Projects\\llm-research-genie\\.venv\\Lib\\site-packages\\langgraph\\_internal\\_runnable.py:401\u001b[39m, in \u001b[36mRunnableCallable.invoke\u001b[39m\u001b[34m(self, input, config, **kwargs)\u001b[39m\n\u001b[32m    399\u001b[39m         run_manager.on_chain_end(ret)\n\u001b[32m    400\u001b[39m \u001b[38;5;28;01melse\u001b[39;00m:\n\u001b[32m--> \u001b[39m\u001b[32m401\u001b[39m     ret = \u001b[38;5;28;43mself\u001b[39;49m\u001b[43m.\u001b[49m\u001b[43mfunc\u001b[49m\u001b[43m(\u001b[49m\u001b[43m*\u001b[49m\u001b[43margs\u001b[49m\u001b[43m,\u001b[49m\u001b[43m \u001b[49m\u001b[43m*\u001b[49m\u001b[43m*\u001b[49m\u001b[43mkwargs\u001b[49m\u001b[43m)\u001b[49m\n\u001b[32m    402\u001b[39m \u001b[38;5;28;01mif\u001b[39;00m \u001b[38;5;28mself\u001b[39m.recurse \u001b[38;5;129;01mand\u001b[39;00m \u001b[38;5;28misinstance\u001b[39m(ret, Runnable):\n\u001b[32m    403\u001b[39m     \u001b[38;5;28;01mreturn\u001b[39;00m ret.invoke(\u001b[38;5;28minput\u001b[39m, config)\n",
      "\u001b[36mFile \u001b[39m\u001b[32md:\\Data\\Projects\\llm-research-genie\\.venv\\Lib\\site-packages\\langgraph\\graph\\_branch.py:169\u001b[39m, in \u001b[36mBranchSpec._route\u001b[39m\u001b[34m(self, input, config, reader, writer)\u001b[39m\n\u001b[32m    167\u001b[39m     value = \u001b[38;5;28minput\u001b[39m\n\u001b[32m    168\u001b[39m result = \u001b[38;5;28mself\u001b[39m.path.invoke(value, config)\n\u001b[32m--> \u001b[39m\u001b[32m169\u001b[39m \u001b[38;5;28;01mreturn\u001b[39;00m \u001b[38;5;28;43mself\u001b[39;49m\u001b[43m.\u001b[49m\u001b[43m_finish\u001b[49m\u001b[43m(\u001b[49m\u001b[43mwriter\u001b[49m\u001b[43m,\u001b[49m\u001b[43m \u001b[49m\u001b[38;5;28;43minput\u001b[39;49m\u001b[43m,\u001b[49m\u001b[43m \u001b[49m\u001b[43mresult\u001b[49m\u001b[43m,\u001b[49m\u001b[43m \u001b[49m\u001b[43mconfig\u001b[49m\u001b[43m)\u001b[49m\n",
      "\u001b[36mFile \u001b[39m\u001b[32md:\\Data\\Projects\\llm-research-genie\\.venv\\Lib\\site-packages\\langgraph\\graph\\_branch.py:204\u001b[39m, in \u001b[36mBranchSpec._finish\u001b[39m\u001b[34m(self, writer, input, result, config)\u001b[39m\n\u001b[32m    202\u001b[39m     result = [result]\n\u001b[32m    203\u001b[39m \u001b[38;5;28;01mif\u001b[39;00m \u001b[38;5;28mself\u001b[39m.ends:\n\u001b[32m--> \u001b[39m\u001b[32m204\u001b[39m     destinations: Sequence[Send | \u001b[38;5;28mstr\u001b[39m] = \u001b[43m[\u001b[49m\n\u001b[32m    205\u001b[39m \u001b[43m        \u001b[49m\u001b[43mr\u001b[49m\u001b[43m \u001b[49m\u001b[38;5;28;43;01mif\u001b[39;49;00m\u001b[43m \u001b[49m\u001b[38;5;28;43misinstance\u001b[39;49m\u001b[43m(\u001b[49m\u001b[43mr\u001b[49m\u001b[43m,\u001b[49m\u001b[43m \u001b[49m\u001b[43mSend\u001b[49m\u001b[43m)\u001b[49m\u001b[43m \u001b[49m\u001b[38;5;28;43;01melse\u001b[39;49;00m\u001b[43m \u001b[49m\u001b[38;5;28;43mself\u001b[39;49m\u001b[43m.\u001b[49m\u001b[43mends\u001b[49m\u001b[43m[\u001b[49m\u001b[43mr\u001b[49m\u001b[43m]\u001b[49m\u001b[43m \u001b[49m\u001b[38;5;28;43;01mfor\u001b[39;49;00m\u001b[43m \u001b[49m\u001b[43mr\u001b[49m\u001b[43m \u001b[49m\u001b[38;5;129;43;01min\u001b[39;49;00m\u001b[43m \u001b[49m\u001b[43mresult\u001b[49m\n\u001b[32m    206\u001b[39m \u001b[43m    \u001b[49m\u001b[43m]\u001b[49m\n\u001b[32m    207\u001b[39m \u001b[38;5;28;01melse\u001b[39;00m:\n\u001b[32m    208\u001b[39m     destinations = cast(Sequence[Union[Send, \u001b[38;5;28mstr\u001b[39m]], result)\n",
      "\u001b[36mFile \u001b[39m\u001b[32md:\\Data\\Projects\\llm-research-genie\\.venv\\Lib\\site-packages\\langgraph\\graph\\_branch.py:205\u001b[39m, in \u001b[36m<listcomp>\u001b[39m\u001b[34m(.0)\u001b[39m\n\u001b[32m    202\u001b[39m     result = [result]\n\u001b[32m    203\u001b[39m \u001b[38;5;28;01mif\u001b[39;00m \u001b[38;5;28mself\u001b[39m.ends:\n\u001b[32m    204\u001b[39m     destinations: Sequence[Send | \u001b[38;5;28mstr\u001b[39m] = [\n\u001b[32m--> \u001b[39m\u001b[32m205\u001b[39m         r \u001b[38;5;28;01mif\u001b[39;00m \u001b[38;5;28misinstance\u001b[39m(r, Send) \u001b[38;5;28;01melse\u001b[39;00m \u001b[38;5;28;43mself\u001b[39;49m\u001b[43m.\u001b[49m\u001b[43mends\u001b[49m\u001b[43m[\u001b[49m\u001b[43mr\u001b[49m\u001b[43m]\u001b[49m \u001b[38;5;28;01mfor\u001b[39;00m r \u001b[38;5;129;01min\u001b[39;00m result\n\u001b[32m    206\u001b[39m     ]\n\u001b[32m    207\u001b[39m \u001b[38;5;28;01melse\u001b[39;00m:\n\u001b[32m    208\u001b[39m     destinations = cast(Sequence[Union[Send, \u001b[38;5;28mstr\u001b[39m]], result)\n",
      "\u001b[31mKeyError\u001b[39m: 'create_analyst'"
     ]
    }
   ],
   "source": [
    "graph.update_state(thread,\n",
    "                   {\"human_analyst_feedback\":\"add something from the startup perspective and focus on the latest enterprise application\"},\n",
    "                   as_node=\"human_feedback\"\n",
    "                   )"
   ]
  },
  {
   "cell_type": "code",
   "execution_count": 68,
   "id": "ab9c852a",
   "metadata": {},
   "outputs": [
    {
     "name": "stdout",
     "output_type": "stream",
     "text": [
      "Name: Dr. Emily Chen\n",
      "Affiliation: Tech Innovators Inc.\n",
      "Role: Technology Adoption Specialist\n",
      "Description: Dr. Chen focuses on the strategic benefits of adopting new technologies like Langgraph. She is particularly interested in how Langgraph can streamline processes and improve efficiency in various industries. Her motive is to identify technologies that can provide a competitive edge to businesses.\n",
      "--------------------------------------------------\n",
      "Name: Raj Patel\n",
      "Affiliation: FutureTech Research Group\n",
      "Role: AI Framework Analyst\n",
      "Description: Raj Patel analyzes different AI frameworks and their impact on development processes. He is concerned with the flexibility and scalability of Langgraph as an agent framework, and how it compares to other frameworks in terms of ease of integration and performance.\n",
      "--------------------------------------------------\n",
      "Name: Sophia Martinez\n",
      "Affiliation: Global Solutions Ltd.\n",
      "Role: Business Process Consultant\n",
      "Description: Sophia Martinez examines how Langgraph can transform business processes. Her focus is on the practical applications of Langgraph in automating workflows and enhancing decision-making capabilities. She aims to demonstrate the tangible benefits of Langgraph in real-world business scenarios.\n",
      "--------------------------------------------------\n",
      "Name: Dr. Ahmed El-Sayed\n",
      "Affiliation: CyberSafe Analytics\n",
      "Role: Data Security Expert\n",
      "Description: Dr. El-Sayed is concerned with the security implications of adopting new technologies like Langgraph. He evaluates the framework's security features and its ability to protect sensitive data. His motive is to ensure that adopting Langgraph does not compromise data integrity and privacy.\n",
      "--------------------------------------------------\n"
     ]
    },
    {
     "name": "stderr",
     "output_type": "stream",
     "text": [
      "HTTP Request: POST https://api.openai.com/v1/chat/completions \"HTTP/1.1 200 OK\"\n"
     ]
    },
    {
     "name": "stdout",
     "output_type": "stream",
     "text": [
      "Name: Sophia Tran\n",
      "Affiliation: Tech Innovators Network\n",
      "Role: Startup Ecosystem Analyst\n",
      "Description: Sophia focuses on the impact of adopting new technologies like Langgraph within startup environments. She is particularly interested in how Langgraph can streamline operations, reduce costs, and enhance scalability for startups. Her analysis often includes case studies of early-stage companies that have successfully integrated Langgraph into their workflows.\n",
      "--------------------------------------------------\n",
      "Name: Michael Chen\n",
      "Affiliation: Global Enterprise Solutions\n",
      "Role: Enterprise Application Specialist\n",
      "Affiliation: Tech Innovators Network\n",
      "Role: Startup Ecosystem Analyst\n",
      "Description: Sophia focuses on the impact of adopting new technologies like Langgraph within startup environments. She is particularly interested in how Langgraph can streamline operations, reduce costs, and enhance scalability for startups. Her analysis often includes case studies of early-stage companies that have successfully integrated Langgraph into their workflows.\n",
      "--------------------------------------------------\n",
      "Name: Michael Chen\n",
      "Affiliation: Global Enterprise Solutions\n",
      "Role: Enterprise Application Specialist\n",
      "Description: Michael specializes in the latest enterprise applications and how they can be optimized using frameworks like Langgraph. He examines how large organizations can leverage Langgraph to improve efficiency, enhance data processing capabilities, and support complex decision-making processes. His insights are geared towards CIOs and IT managers looking to modernize their tech stack.\n",
      "--------------------------------------------------\n",
      "Name: Aisha Patel\n",
      "Affiliation: Institute of Advanced AI Studies\n",
      "Role: AI Framework Researcher\n",
      "Description: Aisha's research delves into the technical benefits of adopting Langgraph as an agent framework. She explores its architecture, flexibility, and integration capabilities with existing AI systems. Her work is aimed at developers and researchers interested in the technical underpinnings and potential of Langgraph to advance AI applications.\n",
      "--------------------------------------------------\n",
      "Name: Liam O'Reilly\n",
      "Affiliation: FutureTech Consulting\n",
      "Role: Business Strategy Consultant\n",
      "Description: Liam advises businesses on strategic adoption of emerging technologies. He focuses on how Langgraph can be a game-changer in aligning business strategies with technological advancements. His analysis includes market trends, competitive advantages, and long-term benefits of integrating Langgraph into business models, particularly for companies looking to stay ahead in the digital transformation race.\n",
      "--------------------------------------------------\n"
     ]
    }
   ],
   "source": [
    "for event in graph.stream({\"topic\":topic,\n",
    "              \"max_analysts\":max_analysts},\n",
    "             thread,\n",
    "             stream_mode= \"values\"):\n",
    "    analysts = event.get('analysts', '')\n",
    "    \n",
    "    if analysts:\n",
    "        for analyst in analysts:\n",
    "            print(f\"Name: {analyst.name}\")\n",
    "            print(f\"Affiliation: {analyst.affiliation}\")\n",
    "            print(f\"Role: {analyst.role}\")\n",
    "            print(f\"Description: {analyst.description}\")\n",
    "            print(\"-\" * 50)  "
   ]
  },
  {
   "cell_type": "code",
   "execution_count": 69,
   "id": "49042bd0",
   "metadata": {},
   "outputs": [],
   "source": [
    "state = graph.get_state(thread)"
   ]
  },
  {
   "cell_type": "code",
   "execution_count": 70,
   "id": "b4a7cdcb",
   "metadata": {},
   "outputs": [
    {
     "data": {
      "text/plain": [
       "StateSnapshot(values={'topic': 'the benefits of adopting Langgraph as an agent framework', 'max_analysts': 4, 'human_analyst_feedback': 'add something from the startup perspective and focus on the latest enterprise application', 'analysts': [Analyst(name='Sophia Tran', role='Startup Ecosystem Analyst', affiliation='Tech Innovators Network', description='Sophia focuses on the impact of adopting new technologies like Langgraph within startup environments. She is particularly interested in how Langgraph can streamline operations, reduce costs, and enhance scalability for startups. Her analysis often includes case studies of early-stage companies that have successfully integrated Langgraph into their workflows.'), Analyst(name='Michael Chen', role='Enterprise Application Specialist', affiliation='Global Enterprise Solutions', description='Michael specializes in the latest enterprise applications and how they can be optimized using frameworks like Langgraph. He examines how large organizations can leverage Langgraph to improve efficiency, enhance data processing capabilities, and support complex decision-making processes. His insights are geared towards CIOs and IT managers looking to modernize their tech stack.'), Analyst(name='Aisha Patel', role='AI Framework Researcher', affiliation='Institute of Advanced AI Studies', description=\"Aisha's research delves into the technical benefits of adopting Langgraph as an agent framework. She explores its architecture, flexibility, and integration capabilities with existing AI systems. Her work is aimed at developers and researchers interested in the technical underpinnings and potential of Langgraph to advance AI applications.\"), Analyst(name=\"Liam O'Reilly\", role='Business Strategy Consultant', affiliation='FutureTech Consulting', description='Liam advises businesses on strategic adoption of emerging technologies. He focuses on how Langgraph can be a game-changer in aligning business strategies with technological advancements. His analysis includes market trends, competitive advantages, and long-term benefits of integrating Langgraph into business models, particularly for companies looking to stay ahead in the digital transformation race.')]}, next=('human_feedback',), config={'configurable': {'thread_id': '1', 'checkpoint_ns': '', 'checkpoint_id': '1f0aaea6-cee6-627b-8005-d2f12d81e8ca'}}, metadata={'source': 'loop', 'step': 5, 'parents': {}}, created_at='2025-10-16T23:47:07.511666+00:00', parent_config={'configurable': {'thread_id': '1', 'checkpoint_ns': '', 'checkpoint_id': '1f0aaea6-8686-6d96-8004-b297a108f529'}}, tasks=(PregelTask(id='630512d1-1319-afca-61c5-48f6314ebc80', name='human_feedback', path=('__pregel_pull', 'human_feedback'), error=None, interrupts=(), state=None, result=None),), interrupts=())"
      ]
     },
     "execution_count": 70,
     "metadata": {},
     "output_type": "execute_result"
    }
   ],
   "source": [
    "\n",
    "state"
   ]
  },
  {
   "cell_type": "code",
   "execution_count": 71,
   "id": "ec8a10c9",
   "metadata": {},
   "outputs": [
    {
     "data": {
      "text/plain": [
       "('human_feedback',)"
      ]
     },
     "execution_count": 71,
     "metadata": {},
     "output_type": "execute_result"
    }
   ],
   "source": [
    "\n",
    "state.next"
   ]
  },
  {
   "cell_type": "code",
   "execution_count": 72,
   "id": "2fab1b70",
   "metadata": {},
   "outputs": [
    {
     "data": {
      "text/plain": [
       "{'topic': 'the benefits of adopting Langgraph as an agent framework',\n",
       " 'max_analysts': 4,\n",
       " 'human_analyst_feedback': 'add something from the startup perspective and focus on the latest enterprise application',\n",
       " 'analysts': [Analyst(name='Sophia Tran', role='Startup Ecosystem Analyst', affiliation='Tech Innovators Network', description='Sophia focuses on the impact of adopting new technologies like Langgraph within startup environments. She is particularly interested in how Langgraph can streamline operations, reduce costs, and enhance scalability for startups. Her analysis often includes case studies of early-stage companies that have successfully integrated Langgraph into their workflows.'),\n",
       "  Analyst(name='Michael Chen', role='Enterprise Application Specialist', affiliation='Global Enterprise Solutions', description='Michael specializes in the latest enterprise applications and how they can be optimized using frameworks like Langgraph. He examines how large organizations can leverage Langgraph to improve efficiency, enhance data processing capabilities, and support complex decision-making processes. His insights are geared towards CIOs and IT managers looking to modernize their tech stack.'),\n",
       "  Analyst(name='Aisha Patel', role='AI Framework Researcher', affiliation='Institute of Advanced AI Studies', description=\"Aisha's research delves into the technical benefits of adopting Langgraph as an agent framework. She explores its architecture, flexibility, and integration capabilities with existing AI systems. Her work is aimed at developers and researchers interested in the technical underpinnings and potential of Langgraph to advance AI applications.\"),\n",
       "  Analyst(name=\"Liam O'Reilly\", role='Business Strategy Consultant', affiliation='FutureTech Consulting', description='Liam advises businesses on strategic adoption of emerging technologies. He focuses on how Langgraph can be a game-changer in aligning business strategies with technological advancements. His analysis includes market trends, competitive advantages, and long-term benefits of integrating Langgraph into business models, particularly for companies looking to stay ahead in the digital transformation race.')]}"
      ]
     },
     "execution_count": 72,
     "metadata": {},
     "output_type": "execute_result"
    }
   ],
   "source": [
    "\n",
    "state.values"
   ]
  },
  {
   "cell_type": "code",
   "execution_count": null,
   "id": "47bd9ea1",
   "metadata": {},
   "outputs": [],
   "source": [
    "# import msgpack\n",
    "\n",
    "# def get_all_checkpoints(memory, thread_id=\"1\"):\n",
    "#     \"\"\"Return all checkpoints in chronological order for a thread.\"\"\"\n",
    "#     checkpoints = []\n",
    "#     ns_dict = memory.storage.get(thread_id, {})\n",
    "#     if \"\" not in ns_dict:\n",
    "#         return []\n",
    "\n",
    "#     for ckpt_id, (packed_values, packed_meta, parent_id) in ns_dict[\"\"].items():\n",
    "#         values = msgpack.unpackb(packed_values[1], raw=False)\n",
    "#         meta = msgpack.unpackb(packed_meta[1], raw=False)\n",
    "#         checkpoints.append({\n",
    "#             \"id\": ckpt_id,\n",
    "#             \"parent\": parent_id,\n",
    "#             \"topic\": values.get(\"topic\"),\n",
    "#             \"feedback\": values.get(\"human_analyst_feedback\"),\n",
    "#             \"analyst_count\": len(values.get(\"analysts\", [])),\n",
    "#             \"analysts\": [a.model_dump() for a in values.get(\"analysts\", [])],\n",
    "#             \"step\": meta.get(\"step\"),\n",
    "#             \"created_at\": values.get(\"ts\", None)\n",
    "#         })\n",
    "#     return checkpoints\n",
    "\n",
    "# # Fetch all\n",
    "# history = get_all_checkpoints(memory)\n",
    "\n",
    "# # Sort by step (to get chronological order)\n",
    "# history = sorted(history, key=lambda x: (x[\"step\"] or 0))\n",
    "\n",
    "# # Display neatly\n",
    "# for h in history:\n",
    "#     print(f\"\\nSTEP {h['step']} | CHECKPOINT {h['id']}\")\n",
    "#     print(f\"Parent: {h['parent']}\")\n",
    "#     print(f\"Topic: {h['topic']}\")\n",
    "#     print(f\"Feedback: {h['feedback']}\")\n",
    "#     print(f\"Analysts generated: {h['analyst_count']}\")\n",
    "#     print(\"-\"*100)"
   ]
  },
  {
   "cell_type": "code",
   "execution_count": 73,
   "id": "7745bd51",
   "metadata": {},
   "outputs": [],
   "source": [
    "# If we are satisfied, then we simply supply no feedback\n",
    "further_feedack = \"\""
   ]
  },
  {
   "cell_type": "code",
   "execution_count": 76,
   "id": "58e68331",
   "metadata": {},
   "outputs": [],
   "source": [
    "# 1) Get the latest state (you're paused at 'human_feedback')\n",
    "state = graph.get_state(thread)\n",
    "\n",
    "# 2) Use the exact config from that state (it already has thread_id, checkpoint_ns, checkpoint_id)\n",
    "cfg = state.config"
   ]
  },
  {
   "cell_type": "code",
   "execution_count": 77,
   "id": "9e906075",
   "metadata": {},
   "outputs": [
    {
     "ename": "KeyError",
     "evalue": "None",
     "output_type": "error",
     "traceback": [
      "\u001b[31m---------------------------------------------------------------------------\u001b[39m",
      "\u001b[31mKeyError\u001b[39m                                  Traceback (most recent call last)",
      "\u001b[36mCell\u001b[39m\u001b[36m \u001b[39m\u001b[32mIn[77]\u001b[39m\u001b[32m, line 3\u001b[39m\n\u001b[32m      1\u001b[39m \u001b[38;5;66;03m# 3) Update feedback at the 'human_feedback' node\u001b[39;00m\n\u001b[32m      2\u001b[39m \u001b[38;5;66;03m#    Tip: if your TypedDict says `human_analyst_feedback: str`, prefer \"\" (empty string) over None\u001b[39;00m\n\u001b[32m----> \u001b[39m\u001b[32m3\u001b[39m \u001b[43mgraph\u001b[49m\u001b[43m.\u001b[49m\u001b[43mupdate_state\u001b[49m\u001b[43m(\u001b[49m\u001b[43mcfg\u001b[49m\u001b[43m,\u001b[49m\u001b[43m \u001b[49m\u001b[43m{\u001b[49m\u001b[33;43m\"\u001b[39;49m\u001b[33;43mhuman_analyst_feedback\u001b[39;49m\u001b[33;43m\"\u001b[39;49m\u001b[43m:\u001b[49m\u001b[43m \u001b[49m\u001b[33;43m\"\u001b[39;49m\u001b[33;43m\"\u001b[39;49m\u001b[43m}\u001b[49m\u001b[43m,\u001b[49m\u001b[43m \u001b[49m\u001b[43mas_node\u001b[49m\u001b[43m=\u001b[49m\u001b[33;43m\"\u001b[39;49m\u001b[33;43mhuman_feedback\u001b[39;49m\u001b[33;43m\"\u001b[39;49m\u001b[43m)\u001b[49m\n",
      "\u001b[36mFile \u001b[39m\u001b[32md:\\Data\\Projects\\llm-research-genie\\.venv\\Lib\\site-packages\\langgraph\\pregel\\main.py:2339\u001b[39m, in \u001b[36mPregel.update_state\u001b[39m\u001b[34m(self, config, values, as_node, task_id)\u001b[39m\n\u001b[32m   2328\u001b[39m \u001b[38;5;28;01mdef\u001b[39;00m\u001b[38;5;250m \u001b[39m\u001b[34mupdate_state\u001b[39m(\n\u001b[32m   2329\u001b[39m     \u001b[38;5;28mself\u001b[39m,\n\u001b[32m   2330\u001b[39m     config: RunnableConfig,\n\u001b[32m   (...)\u001b[39m\u001b[32m   2333\u001b[39m     task_id: \u001b[38;5;28mstr\u001b[39m | \u001b[38;5;28;01mNone\u001b[39;00m = \u001b[38;5;28;01mNone\u001b[39;00m,\n\u001b[32m   2334\u001b[39m ) -> RunnableConfig:\n\u001b[32m   2335\u001b[39m \u001b[38;5;250m    \u001b[39m\u001b[33;03m\"\"\"Update the state of the graph with the given values, as if they came from\u001b[39;00m\n\u001b[32m   2336\u001b[39m \u001b[33;03m    node `as_node`. If `as_node` is not provided, it will be set to the last node\u001b[39;00m\n\u001b[32m   2337\u001b[39m \u001b[33;03m    that updated the state, if not ambiguous.\u001b[39;00m\n\u001b[32m   2338\u001b[39m \u001b[33;03m    \"\"\"\u001b[39;00m\n\u001b[32m-> \u001b[39m\u001b[32m2339\u001b[39m     \u001b[38;5;28;01mreturn\u001b[39;00m \u001b[38;5;28;43mself\u001b[39;49m\u001b[43m.\u001b[49m\u001b[43mbulk_update_state\u001b[49m\u001b[43m(\u001b[49m\u001b[43mconfig\u001b[49m\u001b[43m,\u001b[49m\u001b[43m \u001b[49m\u001b[43m[\u001b[49m\u001b[43m[\u001b[49m\u001b[43mStateUpdate\u001b[49m\u001b[43m(\u001b[49m\u001b[43mvalues\u001b[49m\u001b[43m,\u001b[49m\u001b[43m \u001b[49m\u001b[43mas_node\u001b[49m\u001b[43m,\u001b[49m\u001b[43m \u001b[49m\u001b[43mtask_id\u001b[49m\u001b[43m)\u001b[49m\u001b[43m]\u001b[49m\u001b[43m]\u001b[49m\u001b[43m)\u001b[49m\n",
      "\u001b[36mFile \u001b[39m\u001b[32md:\\Data\\Projects\\llm-research-genie\\.venv\\Lib\\site-packages\\langgraph\\pregel\\main.py:1872\u001b[39m, in \u001b[36mPregel.bulk_update_state\u001b[39m\u001b[34m(self, config, supersteps)\u001b[39m\n\u001b[32m   1868\u001b[39m current_config = patch_configurable(\n\u001b[32m   1869\u001b[39m     config, {CONFIG_KEY_THREAD_ID: \u001b[38;5;28mstr\u001b[39m(config[CONF][CONFIG_KEY_THREAD_ID])}\n\u001b[32m   1870\u001b[39m )\n\u001b[32m   1871\u001b[39m \u001b[38;5;28;01mfor\u001b[39;00m superstep \u001b[38;5;129;01min\u001b[39;00m supersteps:\n\u001b[32m-> \u001b[39m\u001b[32m1872\u001b[39m     current_config = \u001b[43mperform_superstep\u001b[49m\u001b[43m(\u001b[49m\u001b[43mcurrent_config\u001b[49m\u001b[43m,\u001b[49m\u001b[43m \u001b[49m\u001b[43msuperstep\u001b[49m\u001b[43m)\u001b[49m\n\u001b[32m   1873\u001b[39m \u001b[38;5;28;01mreturn\u001b[39;00m current_config\n",
      "\u001b[36mFile \u001b[39m\u001b[32md:\\Data\\Projects\\llm-research-genie\\.venv\\Lib\\site-packages\\langgraph\\pregel\\main.py:1807\u001b[39m, in \u001b[36mPregel.bulk_update_state.<locals>.perform_superstep\u001b[39m\u001b[34m(input_config, updates)\u001b[39m\n\u001b[32m   1805\u001b[39m     run = RunnableSequence(*writers) \u001b[38;5;28;01mif\u001b[39;00m \u001b[38;5;28mlen\u001b[39m(writers) > \u001b[32m1\u001b[39m \u001b[38;5;28;01melse\u001b[39;00m writers[\u001b[32m0\u001b[39m]\n\u001b[32m   1806\u001b[39m     \u001b[38;5;66;03m# execute task\u001b[39;00m\n\u001b[32m-> \u001b[39m\u001b[32m1807\u001b[39m     \u001b[43mrun\u001b[49m\u001b[43m.\u001b[49m\u001b[43minvoke\u001b[49m\u001b[43m(\u001b[49m\n\u001b[32m   1808\u001b[39m \u001b[43m        \u001b[49m\u001b[43mvalues\u001b[49m\u001b[43m,\u001b[49m\n\u001b[32m   1809\u001b[39m \u001b[43m        \u001b[49m\u001b[43mpatch_config\u001b[49m\u001b[43m(\u001b[49m\n\u001b[32m   1810\u001b[39m \u001b[43m            \u001b[49m\u001b[43mconfig\u001b[49m\u001b[43m,\u001b[49m\n\u001b[32m   1811\u001b[39m \u001b[43m            \u001b[49m\u001b[43mrun_name\u001b[49m\u001b[43m=\u001b[49m\u001b[38;5;28;43mself\u001b[39;49m\u001b[43m.\u001b[49m\u001b[43mname\u001b[49m\u001b[43m \u001b[49m\u001b[43m+\u001b[49m\u001b[43m \u001b[49m\u001b[33;43m\"\u001b[39;49m\u001b[33;43mUpdateState\u001b[39;49m\u001b[33;43m\"\u001b[39;49m\u001b[43m,\u001b[49m\n\u001b[32m   1812\u001b[39m \u001b[43m            \u001b[49m\u001b[43mconfigurable\u001b[49m\u001b[43m=\u001b[49m\u001b[43m{\u001b[49m\n\u001b[32m   1813\u001b[39m \u001b[43m                \u001b[49m\u001b[38;5;66;43;03m# deque.extend is thread-safe\u001b[39;49;00m\n\u001b[32m   1814\u001b[39m \u001b[43m                \u001b[49m\u001b[43mCONFIG_KEY_SEND\u001b[49m\u001b[43m:\u001b[49m\u001b[43m \u001b[49m\u001b[43mwrites\u001b[49m\u001b[43m.\u001b[49m\u001b[43mextend\u001b[49m\u001b[43m,\u001b[49m\n\u001b[32m   1815\u001b[39m \u001b[43m                \u001b[49m\u001b[43mCONFIG_KEY_TASK_ID\u001b[49m\u001b[43m:\u001b[49m\u001b[43m \u001b[49m\u001b[43mtask_id\u001b[49m\u001b[43m,\u001b[49m\n\u001b[32m   1816\u001b[39m \u001b[43m                \u001b[49m\u001b[43mCONFIG_KEY_READ\u001b[49m\u001b[43m:\u001b[49m\u001b[43m \u001b[49m\u001b[43mpartial\u001b[49m\u001b[43m(\u001b[49m\n\u001b[32m   1817\u001b[39m \u001b[43m                    \u001b[49m\u001b[43mlocal_read\u001b[49m\u001b[43m,\u001b[49m\n\u001b[32m   1818\u001b[39m \u001b[43m                    \u001b[49m\u001b[43m_scratchpad\u001b[49m\u001b[43m(\u001b[49m\n\u001b[32m   1819\u001b[39m \u001b[43m                        \u001b[49m\u001b[38;5;28;43;01mNone\u001b[39;49;00m\u001b[43m,\u001b[49m\n\u001b[32m   1820\u001b[39m \u001b[43m                        \u001b[49m\u001b[43m[\u001b[49m\u001b[43m]\u001b[49m\u001b[43m,\u001b[49m\n\u001b[32m   1821\u001b[39m \u001b[43m                        \u001b[49m\u001b[43mtask_id\u001b[49m\u001b[43m,\u001b[49m\n\u001b[32m   1822\u001b[39m \u001b[43m                        \u001b[49m\u001b[33;43m\"\u001b[39;49m\u001b[33;43m\"\u001b[39;49m\u001b[43m,\u001b[49m\n\u001b[32m   1823\u001b[39m \u001b[43m                        \u001b[49m\u001b[38;5;28;43;01mNone\u001b[39;49;00m\u001b[43m,\u001b[49m\n\u001b[32m   1824\u001b[39m \u001b[43m                        \u001b[49m\u001b[43mstep\u001b[49m\u001b[43m,\u001b[49m\n\u001b[32m   1825\u001b[39m \u001b[43m                        \u001b[49m\u001b[43mstep\u001b[49m\u001b[43m \u001b[49m\u001b[43m+\u001b[49m\u001b[43m \u001b[49m\u001b[32;43m2\u001b[39;49m\u001b[43m,\u001b[49m\n\u001b[32m   1826\u001b[39m \u001b[43m                    \u001b[49m\u001b[43m)\u001b[49m\u001b[43m,\u001b[49m\n\u001b[32m   1827\u001b[39m \u001b[43m                    \u001b[49m\u001b[43mchannels\u001b[49m\u001b[43m,\u001b[49m\n\u001b[32m   1828\u001b[39m \u001b[43m                    \u001b[49m\u001b[43mmanaged\u001b[49m\u001b[43m,\u001b[49m\n\u001b[32m   1829\u001b[39m \u001b[43m                    \u001b[49m\u001b[43mtask\u001b[49m\u001b[43m,\u001b[49m\n\u001b[32m   1830\u001b[39m \u001b[43m                \u001b[49m\u001b[43m)\u001b[49m\u001b[43m,\u001b[49m\n\u001b[32m   1831\u001b[39m \u001b[43m            \u001b[49m\u001b[43m}\u001b[49m\u001b[43m,\u001b[49m\n\u001b[32m   1832\u001b[39m \u001b[43m        \u001b[49m\u001b[43m)\u001b[49m\u001b[43m,\u001b[49m\n\u001b[32m   1833\u001b[39m \u001b[43m    \u001b[49m\u001b[43m)\u001b[49m\n\u001b[32m   1834\u001b[39m \u001b[38;5;66;03m# save task writes\u001b[39;00m\n\u001b[32m   1835\u001b[39m \u001b[38;5;28;01mfor\u001b[39;00m task_id, task \u001b[38;5;129;01min\u001b[39;00m \u001b[38;5;28mzip\u001b[39m(run_task_ids, run_tasks):\n\u001b[32m   1836\u001b[39m     \u001b[38;5;66;03m# channel writes are saved to current checkpoint\u001b[39;00m\n",
      "\u001b[36mFile \u001b[39m\u001b[32md:\\Data\\Projects\\llm-research-genie\\.venv\\Lib\\site-packages\\langchain_core\\runnables\\base.py:3246\u001b[39m, in \u001b[36mRunnableSequence.invoke\u001b[39m\u001b[34m(self, input, config, **kwargs)\u001b[39m\n\u001b[32m   3244\u001b[39m                 input_ = context.run(step.invoke, input_, config, **kwargs)\n\u001b[32m   3245\u001b[39m             \u001b[38;5;28;01melse\u001b[39;00m:\n\u001b[32m-> \u001b[39m\u001b[32m3246\u001b[39m                 input_ = context.run(step.invoke, input_, config)\n\u001b[32m   3247\u001b[39m \u001b[38;5;66;03m# finish the root run\u001b[39;00m\n\u001b[32m   3248\u001b[39m \u001b[38;5;28;01mexcept\u001b[39;00m \u001b[38;5;167;01mBaseException\u001b[39;00m \u001b[38;5;28;01mas\u001b[39;00m e:\n",
      "\u001b[36mFile \u001b[39m\u001b[32md:\\Data\\Projects\\llm-research-genie\\.venv\\Lib\\site-packages\\langgraph\\_internal\\_runnable.py:401\u001b[39m, in \u001b[36mRunnableCallable.invoke\u001b[39m\u001b[34m(self, input, config, **kwargs)\u001b[39m\n\u001b[32m    399\u001b[39m         run_manager.on_chain_end(ret)\n\u001b[32m    400\u001b[39m \u001b[38;5;28;01melse\u001b[39;00m:\n\u001b[32m--> \u001b[39m\u001b[32m401\u001b[39m     ret = \u001b[38;5;28;43mself\u001b[39;49m\u001b[43m.\u001b[49m\u001b[43mfunc\u001b[49m\u001b[43m(\u001b[49m\u001b[43m*\u001b[49m\u001b[43margs\u001b[49m\u001b[43m,\u001b[49m\u001b[43m \u001b[49m\u001b[43m*\u001b[49m\u001b[43m*\u001b[49m\u001b[43mkwargs\u001b[49m\u001b[43m)\u001b[49m\n\u001b[32m    402\u001b[39m \u001b[38;5;28;01mif\u001b[39;00m \u001b[38;5;28mself\u001b[39m.recurse \u001b[38;5;129;01mand\u001b[39;00m \u001b[38;5;28misinstance\u001b[39m(ret, Runnable):\n\u001b[32m    403\u001b[39m     \u001b[38;5;28;01mreturn\u001b[39;00m ret.invoke(\u001b[38;5;28minput\u001b[39m, config)\n",
      "\u001b[36mFile \u001b[39m\u001b[32md:\\Data\\Projects\\llm-research-genie\\.venv\\Lib\\site-packages\\langgraph\\graph\\_branch.py:169\u001b[39m, in \u001b[36mBranchSpec._route\u001b[39m\u001b[34m(self, input, config, reader, writer)\u001b[39m\n\u001b[32m    167\u001b[39m     value = \u001b[38;5;28minput\u001b[39m\n\u001b[32m    168\u001b[39m result = \u001b[38;5;28mself\u001b[39m.path.invoke(value, config)\n\u001b[32m--> \u001b[39m\u001b[32m169\u001b[39m \u001b[38;5;28;01mreturn\u001b[39;00m \u001b[38;5;28;43mself\u001b[39;49m\u001b[43m.\u001b[49m\u001b[43m_finish\u001b[49m\u001b[43m(\u001b[49m\u001b[43mwriter\u001b[49m\u001b[43m,\u001b[49m\u001b[43m \u001b[49m\u001b[38;5;28;43minput\u001b[39;49m\u001b[43m,\u001b[49m\u001b[43m \u001b[49m\u001b[43mresult\u001b[49m\u001b[43m,\u001b[49m\u001b[43m \u001b[49m\u001b[43mconfig\u001b[49m\u001b[43m)\u001b[49m\n",
      "\u001b[36mFile \u001b[39m\u001b[32md:\\Data\\Projects\\llm-research-genie\\.venv\\Lib\\site-packages\\langgraph\\graph\\_branch.py:204\u001b[39m, in \u001b[36mBranchSpec._finish\u001b[39m\u001b[34m(self, writer, input, result, config)\u001b[39m\n\u001b[32m    202\u001b[39m     result = [result]\n\u001b[32m    203\u001b[39m \u001b[38;5;28;01mif\u001b[39;00m \u001b[38;5;28mself\u001b[39m.ends:\n\u001b[32m--> \u001b[39m\u001b[32m204\u001b[39m     destinations: Sequence[Send | \u001b[38;5;28mstr\u001b[39m] = \u001b[43m[\u001b[49m\n\u001b[32m    205\u001b[39m \u001b[43m        \u001b[49m\u001b[43mr\u001b[49m\u001b[43m \u001b[49m\u001b[38;5;28;43;01mif\u001b[39;49;00m\u001b[43m \u001b[49m\u001b[38;5;28;43misinstance\u001b[39;49m\u001b[43m(\u001b[49m\u001b[43mr\u001b[49m\u001b[43m,\u001b[49m\u001b[43m \u001b[49m\u001b[43mSend\u001b[49m\u001b[43m)\u001b[49m\u001b[43m \u001b[49m\u001b[38;5;28;43;01melse\u001b[39;49;00m\u001b[43m \u001b[49m\u001b[38;5;28;43mself\u001b[39;49m\u001b[43m.\u001b[49m\u001b[43mends\u001b[49m\u001b[43m[\u001b[49m\u001b[43mr\u001b[49m\u001b[43m]\u001b[49m\u001b[43m \u001b[49m\u001b[38;5;28;43;01mfor\u001b[39;49;00m\u001b[43m \u001b[49m\u001b[43mr\u001b[49m\u001b[43m \u001b[49m\u001b[38;5;129;43;01min\u001b[39;49;00m\u001b[43m \u001b[49m\u001b[43mresult\u001b[49m\n\u001b[32m    206\u001b[39m \u001b[43m    \u001b[49m\u001b[43m]\u001b[49m\n\u001b[32m    207\u001b[39m \u001b[38;5;28;01melse\u001b[39;00m:\n\u001b[32m    208\u001b[39m     destinations = cast(Sequence[Union[Send, \u001b[38;5;28mstr\u001b[39m]], result)\n",
      "\u001b[36mFile \u001b[39m\u001b[32md:\\Data\\Projects\\llm-research-genie\\.venv\\Lib\\site-packages\\langgraph\\graph\\_branch.py:205\u001b[39m, in \u001b[36m<listcomp>\u001b[39m\u001b[34m(.0)\u001b[39m\n\u001b[32m    202\u001b[39m     result = [result]\n\u001b[32m    203\u001b[39m \u001b[38;5;28;01mif\u001b[39;00m \u001b[38;5;28mself\u001b[39m.ends:\n\u001b[32m    204\u001b[39m     destinations: Sequence[Send | \u001b[38;5;28mstr\u001b[39m] = [\n\u001b[32m--> \u001b[39m\u001b[32m205\u001b[39m         r \u001b[38;5;28;01mif\u001b[39;00m \u001b[38;5;28misinstance\u001b[39m(r, Send) \u001b[38;5;28;01melse\u001b[39;00m \u001b[38;5;28;43mself\u001b[39;49m\u001b[43m.\u001b[49m\u001b[43mends\u001b[49m\u001b[43m[\u001b[49m\u001b[43mr\u001b[49m\u001b[43m]\u001b[49m \u001b[38;5;28;01mfor\u001b[39;00m r \u001b[38;5;129;01min\u001b[39;00m result\n\u001b[32m    206\u001b[39m     ]\n\u001b[32m    207\u001b[39m \u001b[38;5;28;01melse\u001b[39;00m:\n\u001b[32m    208\u001b[39m     destinations = cast(Sequence[Union[Send, \u001b[38;5;28mstr\u001b[39m]], result)\n",
      "\u001b[31mKeyError\u001b[39m: None"
     ]
    }
   ],
   "source": [
    "# 3) Update feedback at the 'human_feedback' node\n",
    "#    Tip: if your TypedDict says `human_analyst_feedback: str`, prefer \"\" (empty string) over None\n",
    "graph.update_state(cfg, {\"human_analyst_feedback\": \"\"}, as_node=\"human_feedback\")"
   ]
  },
  {
   "cell_type": "code",
   "execution_count": 78,
   "id": "5b648ac7",
   "metadata": {},
   "outputs": [
    {
     "name": "stdout",
     "output_type": "stream",
     "text": [
      "('human_feedback',)\n",
      "\n"
     ]
    }
   ],
   "source": [
    "# 4) Verify it moved to END\n",
    "final_state = graph.get_state(thread)\n",
    "print(final_state.next)  # should be (END,)"
   ]
  },
  {
   "cell_type": "code",
   "execution_count": 79,
   "id": "f4e0757f",
   "metadata": {},
   "outputs": [],
   "source": [
    "analysts = final_state.values.get('analysts')"
   ]
  },
  {
   "cell_type": "code",
   "execution_count": 80,
   "id": "016efb16",
   "metadata": {},
   "outputs": [
    {
     "data": {
      "text/plain": [
       "[Analyst(name='Sophia Tran', role='Startup Ecosystem Analyst', affiliation='Tech Innovators Network', description='Sophia focuses on the impact of adopting new technologies like Langgraph within startup environments. She is particularly interested in how Langgraph can streamline operations, reduce costs, and enhance scalability for startups. Her analysis often includes case studies of early-stage companies that have successfully integrated Langgraph into their workflows.'),\n",
       " Analyst(name='Michael Chen', role='Enterprise Application Specialist', affiliation='Global Enterprise Solutions', description='Michael specializes in the latest enterprise applications and how they can be optimized using frameworks like Langgraph. He examines how large organizations can leverage Langgraph to improve efficiency, enhance data processing capabilities, and support complex decision-making processes. His insights are geared towards CIOs and IT managers looking to modernize their tech stack.'),\n",
       " Analyst(name='Aisha Patel', role='AI Framework Researcher', affiliation='Institute of Advanced AI Studies', description=\"Aisha's research delves into the technical benefits of adopting Langgraph as an agent framework. She explores its architecture, flexibility, and integration capabilities with existing AI systems. Her work is aimed at developers and researchers interested in the technical underpinnings and potential of Langgraph to advance AI applications.\"),\n",
       " Analyst(name=\"Liam O'Reilly\", role='Business Strategy Consultant', affiliation='FutureTech Consulting', description='Liam advises businesses on strategic adoption of emerging technologies. He focuses on how Langgraph can be a game-changer in aligning business strategies with technological advancements. His analysis includes market trends, competitive advantages, and long-term benefits of integrating Langgraph into business models, particularly for companies looking to stay ahead in the digital transformation race.')]"
      ]
     },
     "execution_count": 80,
     "metadata": {},
     "output_type": "execute_result"
    }
   ],
   "source": [
    "analysts"
   ]
  },
  {
   "cell_type": "code",
   "execution_count": 81,
   "id": "55c15629",
   "metadata": {},
   "outputs": [
    {
     "name": "stdout",
     "output_type": "stream",
     "text": [
      "Name: Sophia Tran\n",
      "Affiliation: Tech Innovators Network\n",
      "Role: Startup Ecosystem Analyst\n",
      "Description: Sophia focuses on the impact of adopting new technologies like Langgraph within startup environments. She is particularly interested in how Langgraph can streamline operations, reduce costs, and enhance scalability for startups. Her analysis often includes case studies of early-stage companies that have successfully integrated Langgraph into their workflows.\n",
      "--------------------------------------------------\n",
      "Name: Michael Chen\n",
      "Affiliation: Global Enterprise Solutions\n",
      "Role: Enterprise Application Specialist\n",
      "Description: Michael specializes in the latest enterprise applications and how they can be optimized using frameworks like Langgraph. He examines how large organizations can leverage Langgraph to improve efficiency, enhance data processing capabilities, and support complex decision-making processes. His insights are geared towards CIOs and IT managers looking to modernize their tech stack.\n",
      "--------------------------------------------------\n",
      "Name: Aisha Patel\n",
      "Affiliation: Institute of Advanced AI Studies\n",
      "Role: AI Framework Researcher\n",
      "Description: Aisha's research delves into the technical benefits of adopting Langgraph as an agent framework. She explores its architecture, flexibility, and integration capabilities with existing AI systems. Her work is aimed at developers and researchers interested in the technical underpinnings and potential of Langgraph to advance AI applications.\n",
      "--------------------------------------------------\n",
      "Name: Liam O'Reilly\n",
      "Affiliation: Tech Innovators Network\n",
      "Role: Startup Ecosystem Analyst\n",
      "Description: Sophia focuses on the impact of adopting new technologies like Langgraph within startup environments. She is particularly interested in how Langgraph can streamline operations, reduce costs, and enhance scalability for startups. Her analysis often includes case studies of early-stage companies that have successfully integrated Langgraph into their workflows.\n",
      "--------------------------------------------------\n",
      "Name: Michael Chen\n",
      "Affiliation: Global Enterprise Solutions\n",
      "Role: Enterprise Application Specialist\n",
      "Description: Michael specializes in the latest enterprise applications and how they can be optimized using frameworks like Langgraph. He examines how large organizations can leverage Langgraph to improve efficiency, enhance data processing capabilities, and support complex decision-making processes. His insights are geared towards CIOs and IT managers looking to modernize their tech stack.\n",
      "--------------------------------------------------\n",
      "Name: Aisha Patel\n",
      "Affiliation: Institute of Advanced AI Studies\n",
      "Role: AI Framework Researcher\n",
      "Description: Aisha's research delves into the technical benefits of adopting Langgraph as an agent framework. She explores its architecture, flexibility, and integration capabilities with existing AI systems. Her work is aimed at developers and researchers interested in the technical underpinnings and potential of Langgraph to advance AI applications.\n",
      "--------------------------------------------------\n",
      "Name: Liam O'Reilly\n",
      "Affiliation: FutureTech Consulting\n",
      "Role: Business Strategy Consultant\n",
      "Description: Liam advises businesses on strategic adoption of emerging technologies. He focuses on how Langgraph can be a game-changer in aligning business strategies with technological advancements. His analysis includes market trends, competitive advantages, and long-term benefits of integrating Langgraph into business models, particularly for companies looking to stay ahead in the digital transformation race.\n",
      "--------------------------------------------------\n"
     ]
    }
   ],
   "source": [
    "for analyst in analysts:\n",
    "    print(f\"Name: {analyst.name}\")\n",
    "    print(f\"Affiliation: {analyst.affiliation}\")\n",
    "    print(f\"Role: {analyst.role}\")\n",
    "    print(f\"Description: {analyst.description}\")\n",
    "    print(\"-\" * 50) "
   ]
  },
  {
   "cell_type": "code",
   "execution_count": null,
   "id": "8a3810de",
   "metadata": {},
   "outputs": [],
   "source": []
  },
  {
   "cell_type": "code",
   "execution_count": 82,
   "id": "a0c881da",
   "metadata": {},
   "outputs": [
    {
     "name": "stdout",
     "output_type": "stream",
     "text": [
      "LangChain is a software framework that helps facilitate the integration of large language models (LLMs) into applications. As a language model integration framework, LangChain's use-cases largely overlap with those of language models in general, including document analysis and summarization, chatbots, and code analysis.\n",
      "\n",
      "\n",
      "== History ==\n",
      "LangChain was launched in October 2022 as an open source project by Harrison Chase, while working at machine learning startup Robust Intelligence. In April 2023, \n",
      "\n"
     ]
    }
   ],
   "source": [
    "from langchain_community.document_loaders import WikipediaLoader\n",
    "\n",
    "docs = WikipediaLoader(query=\"LangGraph\").load()\n",
    "print(docs[0].page_content[:500])"
   ]
  },
  {
   "cell_type": "code",
   "execution_count": 84,
   "id": "9db1017c",
   "metadata": {},
   "outputs": [
    {
     "name": "stdout",
     "output_type": "stream",
     "text": [
      "LonWorks or Local Operating Network is an open standard (ISO/IEC 14908) for networking platforms specifically created to address the needs of control applications. The platform is built on a protocol created by Echelon Corporation for networking devices over media such as twisted pair, power lines, fiber optics, and wireless. It is used for the automation of various functions within buildings such as lighting and HVAC; see building automation.\n",
      "\n",
      "\n",
      "== Origins and uptake ==\n",
      "The technology had its or\n",
      "\n"
     ]
    }
   ],
   "source": [
    "from langchain_community.document_loaders import WikipediaLoader\n",
    "docs = WikipediaLoader(query=\"Pneumatic UI\").load()\n",
    "print(docs[0].page_content[:500])"
   ]
  },
  {
   "cell_type": "code",
   "execution_count": 85,
   "id": "01d9aeea",
   "metadata": {},
   "outputs": [
    {
     "name": "stdout",
     "output_type": "stream",
     "text": [
      "[Document(metadata={'title': 'Cloud computing', 'summary': 'Cloud computing is \"a paradigm for enabling network access to a scalable and elastic pool of shareable physical or virtual resources with self-service provisioning and administration on-demand,\" according to ISO. It is commonly referred to as \"the cloud\".\\n\\n', 'source': 'https://en.wikipedia.org/wiki/Cloud_computing'}, page_content='Cloud computing is \"a paradigm for enabling network access to a scalable and elastic pool of shareable physical or virtual resources with self-service provisioning and administration on-demand,\" according to ISO. It is commonly referred to as \"the cloud\".\\n\\n\\n== Characteristics ==\\nIn 2011, the National Institute of Standards and Technology (NIST) identified five \"essential characteristics\" for cloud systems. Below are the exact definitions according to NIST:\\n\\nOn-demand self-service: \"A consumer can unilaterally provision computing capabilities, such as server time and network storage, as needed automatically without requiring human interaction with each service provider.\"\\nBroad network access: \"Capabilities are available over the network and accessed through standard mechanisms that promote use by heterogeneous thin or thick client platforms (e.g., mobile phones, tablets, laptops, and workstations).\"\\nResource pooling: \" The provider\\'s computing resources are pooled to serve multiple consumers using a multi-tenant model, with different physical and virtual resources dynamically assigned and reassigned according to consumer demand.\"\\nRapid elasticity: \"Capabilities can be elastically provisioned and released, in some cases automatically, to scale rapidly outward and inward commensurate with demand. To the consumer, the capabilities available for provisioning often appear unlimited and can be appropriated in any quantity at any time.\"\\nMeasured service: \"Cloud systems automatically control and optimize resource use by leveraging a metering capability at some level of abstraction appropriate to the type of service (e.g., storage, processing, bandwidth, and active user accounts). Resource usage can be monitored, controlled, and reported, providing transparency for both the provider and consumer of the utilized service.\\nBy 2023, the International Organization for Standardization (ISO) had expanded and refined the list.\\n\\n\\n== History ==\\n\\nThe history of cloud computing extends to the 1960s, with the initial concepts of time-sharing becoming popularized via remote job entry (RJE). The \"data center\" model, where users submitted jobs to operators to run on mainframes, was predominantly used during this era. This was a time of exploration and experimentation with ways to make large-scale computing power available to more users through time-sharing, optimizing the infrastructure, platform, and applications, and increasing efficiency for end users.\\nThe \"cloud\" metaphor for virtualized services dates to 1994, when it was used by General Magic for the universe of \"places\" that mobile agents in the Telescript environment could \"go\". The metaphor is credited to David Hoffman, a General Magic communications specialist, based on its long-standing use in networking and telecom. The expression cloud computing became more widely known in 1996 when Compaq Computer Corporation drew up a business plan for future computing and the Internet. The company\\'s ambition was to supercharge sales with \"cloud computing-enabled applications\". The business plan foresaw that online consumer file storage would likely be commercially successful. As a result, Compaq decided to sell server hardware to internet service providers.\\nIn the 2000s, the application of cloud computing began to take shape with the establishment of Amazon Web Services (AWS) in 2002, which allowed developers to build applications independently. In 2006 Amazon Simple Storage Service, known as Amazon S3, and the Amazon Elastic Compute Cloud (EC2) were released. In 2008 NASA\\'s development of the first open-source software for deploying private and hybrid clouds.\\nThe following decade saw the launch of various cloud services. In 2010, Microsoft launched Microsoft Azure, and Rackspace Hosting and NASA initiated an open-source cloud-software project, OpenStack. IBM introduced the IBM SmartCloud framework in 2011, and Oracle announced the Oracle Cloud in 2012. In December 2019, Amazon launched AWS Outposts, a '), Document(metadata={'title': 'Blue–green deployment', 'summary': 'In software engineering, blue–green deployment is a method of installing changes to a web, app, or database server by swapping alternating production and staging servers.', 'source': 'https://en.wikipedia.org/wiki/Blue%E2%80%93green_deployment'}, page_content='In software engineering, blue–green deployment is a method of installing changes to a web, app, or database server by swapping alternating production and staging servers.\\n\\n\\n== Overview ==\\nIn blue–green deployments, two servers are maintained: a \"blue\" server and a \"green\" server. At any given time, only one server is handling requests (e.g., being pointed to by the DNS). For example, public requests may be routed to the blue server, making it the production server and the green server the staging server, which can only be accessed on a private network. Changes are installed on the non-live server, which is then tested through the private network to verify the changes work as expected. Once verified, the non-live server is swapped with the live server, effectively making the deployed changes live.\\nUsing this method of software deployment offers the ability to quickly roll back to a previous state if anything goes wrong. This rollback is achieved by simply routing traffic back to the previous live server, which still does not have the deployed changes. An additional benefit to the blue–green method of deployment is the reduced downtime for the server. Because requests are routed instantly from one server to the other, there is ideally no period where requests will be unfulfilled.\\nThe blue–green deployment technique is often contrasted with the canary release deployment technique and it has similarities with  A/B testing.\\n\\n\\n== History ==\\nDan North and Jez Humble encountered differences between their test environments and the production environment while running Oracle WebLogic Server for a client sometime around 2005. To ensure safe deployment, they introduced a method where the new application version was deployed alongside the live system. This approach allowed for thorough testing and easy rollback in case of issues. The team initially considered naming these environments A and B but decided against it to avoid the perception that one was primary and the other secondary. They instead chose color-based names like blue, green, orange, and yellow, eventually using only blue and green since \"having two was sufficient\". This naming convention was adopted while working on the original Continuous delivery book published in 2010  and became a common term in the industry afterwards.\\n\\n\\n== Benefits and challenges ==\\nBlue–green deployment is widely recognized for its ability to reduce downtime during application updates and minimize the risk of introducing defects into production environments. By maintaining two separate environments—blue (the current live environment) and green (the environment with the updated version)—traffic can easily be switched between the two, ensuring that updates are rolled out without disrupting users. This method enables quick rollback in case of deployment failure, thus improving overall system resilience and user experience.\\nWhile blue–green deployment reduces risks during updates, it also requires additional resources since two environments need to be maintained simultaneously. The cost of running duplicate infrastructure, even temporarily, can be prohibitive for smaller organizations. Furthermore, complex database migrations may pose challenges, as the system must ensure that both the blue and green environments have consistent data. Solutions to these issues often involve using database migration tools that allow for backward compatibility between environments.\\n\\n\\n== Implementation ==\\nThere are several approaches to implementing blue–green deployments, each offering varying levels of automation and ease of use depending on the platform and tools available.\\n\\n\\n=== AWS CodeDeploy ===\\nAWS CodeDeploy facilitates blue–green deployments by automating the entire process across services such as Amazon EC2 and AWS Lambda. The service shifts traffic between the old (blue) environment and the new (green) environment, minimizing downtime and ensuring a smooth transition. AWS CodeDeploy also allows the use of lifecycle '), Document(metadata={'title': 'Serverless computing', 'summary': 'Serverless computing is \"a cloud service category where the customer can use different cloud capability types without the customer having to provision, deploy and manage either hardware or software resources, other than providing customer application code or providing customer data. Serverless computing represents a form of virtualized computing,\" according to ISO/IEC 22123-2. Serverless computing is a broad ecosystem that includes the cloud provider, Function as a Service (FaaS), managed services, tools, frameworks, engineers, stakeholders, and other interconnected elements, according to Sheen Brisals.', 'source': 'https://en.wikipedia.org/wiki/Serverless_computing'}, page_content='Serverless computing is \"a cloud service category where the customer can use different cloud capability types without the customer having to provision, deploy and manage either hardware or software resources, other than providing customer application code or providing customer data. Serverless computing represents a form of virtualized computing,\" according to ISO/IEC 22123-2. Serverless computing is a broad ecosystem that includes the cloud provider, Function as a Service (FaaS), managed services, tools, frameworks, engineers, stakeholders, and other interconnected elements, according to Sheen Brisals.\\n\\n\\n== Overview ==\\nServerless is a misnomer in the sense that servers are still used by cloud service providers to execute code for developers.  The definition of serverless computing has evolved over time, leading to varied interpretations. According to Ben Kehoe, serverless represents a spectrum rather than a rigid definition. Emphasis should shift from strict definitions and specific technologies to adopting a serverless mindset, focusing on leveraging serverless solutions to address business challenges.\\nServerless computing does not eliminate complexity but shifts much of it from the operations team to the development team. However, this shift is not absolute, as operations teams continue to manage aspects such as identity and access management (IAM), networking, security policies, and cost optimization. Additionally, while breaking down applications into finer-grained components can increase management complexity, the relationship between granularity and management difficulty is not strictly linear. There is often an optimal level of modularization where the benefits outweigh the added management overhead.\\nAccording to Yan Cui, serverless should be adopted only when it helps to deliver customer value faster. And while adopting, organizations should take small steps and de-risk along the way.\\n\\n\\n== Challenges ==\\nServerless applications are prone to fallacies of distributed computing. In addition, they are prone to the following fallacies:\\n\\nVersioning is simple\\nCompensating transactions always work\\nObservability is optional\\n\\n\\n=== Monitoring and debugging ===\\nMonitoring and debugging serverless applications can present unique challenges due to their distributed, event-driven nature and proprietary environments. Traditional tools may fall short, making it difficult to track execution flows across services. However, modern solutions such as distributed tracing tools (e.g., AWS X-Ray, Datadog), centralized logging, and cloud-agnostic observability platforms are mitigating these challenges. Emerging technologies like OpenTelemetry, AI-powered anomaly detection, and serverless-specific frameworks are further improving visibility and root cause analysis. While challenges persist, advancements in monitoring and debugging tools are steadily addressing these limitations.\\n\\n\\n=== Security ===\\nAccording to OWASP, serverless applications are vulnerable to variations of traditional  attacks, insecure code, and some serverless-specific attacks (like Denial of Wallet). So, the risks have changed and attack prevention requires a shift in mindset.\\n\\n\\n=== Vendor lock-in ===\\nServerless computing is provided as a third-party service. Applications and software that run in the serverless environment are by default locked to a specific cloud vendor. This issue is exacerbated in serverless computing, as with its increased level of abstraction, public vendors only allow customers to upload code to a FaaS platform without the authority to configure underlying environments. More importantly, when considering a more complex workflow that includes Backend-as-a-Service (BaaS), a BaaS offering can typically only natively trigger a FaaS offering from the same provider. This makes the workload migration in serverless computing virtually impossible. Therefore, considering how to design and deploy serverless workflows from a multi-cloud perspective could mitigate th'), Document(metadata={'title': 'Elastic cloud storage', 'summary': \"An elastic cloud is a cloud computing offering that provides variable service levels based on changing needs.\\nElasticity is an attribute that can be applied to most cloud services. It states that the capacity and performance of any given cloud service can expand or contract according to a customer's requirements and that this can potentially be changed automatically as a consequence of some software-driven event or, at worst, can be reconfigured quickly by the customer's infrastructure management team.\\nElasticity has been described as one of the five main principles of cloud computing by Rosenburg and Mateos in The Cloud at Your Service - Manning 2011.\\n\\n\", 'source': 'https://en.wikipedia.org/wiki/Elastic_cloud_storage'}, page_content=\"An elastic cloud is a cloud computing offering that provides variable service levels based on changing needs.\\nElasticity is an attribute that can be applied to most cloud services. It states that the capacity and performance of any given cloud service can expand or contract according to a customer's requirements and that this can potentially be changed automatically as a consequence of some software-driven event or, at worst, can be reconfigured quickly by the customer's infrastructure management team.\\nElasticity has been described as one of the five main principles of cloud computing by Rosenburg and Mateos in The Cloud at Your Service - Manning 2011.\\n\\n\\n== History ==\\nCloud computing was first described by Gillet and Kapor in\\n1996;\\nhowever, the first practical implementation was a consequence of a strategy to leverage Amazon's excess data center capacity.\\nAmazon and other pioneers of the commercial use of this technology were primarily\\ninterested in providing a “public” cloud service, whereby they could offer customers the benefits of using the cloud, particularly the utility-based\\npricing model benefit.\\nOther suppliers followed suit with a range of cloud-based\\nmodels all offering elasticity as a core component, but these suppliers were\\nonly offering this service as an element of their public cloud service.\\nDue to perceived weaknesses in security, or at least a lack\\nof proven compliance, many organizations, particularly in the financial and\\npublic sectors, have been slow adopters of cloud technologies. These\\nwary organizations can achieve some of the benefits of cloud computing by\\nadopting private\\ncloud\\ntechnologies.\\nAn alternative form of the elastic cloud has been offered\\nby vendors such as EMC  and\\nIBM,\\nwhereby the service is based around an enterprise's own infrastructure but\\nstill retains elements of elasticity and the potential to bill by consumption.\\n\\n\\n== Description ==\\nElasticity in cloud computing is the ability for the\\norganization to adjust its storage requirements in terms of capacity and\\nprocessing with respect to operational requirements. This has the following\\nbenefits:\\nOperational Benefits - Services\\ncan be acquired quickly, meaning that the evolving requirements of the business\\ncan be addressed almost immediately, giving an organization a potential agility\\nadvantage. A properly implemented elastic system will provision/de-provision\\naccording to application demands, so if a particular business has activity\\nspikes then the provision can be enabled to match the demand and the capacity\\ncan be re-allocated.\\nResearch and Development (R&D) Projects - R&D activities are no\\nlonger hindered by a requirement to secure a capex budget prior to a project\\nstarting. Capability can simply be provisioned from the cloud and released at\\nthe end of the exercise.\\nTesting and Deployment - With\\nmost large-scale projects a size test needs to be performed prior to final\\nrollout. By taking advantage of the elasticity of the cloud and creating a full-scale\\navatar of the proposed production system, realistic data and traffic volumes\\ncan be provisioned and released as needed.  \\nExpensive Resources Allocated - This will normally apply only\\nin the context where a customer is applying at least some of their own servers\\nas part of a cloud infrastructure, specifically where a business (for\\nperformance reasons) has decided to invest in solid-state storage as opposed to\\nspinning platters. There are instances when, due to activity spikes, a less\\ncritical process may need to be moved from the high-performance resources to\\nmore traditional storage.\\nServer Specification - When\\na customer has elected to own/lease hardware, they can select and specify\\nservers that are specifically tuned to meet the likely needs of their operation\\n(i.e., directly controlling the cost/benefit equation).\\nUtility Based Payments - There\\nis, of course, a key cost driver in this process, and the notion that you\\nshould pay for what you consume is acceptable for many organizati\"), Document(metadata={'title': 'Cloud computing issues', 'summary': 'Cloud computing enables users to access scalable and on-demand computing resources via the internet, utilizing hardware and software virtualization. It is a rapidly evolving technology capable of delivering extensible services efficiently, supporting a wide range of applications from personal storage solutions to enterprise-level systems. Despite its advantages, cloud computing also faces several challenges. Privacy concerns remain a primary issue, as users often lose direct control over their data once it is stored on servers owned and managed by cloud providers. This loss of control can create uncertainties regarding data privacy, unauthorized access, and compliance with regional regulations such as the General Data Protection Regulation (GDPR), the Health Insurance Portability and Accountability Act (HIPAA), and the California Consumer Privacy Act (CCPA). Service agreements and shared responsibility models define the boundaries of control and accountability between the cloud provider and the customer, but misunderstandings or mismanagement in these areas can still result in security breaches or accidental data loss. Cloud providers offer tools, such as AWS Artifact (compliance documentation and audits), Azure Compliance Manager (compliance assessments and risk analysis), and Google Assured Workloads (region-specific data compliance), to assist customers in managing compliance requirements. \\nSecurity issues in cloud computing are generally categorized into two broad groups. The first involves risks faced by cloud service providers, including vulnerabilities in their infrastructure, software, or third-party dependencies. The second includes risks faced by cloud customers, such as misconfigurations, inadequate access controls, and accidental data exposure. These risks are often amplified by human error or a lack of understanding of the shared responsibility model. Security responsibilities also vary depending on the service model—whether Infrastructure as a Service (IaaS), Platform as a Service (PaaS), or Software as a Service (SaaS). In general, cloud providers are responsible for hardware security, physical infrastructure, and software updates, while customers are responsible for data encryption, identity and access management (IAM), and application-level security. \\nAnother significant concern is uncertainty regarding guaranteed Quality of Service (QoS), particularly in multi-tenant environments where resources are shared among customers. Major cloud providers address these concerns through Service Level Agreements (SLAs), which define performance and uptime guarantees and often offer compensation in the form of service credits when guarantees are unmet. Automated management and remediation processes, supported by tools such as AWS CloudWatch, Azure Monitor, and Google Cloud Operations Suite, help detect and respond to large-scale failures. Despite these tools, managing QoS in highly distributed and multi-tenant systems remains complex. For latency-sensitive workloads, cloud providers have introduced edge computing solutions, such as AWS Wavelength, Azure Edge Zones, and Google Distributed Cloud Edge, to minimize latency by processing data closer to the end-user.  \\nJurisdictional and regulatory requirements regarding data residency and sovereignty introduce further complexity. Data stored in one region may fall under the legal jurisdiction of that region, creating potential conflicts for organizations operating across multiple geographies. Major cloud providers, such as AWS, Microsoft Azure, and Google Cloud, address these concerns by offering region-specific data centers and compliance management tools designed to align with regional regulations and legal frameworks.', 'source': 'https://en.wikipedia.org/wiki/Cloud_computing_issues'}, page_content='Cloud computing enables users to access scalable and on-demand computing resources via the internet, utilizing hardware and software virtualization. It is a rapidly evolving technology capable of delivering extensible services efficiently, supporting a wide range of applications from personal storage solutions to enterprise-level systems. Despite its advantages, cloud computing also faces several challenges. Privacy concerns remain a primary issue, as users often lose direct control over their data once it is stored on servers owned and managed by cloud providers. This loss of control can create uncertainties regarding data privacy, unauthorized access, and compliance with regional regulations such as the General Data Protection Regulation (GDPR), the Health Insurance Portability and Accountability Act (HIPAA), and the California Consumer Privacy Act (CCPA). Service agreements and shared responsibility models define the boundaries of control and accountability between the cloud provider and the customer, but misunderstandings or mismanagement in these areas can still result in security breaches or accidental data loss. Cloud providers offer tools, such as AWS Artifact (compliance documentation and audits), Azure Compliance Manager (compliance assessments and risk analysis), and Google Assured Workloads (region-specific data compliance), to assist customers in managing compliance requirements. \\nSecurity issues in cloud computing are generally categorized into two broad groups. The first involves risks faced by cloud service providers, including vulnerabilities in their infrastructure, software, or third-party dependencies. The second includes risks faced by cloud customers, such as misconfigurations, inadequate access controls, and accidental data exposure. These risks are often amplified by human error or a lack of understanding of the shared responsibility model. Security responsibilities also vary depending on the service model—whether Infrastructure as a Service (IaaS), Platform as a Service (PaaS), or Software as a Service (SaaS). In general, cloud providers are responsible for hardware security, physical infrastructure, and software updates, while customers are responsible for data encryption, identity and access management (IAM), and application-level security. \\nAnother significant concern is uncertainty regarding guaranteed Quality of Service (QoS), particularly in multi-tenant environments where resources are shared among customers. Major cloud providers address these concerns through Service Level Agreements (SLAs), which define performance and uptime guarantees and often offer compensation in the form of service credits when guarantees are unmet. Automated management and remediation processes, supported by tools such as AWS CloudWatch, Azure Monitor, and Google Cloud Operations Suite, help detect and respond to large-scale failures. Despite these tools, managing QoS in highly distributed and multi-tenant systems remains complex. For latency-sensitive workloads, cloud providers have introduced edge computing solutions, such as AWS Wavelength, Azure Edge Zones, and Google Distributed Cloud Edge, to minimize latency by processing data closer to the end-user.  \\nJurisdictional and regulatory requirements regarding data residency and sovereignty introduce further complexity. Data stored in one region may fall under the legal jurisdiction of that region, creating potential conflicts for organizations operating across multiple geographies. Major cloud providers, such as AWS, Microsoft Azure, and Google Cloud, address these concerns by offering region-specific data centers and compliance management tools designed to align with regional regulations and legal frameworks. \\n\\n\\n== Factors Influencing Adoption and Suitability of Cloud Computing ==\\nThe decision to adopt cloud computing or maintain on-premises infrastructure depends on factors such as scalability, cost structure, latency requirements, regulatory constraints, and infra'), Document(metadata={'title': 'Multicloud', 'summary': 'Multicloud (also written as multi-cloud or multi cloud) is a term with varying interpretations, generally referring to a system using multiple cloud computing providers. According to ISO/IEC 22123-1: \"multi-cloud is a cloud deployment model in which a customer uses public cloud services provided by two or more cloud service providers\". Multi-cloud can involve various deployment models, including public, private, and hybrid clouds, and multiple service models, such as Infrastructure as a Service (IaaS), Platform as a Service (PaaS), and Software as a Service (SaaS). Multicloud incorporates workload, data, traffic and workflow portability options, exhibiting differing implementation complexities.\\nWhen effectively implemented, multicloud solutions can enhance architectural resilience, reduce dependence on a single vendor, and improve flexibility by leveraging services from different providers. However, multicloud strategies also present challenges, including increased operational complexity, security risks, higher costs, and integration difficulties.\\nAccording to the 2024 State of the Cloud Report by Flexera, multi-cloud adoption has continued to rise in 2024. Enterprises increasingly silo applications into specific clouds and select best-fit services. Key use cases include data analysis in separate clouds and cross-cloud disaster recovery.', 'source': 'https://en.wikipedia.org/wiki/Multicloud'}, page_content='Multicloud (also written as multi-cloud or multi cloud) is a term with varying interpretations, generally referring to a system using multiple cloud computing providers. According to ISO/IEC 22123-1: \"multi-cloud is a cloud deployment model in which a customer uses public cloud services provided by two or more cloud service providers\". Multi-cloud can involve various deployment models, including public, private, and hybrid clouds, and multiple service models, such as Infrastructure as a Service (IaaS), Platform as a Service (PaaS), and Software as a Service (SaaS). Multicloud incorporates workload, data, traffic and workflow portability options, exhibiting differing implementation complexities.\\nWhen effectively implemented, multicloud solutions can enhance architectural resilience, reduce dependence on a single vendor, and improve flexibility by leveraging services from different providers. However, multicloud strategies also present challenges, including increased operational complexity, security risks, higher costs, and integration difficulties.\\nAccording to the 2024 State of the Cloud Report by Flexera, multi-cloud adoption has continued to rise in 2024. Enterprises increasingly silo applications into specific clouds and select best-fit services. Key use cases include data analysis in separate clouds and cross-cloud disaster recovery.\\n\\n\\n== Advantages and challenges ==\\nThere are several advantages to using a multicloud approach, including the ability to negotiate better pricing with cloud providers, the ability to quickly switch to another provider if needed, and the ability to avoid vendor lock-in. Multicloud can also be a good way to hedge against the risks of obsolescence, as it allows you to rely on multiple vendors and open standards, which can prolong the life of your systems.\\nAdditional benefits of the multicloud architecture include adherence to local policies that require certain data to be physically present within the area/country, geographical distribution of processing requests from physically closer cloud unit which in turn reduces latency and protect against disasters.\\nVarious issues and challenges also present themselves in a multicloud environment. Security and governance is more complicated, and more \"moving parts\" may create resiliency issues.\\n\\n\\n== Difference between multicloud and hybrid cloud ==\\nMulticloud differs from hybrid cloud in that it refers to multiple cloud services from different vendors rather than multiple deployment modes (on-premises hardware, and public and private, cloud hosting). However, when considering a broad definition of multi-cloud, hybrid cloud can still be regarded as a special form of multi-cloud.\\n\\n\\n== See also ==\\nCloud computing\\nServerless computing\\n\\n\\n== References =='), Document(metadata={'title': 'Cloud Native Computing Foundation', 'summary': 'The Cloud Native Computing Foundation (CNCF) is a subsidiary of the Linux Foundation founded in 2015 to support cloud-native computing.', 'source': 'https://en.wikipedia.org/wiki/Cloud_Native_Computing_Foundation'}, page_content='The Cloud Native Computing Foundation (CNCF) is a subsidiary of the Linux Foundation founded in 2015 to support cloud-native computing.\\n\\n\\n== History ==\\nIt was announced alongside Kubernetes 1.0, an open source container cluster manager, which was contributed to the Linux Foundation by Google as a seed technology. Founding members include Google, CoreOS, Mesosphere, Red Hat, Twitter, Huawei, Intel, RX-M, Cisco, IBM, Docker, Univa, and VMware. Today, CNCF is supported by over 450 members.\\nIn August 2018 Google announced that it was handing over operational control of Kubernetes to the community.\\n\\n\\n== Projects ==\\nArgo: Argo is a collection of tools for getting work done with Kubernetes. Among its main features are Workflows and Events. It was accepted to CNCF on March 26, 2020 at the Incubating maturity level and then moved to the Graduated maturity level on December 6, 2022.\\nCilium: Cilium provides networking, security, and observability for Kubernetes deployments using eBPF technology. It joined the CNCF at incubation level in October 2021 and the CNCF announced its graduation in October 2023.\\ncontainerd: containerd is an industry-standard core container runtime. It is currently available as a daemon for Linux and Windows, which can manage the complete container lifecycle of its host system. In 2015, Docker donated the OCI Specification to The Linux Foundation with a reference implementation called runc. Since February 28, 2019 it is an official CNCF project. Its general availability and intention to donate the project to CNCF was announced by Docker in 2017.\\nCoreDNS: CoreDNS is a DNS server that chains plugins. Its graduation was announced in 2019.\\nDapr: Dapr, the distributed application runtime, provides APIs for building secure and reliable microservices and agentic AI systems. Dapr was donated to the CNCF in November 2021 and joined at incubation level. The CNCF announced its graduation in November 2024.\\nEnvoy: Originally built at Lyft to move their architecture away from a monolith, Envoy is a high-performance open source edge and service proxy that makes the network transparent to applications. Lyft contributed Envoy to Cloud Native Computing Foundation in September 2017.\\netcd: etcd is a distributed key value store, providing a method of storing data across a cluster of machines. It became a CNCF incubating project in 2018 at KubeCon+CloudNativeCon North America in Seattle that year.\\nFalco: Falco is an open source and cloud native runtime security initiative. It is the \"de facto Kubernetes threat detection engine\". It became an incubating project in January 2020  and graduated in February 2024.\\nFlux: Flux  is an open source project for powering GitOps in Kubernetes clusters. It provides the GitOps Toolkit, a set of Kubernetes APIs that allow you to define how configuration source code is securely pulled into your cluster and deployed by popular Kubernetes manifests rendering engines like Kustomize and Helm. The most recommended source mechanism is the OCIRepository API, which provides enhanced security and benefits from container image tooling out there. Flux has also notification integrations with popular services like Prometheus Alertmanager, PagerDuty, Slack and so on. Flux has graduated in CNCF in 2022.\\nHarbor: Harbor is an \"open source trusted cloud native registry project that stores, signs, and scans content.\" It became an incubating project in September 2019 and graduated in June 2020.\\nHelm: Helm is a package manager that helps developers \"easily manage and deploy applications onto the Kubernetes cluster.\" It joined the incubating level in June 2018 and graduated in April 2020.\\nIstio: Istio is a service mesh technology. It was accepted by CNCF in September 2022 and graduated on July 12, 2023.\\nJaeger: Created by Uber Engineering, Jaeger is an open source distributed tracing system inspired by Google Dapper paper and OpenZipkin community. It can be used for tracing microservice-based architectures, including distrib'), Document(metadata={'title': 'Amazon (company)', 'summary': 'Amazon.com, Inc., doing business as Amazon, is an American multinational technology company engaged in e-commerce, cloud computing, online advertising, digital streaming, and artificial intelligence. Founded in 1994 by Jeff Bezos in Bellevue, Washington, the company originally started as an online marketplace for books, but gradually expanded its offerings to include a wide range of product categories, referred to as \"The Everything Store\". Amazon is considered part of the Big Tech group, alongside Nvidia, Microsoft, Apple, Alphabet, and Meta.\\nThe company has multiple subsidiaries, including Amazon Web Services, providing cloud computing; Zoox, a self-driving car division; Kuiper Systems, a satellite Internet provider; and Amazon Lab126, a computer hardware R&D provider. Other subsidiaries include Ring, Twitch, IMDb, and Whole Foods Market. Its acquisition of Whole Foods in August 2017 for US$13.4 billion substantially increased its market share and presence as a physical retailer. Amazon also distributes a variety of downloadable and streaming content through its Amazon Prime Video, MGM+, Amazon Music, Twitch, Audible and Wondery units. It publishes books through its publishing arm, Amazon Publishing, produces and distributes film and television content through Amazon MGM Studios, including the Metro-Goldwyn-Mayer studio it acquired in March 2022, and owns Brilliance Audio and Audible, which produce and distribute audiobooks, respectively. Amazon also produces consumer electronics—most notably, Kindle e-readers, Echo devices, Fire tablets, and Fire TVs.\\nAmazon has a reputation as a disruptor of industries through technological innovation and aggressive reinvestment of profits into capital expenditures. As of 2023, it is the world\\'s largest online retailer and marketplace, smart speaker provider, cloud computing service through AWS, live-streaming service through Twitch, and Internet company as measured by revenue and market share. In 2021, it surpassed Walmart as the world\\'s largest retailer outside of China, driven in large part by its paid subscription plan, Amazon Prime, which has 200 million subscribers worldwide. It is the second-largest private employer in the United States and the second-largest company in the world and in the U.S. by revenue as of 2024 (after Walmart). As of October 2024, Amazon is the 12th-most visited website in the world and 84% of its traffic comes from the United States. Amazon is also the global leader in research and development spending, with R&D expenditure of US$73 billion in 2022. Amazon has been criticized for its business practices, including surveillance partnerships, poor worker conditions, anti-union efforts, environmental harm, anti-competitive behavior, censorship controversies, and exploitative treatment of small businesses and suppliers.', 'source': 'https://en.wikipedia.org/wiki/Amazon_(company)'}, page_content='Amazon.com, Inc., doing business as Amazon, is an American multinational technology company engaged in e-commerce, cloud computing, online advertising, digital streaming, and artificial intelligence. Founded in 1994 by Jeff Bezos in Bellevue, Washington, the company originally started as an online marketplace for books, but gradually expanded its offerings to include a wide range of product categories, referred to as \"The Everything Store\". Amazon is considered part of the Big Tech group, alongside Nvidia, Microsoft, Apple, Alphabet, and Meta.\\nThe company has multiple subsidiaries, including Amazon Web Services, providing cloud computing; Zoox, a self-driving car division; Kuiper Systems, a satellite Internet provider; and Amazon Lab126, a computer hardware R&D provider. Other subsidiaries include Ring, Twitch, IMDb, and Whole Foods Market. Its acquisition of Whole Foods in August 2017 for US$13.4 billion substantially increased its market share and presence as a physical retailer. Amazon also distributes a variety of downloadable and streaming content through its Amazon Prime Video, MGM+, Amazon Music, Twitch, Audible and Wondery units. It publishes books through its publishing arm, Amazon Publishing, produces and distributes film and television content through Amazon MGM Studios, including the Metro-Goldwyn-Mayer studio it acquired in March 2022, and owns Brilliance Audio and Audible, which produce and distribute audiobooks, respectively. Amazon also produces consumer electronics—most notably, Kindle e-readers, Echo devices, Fire tablets, and Fire TVs.\\nAmazon has a reputation as a disruptor of industries through technological innovation and aggressive reinvestment of profits into capital expenditures. As of 2023, it is the world\\'s largest online retailer and marketplace, smart speaker provider, cloud computing service through AWS, live-streaming service through Twitch, and Internet company as measured by revenue and market share. In 2021, it surpassed Walmart as the world\\'s largest retailer outside of China, driven in large part by its paid subscription plan, Amazon Prime, which has 200 million subscribers worldwide. It is the second-largest private employer in the United States and the second-largest company in the world and in the U.S. by revenue as of 2024 (after Walmart). As of October 2024, Amazon is the 12th-most visited website in the world and 84% of its traffic comes from the United States. Amazon is also the global leader in research and development spending, with R&D expenditure of US$73 billion in 2022. Amazon has been criticized for its business practices, including surveillance partnerships, poor worker conditions, anti-union efforts, environmental harm, anti-competitive behavior, censorship controversies, and exploitative treatment of small businesses and suppliers.\\n\\n\\n== History ==\\n\\n\\n=== 1994–2009 ===\\n\\nAmazon was founded on July 5, 1994, by Jeff Bezos after he relocated from New York City to Bellevue, Washington, near Seattle, to operate an online bookstore. Bezos chose the Seattle area for its abundance of technical talent from Microsoft and the University of Washington, as well as its smaller population for sales tax purposes and the proximity to a major book distribution warehouse in Roseburg, Oregon. Bezos also considered several other options, including Portland, Oregon, and Boulder, Colorado. The company, originally named Cadabra, was founded in the converted garage of Bezos\\'s house for symbolic reasons and was renamed to Amazon in November 1994. The Amazon website launched for public sales on July 16, 1995, and initially sourced its books directly from wholesalers and publishers. Bezos retained the URL www.relentless.com, which he purchased when considering a name for the company; it redirects to the Amazon homepage.\\nAmazon went public in May 1997. It began selling music and videos in 1998, and began international operations by acquiring online sellers of books in the United Kingdom and Germany. In the '), Document(metadata={'title': 'Google App Engine', 'summary': 'Google App Engine (also referred to as GAE or App Engine) is a cloud computing platform used as a service for developing and hosting web applications. Applications are sandboxed and run across multiple Google-managed servers. GAE supports automatic scaling for web applications, allocating more resources to the web application as the amount of requests increases. It was released as a preview in April 2008 and launched officially in September 2011.\\nApplications written in Go, PHP, Java, Python, Node.js, .NET, and Ruby are supported by the App Engine, and other languages can be supported at an additional cost. The free version of the service offers a standard environment with limited resources. Fees are charged for additional storage, bandwidth, or instance hours.', 'source': 'https://en.wikipedia.org/wiki/Google_App_Engine'}, page_content='Google App Engine (also referred to as GAE or App Engine) is a cloud computing platform used as a service for developing and hosting web applications. Applications are sandboxed and run across multiple Google-managed servers. GAE supports automatic scaling for web applications, allocating more resources to the web application as the amount of requests increases. It was released as a preview in April 2008 and launched officially in September 2011.\\nApplications written in Go, PHP, Java, Python, Node.js, .NET, and Ruby are supported by the App Engine, and other languages can be supported at an additional cost. The free version of the service offers a standard environment with limited resources. Fees are charged for additional storage, bandwidth, or instance hours.\\n\\n\\n== Features ==\\nGoogle App Engine primarily supports Go, PHP, Java, Python, Node.js, .NET, and Ruby applications, although it can also support other languages via \"custom runtimes\".\\nPython web frameworks that run on Google App Engine include Django, CherryPy, Pyramid, Flask, and web2py as well as a Google-written web app framework and several others designed specifically for the platform that was created after the release. Any Python framework that supports the WSGI using the CGI adapter can be used to create an application, and the framework can be uploaded with the developed application. Third-party libraries written in Python may also be uploaded.\\nSDK version 1.2.2 added support for bulk downloads of data using Python.\\nApp Engine\\'s integrated Google Cloud Datastore database has a SQL-like syntax called \"GQL\" (Google Query Language). GQL does not support the join statement. Instead, one-to-many and many-to-many relationships can be accomplished using ReferenceProperty().\\nGoogle Cloud Firestore is the successor to Google Cloud Datastore and replaces GQL with a document-based query method that treats stored objects as collections of documents. Firestore was launched in October 2017.\\n\\n\\n=== Backends ===\\nIn Google I/O 2011, Google announced App Engine Backends, which were allowed to run continuously and consume more memory. The Backend API was deprecated as of March 13, 2014, in favor of the Modules API. The Modules API introduced finer control over scaling, versioning, and resource allocation, allowing developers to run different parts of an application with distinct performance settings.\\n\\n\\n=== Google Cloud SQL ===\\nIn October 2011, Google previewed a zero-maintenance SQL database, which supports JDBC and DB-API. This service allows creating, configuring, and using relational databases with App Engine applications. Google Cloud SQL supports MySQL 8.0, 5.7, and 5.6.\\n\\n\\n=== Restrictions ===\\nDevelopers have read-only access to the file system on App Engine. Applications can use only virtual file systems.\\nApp Engine can only execute code called from an HTTP request (scheduled background tasks allow for self-calling HTTP requests).\\nUsers may upload arbitrary Python modules, but only if they are pure Python. C and Pyrex modules are not supported.\\nJava applications may only use a subset (The JRE Class White List) of the classes from the JRE standard edition. This restriction does not exist with the App Engine Standard Java8 runtime.\\nA process started on the server to answer a request can\\'t last more than 60 seconds (with the 1.4.0 release, this restriction does not apply to background jobs anymore).\\nDoes not support sticky sessions (a.k.a. session affinity), only replicated sessions are supported including limitation of the amount of data being serialized and time for session serialization.\\n\\n\\n=== Application hosting ===\\nWhile other services let users install and configure nearly any *NIX compatible software, App Engine requires developers to use only its supported languages, APIs, and frameworks. Current APIs allow storing and retrieving data from the document-oriented Google Cloud Datastore database, making HTTP requests, sending e-mail, manipulating images, and caching. Google '), Document(metadata={'title': 'Cloud-Based Secure File Transfer', 'summary': 'Cloud-Based Secure File Transfer is a managed or hosted file transfer service that provides cloud storage that can be accessed via SSH File Transfer Protocol (SFTP). These services allow secure, reliable file transfers while offering the scalability, redundancy, and high availability of cloud infrastructure.', 'source': 'https://en.wikipedia.org/wiki/Cloud-Based_Secure_File_Transfer'}, page_content='Cloud-Based Secure File Transfer is a managed or hosted file transfer service that provides cloud storage that can be accessed via SSH File Transfer Protocol (SFTP). These services allow secure, reliable file transfers while offering the scalability, redundancy, and high availability of cloud infrastructure.\\n\\n\\n== Technical overview ==\\nThe evolution of file transfer protocols began with File Transfer Protocol (FTP) and SSH File Transfer Protocol (SFTP). SFTP offered enhanced security through the use of SSH (Secure Shell) encryption, which addressed many of the security concerns associated with traditional FTP.\\nOver time, as businesses increasingly adopted cloud infrastructure, the demand for services that integrate secure file transfer with cloud storage led to the rise of Cloud-Based Secure File Transfer services. These services combine the benefits of secure, encrypted file transfer with the scalability and flexibility of cloud-based storage systems.\\nTraditional on-premises SFTP typically involves setting up and managing physical or virtual servers to handle file transfers. In contrast, Cloud-Based Secure File Transfer utilizes managed cloud infrastructure, such as AWS EC2, Azure VMs, or Google Cloud, to automate scaling, ensure redundancy, and provide high availability. These cloud environments can be configured to automatically scale with demand, enabling businesses to handle large volumes of data transfers without the need for extensive physical hardware.\\n\\n\\n== Features ==\\nScalability and availability: Cloud-Based Secure File Transfer services are inherently scalable, with features like load balancing, multi-region deployments, and auto-scaling groups that adjust resources in response to traffic spikes. This ensures that the system can handle varying workloads and provides continuous availability, even during high-demand periods.\\nCost-effectiveness: By eliminating the need for physical infrastructure and reducing ongoing server maintenance costs, Cloud-Based Secure File Transfer services offer significant cost savings compared to traditional on-premises services. Cloud providers typically offer pay-as-you-go pricing models, where users only pay for the resources they use, further optimizing costs.\\nSecurity and compliance: Cloud-Based Secure File Transfer products offer strong security measures, including end-to-end encryption, key management, detailed logging, and auditing. These services are often compliant with industry regulations such as HIPAA (Health Insurance Portability and Accountability Act), GDPR (General Data Protection Regulation), and SOC 2 (System and Organization Controls), ensuring that data transfers meet necessary security and privacy standards.\\n\\n\\n== Cloud-Based Secure File Transfer providers ==\\n\\n\\n== Uses ==\\nCloud-Based Secure File Transfer is used across various industries to securely transfer sensitive data and integrate into business workflows. In healthcare, Cloud-Based Secure File Transfer is essential for securely transferring electronic Protected Health Information (ePHI), ensuring compliance with regulations like HIPAA. In financial institutions, it is used to protect sensitive financial data during transfer, maintaining privacy and security. Data analytics also benefits from Cloud-Based Secure File Transfer, offering a secure and efficient method for transferring large datasets between systems or partners.\\nTechnically, Cloud-Based Secure File Transfer is often integrated into enterprise workflows through automated file transfers, using scripting or APIs. It also plays a key role in cloud backup and disaster recovery, ensuring that files are securely transferred and stored in cloud environments, which supports business continuity.\\nHowever, businesses must address certain implementation challenges. Despite its secure design, Cloud-Based Secure File Transfer is not immune to risks such as misconfigured SSH keys, improper access control, or inadequate encryption.\\nRegular security audits and careful co'), Document(metadata={'title': 'Cilium (computing)', 'summary': 'Cilium is a cloud native technology for networking, observability, and security. It is based on the kernel technology eBPF, originally for better networking performance, and now leverages many additional features for different use cases. The core networking component has evolved from only providing a flat Layer 3 network for containers to including advanced networking features, like BGP and Service mesh, within a Kubernetes cluster, across multiple clusters, and connecting with the world outside Kubernetes. Hubble was created as the network observability component and Tetragon was later added for security observability and runtime enforcement. Cilium runs on Linux and is one of the first eBPF applications being ported to Microsoft Windows through the eBPF on Windows project.', 'source': 'https://en.wikipedia.org/wiki/Cilium_(computing)'}, page_content=\"Cilium is a cloud native technology for networking, observability, and security. It is based on the kernel technology eBPF, originally for better networking performance, and now leverages many additional features for different use cases. The core networking component has evolved from only providing a flat Layer 3 network for containers to including advanced networking features, like BGP and Service mesh, within a Kubernetes cluster, across multiple clusters, and connecting with the world outside Kubernetes. Hubble was created as the network observability component and Tetragon was later added for security observability and runtime enforcement. Cilium runs on Linux and is one of the first eBPF applications being ported to Microsoft Windows through the eBPF on Windows project.\\n\\n\\n== History ==\\nEvolution from Networking CNI (Container Network Interface)\\nCilium began as a networking CNI for container workloads. It was originally IPv6 only and supported multiple container orchestrators, like Kubernetes. The original vision for Cilium was to build an intent and identity-based high-performance container networking platform. As the cloud native ecosystem expanded, Cilium added new projects and features to address new problems in the space.\\nThe table below summarises some of the most significant milestones of this evolution:\\n\\nDecember 2015 - Initial commit to the Cilium project\\nMay 2016 - Network policy was added, expanding the scope beyond just networking\\nAugust 2016 - Cilium was initially announced during LinuxCon as a project providing fast IPv6 container networking with eBPF and XDP. Today, Cilium has been adopted by major cloud provider's Kubernetes offerings and is one of the most widely used CNIs.\\nAugust 2017 - ebpf-go was created as a library to read, modify, and load eBPF programs and attach them to various hooks.\\nApril 2018 - Cilium 1.0 is the first stable release\\nNovember 2019 - Hubble was launched to provide eBPF-based observability to network flows\\nAugust 2020 - Chosen by Google as the basis for their Kubernetes Dataplane v2\\nSeptember 2021 - AWS picks Cilium for Networking & Security on EKS Anywhere\\nOctober 2021 - Pwru was launched for tracing network packets in the Linux kernel with advanced filtering capabilities\\nOctober 2021 - Accepted into CNCF as an incubation level project\\nDecember 2021 - Cilium Service Mesh launched to help manage traffic between services\\nMay 2022 - Tetragon open sourced to cover security observability and runtime enforcement\\nOctober 2022 - Chosen as CNI for Azure\\nApril 2023 - Cilium Mesh launched to connect workloads and machines across cloud, on-prem, and edge\\nApril 2023 - First CiliumCon hosted as a part of KubeCon\\nOctober 2023 - Cilium becomes a CNCF Graduated project \\n\\n\\n=== CNCF ===\\nCilium was accepted into the Cloud Native Computing Foundation on October 13th, 2021 as an incubation-level project. It applied to become a graduated project on October 27th 2022. It became a Graduated project one year later. Cilium is one of the fastest-moving projects in the CNCF ecosystem.\\n\\n\\n=== Adoption ===\\nCilium has been adopted by many large-scale production users, including over 100 that have stated it publicly, for example:\\n\\nDatadog uses Cilium as their CNI and kube-proxy replacement\\nAscend uses Cilium as their one CNI across multiple cloud providers\\nBell Canada uses Cilium and eBPF for telco networking\\nCosmonic uses Cilium for their Nomad-based PaaS\\nIKEA uses Cilium for their self-hosted bare-metal private cloud\\nS&P Global uses Cilium as its CNI\\nSky uses Cilium as their CNI and for network security\\nThe New York Times uses Cilium on EKS for multi-region multi-tenant shared clusters\\nTrip.com uses Cilium both on premise and in AWS\\nOpenAI uses Cilium as their CNI\\nTikTok uses Cilium as their CNI in their IPv6-only datacenters\\nCilium is the CNI for many cloud providers including Alibaba, APPUiO, Azure, AWS, DigitalOcean, Exoscale, Google Cloud, Hetzner, and Tencent Cloud.\\n\\n\\n== Projects overview ==\\n\\n\\n=== Cilium ==\"), Document(metadata={'title': 'Carbyne (company)', 'summary': 'Carbyne (formerly Reporty Homeland Security) is an Israeli technology company that develops advanced emergency communication solutions. Founded in 2015, Carbyne focuses on providing real-time video, location, and data transmission to enhance emergency response systems worldwide. Its platform enables public safety answering points (PSAPs) to receive critical information from callers, improving response times and situational awareness. The company, headquartered in New York with R&D operations in Tel Aviv, has attracted significant investments and partnered with global telecoms, though it has faced scrutiny due to some of its historical and current investors.\\nCarbyne’s technology has been adopted by emergency services in 23 U.S. states and several other countries, including deployments in cities such as Miami, Atlanta, New Orleans, New York City and by agencies in Mexico and Colombia. In Israel, its platform has been used by the Tel Aviv and Jerusalem municipalities and the volunteer emergency organization United Hatzalah.', 'source': 'https://en.wikipedia.org/wiki/Carbyne_(company)'}, page_content='Carbyne (formerly Reporty Homeland Security) is an Israeli technology company that develops advanced emergency communication solutions. Founded in 2015, Carbyne focuses on providing real-time video, location, and data transmission to enhance emergency response systems worldwide. Its platform enables public safety answering points (PSAPs) to receive critical information from callers, improving response times and situational awareness. The company, headquartered in New York with R&D operations in Tel Aviv, has attracted significant investments and partnered with global telecoms, though it has faced scrutiny due to some of its historical and current investors.\\nCarbyne’s technology has been adopted by emergency services in 23 U.S. states and several other countries, including deployments in cities such as Miami, Atlanta, New Orleans, New York City and by agencies in Mexico and Colombia. In Israel, its platform has been used by the Tel Aviv and Jerusalem municipalities and the volunteer emergency organization United Hatzalah.\\n\\n\\n== History ==\\nCarbyne was founded in April 2015 by Amir Elichai (who serves as CEO), along with Alex Dizengoff (CTO), Yony Yatsun, and Lital Leshem under the name Reporty Homeland Security. The startup initially developed a platform for live video streaming and geolocation data to assist emergency call centers.\\nThe company rebranded to Carbyne in early 2018 – a name referencing an extremely strong allotrope of carbon. By 2018 Carbyne had raised about $24 million in venture funding (including backing from Founders Fund, the first Israeli startup in that fund’s portfolio) and was valued near $100 million.\\nIn April 2019, the company began collaborating with Cisco, the network equipment giant, to incorporate their hardware into its systems. Two months later, Carbyne announced a partnership with Google to integrate Android phone location services into emergency command centers across Mexico.\\nCarbyne established its headquarters in New York City in October 2019 while maintaining R&D operations in Tel Aviv, and it expanded with offices in the United States, Mexico, Europe, India, and Ukraine.\\nIn 2025, it secured a $100 million funding round led by strategic partners like AT&T, and reported deployments in roughly 300 emergency response centers worldwide.\\n\\n\\n== Products ==\\nCarbyne develops cloud-based “Next Generation 911” (NG911) solutions aimed at modernizing emergency communication. Its platform enables real-time transmission of rich data from callers to public safety answering points (PSAPs). For example, when a distress call is made, Carbyne’s system can provide the 911 dispatcher with the caller’s precise GPS location, live video feed from the caller’s smartphone camera, audio streaming, text messaging, and other telemetry in parallel with the voice call. The company offers both an app-based service and an app-free option. With the Carbyne mobile app (previously called “C-Now”), users can pre-install it on iOS or Android to automatically send video and location data during an emergency call.\\nAlternatively, Carbyne’s web-based feature (known as “C-Lite”) allows a 911 center to text an auto-generated URL link to a caller, which when tapped activates the phone’s camera and streams video and location to the dispatcher – all without requiring the caller to have any app installed. Both methods are cloud-native and work with legacy 911 infrastructure by creating an over-the-top data channel, enabling quick deployment with minimal changes to existing call centers. Carbyne claims its technology can significantly improve response efficiency (reducing emergency response times by up to 65% on average) by providing first responders with critical situational information before they arrive on scene. The platform also includes capabilities for indoor positioning (to locate callers inside buildings) and integration of additional data sources such as IoT sensors or surveillance feeds to give a comprehensive picture of an incident'), Document(metadata={'title': 'Nonprofit organization', 'summary': \"A nonprofit organization (NPO), also known as a nonbusiness entity, nonprofit institution, not-for-profit organization (NFPO), or simply a nonprofit, is a non-governmental legal entity that operates for a collective, public, or social benefit, rather than to generate profit for private owners. Nonprofit organisations are subject to a non-distribution constraint, meaning that any revenue exceeding expenses must be used to further the organization’s purpose. Depending on local laws, nonprofits may include charities, political organizations, schools, hospitals, business associations, churches, foundations, social clubs, and cooperatives. Some nonprofit entities obtain tax-exempt status and may also qualify to receive tax-deductible contributions; however, an organization can still be a nonprofit without having tax exemption. \\nKey aspects of nonprofit organisations are their ability to fulfill their mission with respect to accountability, integrity, trustworthiness, honesty, and openness to every person who has invested time, money, and faith into the organization. Nonprofit organizations are accountable to the donors, founders, volunteers, program recipients, and the public community. Theoretically, for a nonprofit that seeks to finance its operations through donations, public confidence is a factor in the amount of money that a nonprofit organization is able to raise. Presumably, the more a nonprofit focuses on their mission, the more public confidence they will gain. This may result in more money for the organization.\\nThere is an important distinction in the US between non-profit and not-for-profit organizations (NFPOs); while an NFPO does not profit its owners, and money goes into running the organization, it is not required to operate for the public good. An example is a sports club, whose purpose is its members' enjoyment. The names used and precise regulations vary from one jurisdiction to another.\\n\\n\", 'source': 'https://en.wikipedia.org/wiki/Nonprofit_organization'}, page_content=\"A nonprofit organization (NPO), also known as a nonbusiness entity, nonprofit institution, not-for-profit organization (NFPO), or simply a nonprofit, is a non-governmental legal entity that operates for a collective, public, or social benefit, rather than to generate profit for private owners. Nonprofit organisations are subject to a non-distribution constraint, meaning that any revenue exceeding expenses must be used to further the organization’s purpose. Depending on local laws, nonprofits may include charities, political organizations, schools, hospitals, business associations, churches, foundations, social clubs, and cooperatives. Some nonprofit entities obtain tax-exempt status and may also qualify to receive tax-deductible contributions; however, an organization can still be a nonprofit without having tax exemption. \\nKey aspects of nonprofit organisations are their ability to fulfill their mission with respect to accountability, integrity, trustworthiness, honesty, and openness to every person who has invested time, money, and faith into the organization. Nonprofit organizations are accountable to the donors, founders, volunteers, program recipients, and the public community. Theoretically, for a nonprofit that seeks to finance its operations through donations, public confidence is a factor in the amount of money that a nonprofit organization is able to raise. Presumably, the more a nonprofit focuses on their mission, the more public confidence they will gain. This may result in more money for the organization.\\nThere is an important distinction in the US between non-profit and not-for-profit organizations (NFPOs); while an NFPO does not profit its owners, and money goes into running the organization, it is not required to operate for the public good. An example is a sports club, whose purpose is its members' enjoyment. The names used and precise regulations vary from one jurisdiction to another.\\n\\n\\n== Fundraising ==\\nNonprofit organizations are not driven by generating profit, but they must bring in enough income to pursue their social goals. Nonprofits are able to raise money in different ways. This includes income from donations from individual donors or foundations, sponsorship from corporations, government funding, programs, services, merchandise sales, and investments. With an increase in NPOs since 2010, some organizations have adopted competitive advantages to create revenue for themselves to remain financially stable. Donations from private individuals or organizations can change each year and government grants have diminished. With changes in funding from year to year, many nonprofit organizations have been moving toward increasing the diversity of their funding sources. For example, many nonprofits that have relied on government grants have started fundraising efforts to appeal to individual donors.\\n\\n\\n== Access to subsidized and pro bono resources ==\\nBeyond direct financial donations, many nonprofit organizations rely on in-kind contributions of services and technology from the corporate sector. These programs are designed to provide NPOs with access to essential tools at little to no cost, enabling them to operate more efficiently and expand their reach.\\nNotable programs available to eligible nonprofits include:\\n\\nGoogle for Nonprofits: This suite provides access to premium Google services at no charge. Its most well-known component is the Google Ad Grants program, which offers eligible organizations up to $10,000 USD per month in in-kind search advertising to promote their mission and attract donors.\\nMicrosoft for Nonprofits: Microsoft provides grants and heavily discounted access to its cloud software, including Microsoft 365, Azure, and Dynamics 365. These resources help NPOs with data security, collaboration, and managing donor relationships.\\nTechSoup: Acting as an intermediary, TechSoup provides a marketplace for nonprofits to access donated and discounted software and hardware from partners like Adobe, Intu\"), Document(metadata={'title': 'MongoDB Inc.', 'summary': 'MongoDB, Inc. is an American software company that develops and provides commercial support for the source-available database engine MongoDB, a database for unstructured data. Over the years, the company has expanded the product from its NoSQL roots to have broader appeal to enterprise customers, such as adding ACID and transactions.\\nIn 2016, the company introduced a SaaS version of the product, called Atlas. As of 2025 there were 59,000 MongoDB customers.\\nIn 2018, the company abandoned AGPL licensing of its product and in its stead introduced the Server Side Public License, which is not OSI-approved.\\nMongoDB, Inc. is a member of the MACH Alliance.', 'source': 'https://en.wikipedia.org/wiki/MongoDB_Inc.'}, page_content=\"MongoDB, Inc. is an American software company that develops and provides commercial support for the source-available database engine MongoDB, a database for unstructured data. Over the years, the company has expanded the product from its NoSQL roots to have broader appeal to enterprise customers, such as adding ACID and transactions.\\nIn 2016, the company introduced a SaaS version of the product, called Atlas. As of 2025 there were 59,000 MongoDB customers.\\nIn 2018, the company abandoned AGPL licensing of its product and in its stead introduced the Server Side Public License, which is not OSI-approved.\\nMongoDB, Inc. is a member of the MACH Alliance.\\n\\n\\n== History ==\\nThe company was first established in 2007 as 10gen. Based in New York City, 10gen was founded by former DoubleClick founder and CTO Dwight Merriman and former DoubleClick CEO and Gilt Groupe founder Kevin P. Ryan with former DoubleClick engineer and ShopWiki founder and CTO Eliot Horowitz and received $81 million in venture capital funding from Flybridge Capital Partners, In-Q-Tel, Intel Capital, New Enterprise Associates (NEA), Red Hat, Sequoia Capital, and Union Square Ventures. 10gen originally aimed to build a platform as a service architecture based entirely on open source components; however, the company was unable to find an existing database platform that met their principles for a cloud architecture. As a result, the company began to develop a document-oriented database system it called MongoDB. After realizing the potential of the software on its own, 10gen's team decided to scrap its cloud platform and focus on maintaining MongoDB instead. In February 2009, 10gen released MongoDB as an open source project. 10gen opened its first west coast office in August 2010, having offices in Palo Alto, Reston, London, Dublin, Barcelona, and Sydney by 2012.\\nIn September 2012, 10gen was in The Wall Street Journal's The Next Big Thing 2012.\\nOn August 27, 2013, 10gen announced that it would change its name to MongoDB Inc., associating itself more closely with what became its flagship products.\\nIn 2013, the Identification Authority of India adopted MongoDB's software to analyze registration trends for new identity documents used to obtain government benefits in India. This raised concerns of potential espionage, since at-the-time MongoDB was partially funded by the United States CIA venture capital arm, In-Q-Tel. As of 2013, there is no evidence in the public domain the CIA actually has any influence over MongoDB.\\nOn August 5, 2014, Dev Ittycheria was appointed president and chief executive officer.\\nBy 2017, MongoDB had raised $311 million in funding from venture capitalists. MongoDB filed for an initial public offering on September 21, 2017 and went public on NASDAQ that October 20. It raised $192 million, valuing the company at $1.6 billion overall. Its market capitalization varied greatly afterwards, reaching $39 billion in 2021 and coming back down to $10 billion by 2024.\\nMongoDB acquired database engine company WiredTiger in 2014, followed by database-as-a-service company MLab for $68 million in 2018. The following year, in 2019, MongoDB acquired a mobile-focused database company called Realm for $39 million.\\nA secondary public offering was held on June 29, 2021. In 2022, MongoDB established its own venture capital fund.\\n\\n\\n== Software ==\\nAs of 2025, MongoDB was the fifth most popular database software. It focuses mostly on managing large databases of unstructured data. It's typically used for mobile and web apps that commonly use unstructured databases. As of 2024, there were 50,000 MongoDB customers. MongoDB was originally best known as a NoSQL database product. The company released a database as-a-service product called Atlas in 2016 that became 70 percent of MongoDB's revenue by 2024. Over time, MongoDB added analytics, transactional databases, encryption, vector databases, ACID, migration features, and other enterprise tools. Initially, the MongoDB software was fr\"), Document(metadata={'title': 'OASIS TOSCA', 'summary': 'Topology and Orchestration Specification for Cloud Applications (TOSCA) is an OASIS standard language to describe a topology of cloud based web services, their components, relationships, and the processes that manage them. The TOSCA standard includes specifications of a file archive format called CSAR.', 'source': 'https://en.wikipedia.org/wiki/OASIS_TOSCA'}, page_content='Topology and Orchestration Specification for Cloud Applications (TOSCA) is an OASIS standard language to describe a topology of cloud based web services, their components, relationships, and the processes that manage them. The TOSCA standard includes specifications of a file archive format called CSAR.\\n\\n\\n== History ==\\nOn 16 January 2014, OASIS TOSCA Technical Committee approved TOSCA 1.0 as a standard. Version 1.3 was approved on 26 February 2020  and work is ongoing to define version 2.0\\n\\n\\n== Specification ==\\nThe specification is fully described in the standard  and has been cited in academic papers such as \\n\\n\\n=== Related specifications ===\\nCommercialization of cloud computing offerings has required manageability of tenant applications, particularly on a large scale.  As such, vendors who offer their services to a wide market have written related standards that predate, or have been developed concurrently, with the OASIS TOSCA standard.\\n\\n\\n==== Amazon AWS CloudFormation template ====\\nThe AWS CloudFormation template is a JSON data standard to allow cloud application administrators to define a collection of related AWS resources.\\nCloudFormation is a proprietary format from AWS, that is not TOSCA based, and therefore does not bring the promise OASIS TOSCA is targeting.\\nCheck this grammar  compared to the OASIS TOSCA one \\n.\\n\\n\\n==== OpenStack Heat ====\\nThe OpenStack Foundation has also defined a similar standard for specifying resources and the orchestrations for managing infrastructure, and application lifecycles.  The heat-translator project was one of the first to adopt TOSCA for standardized templating.\\n\\n\\n== Related projects ==\\n\\n\\n=== Cloudify ===\\nCloudify allows organizations an effortless transition to public cloud and Cloud-Native architecture by enabling them to automate their existing infrastructure alongside cloud native and distributed edge resources. Cloudify also allows users to manage different orchestration and automation domains as part of one common CI/CD pipeline.\\nCloudify is an open source, multi-cloud orchestration platform featuring unique technology that packages infrastructure, networking, and existing automation tools into certified blueprints. It is an open-source cloud orchestration framework. which enables you to model applications and services and automate their entire life cycle.\\n\\n\\n=== Alien4Cloud ===\\nApplication LIfecycle ENabler for Cloud (Alien4Cloud) is an open-source TOSCA based designer and cloud application lifecycle management platform. It is integrated with Yorc for runtime orchestration though other orchestrators can be plugged to it.\\n\\n\\n=== Opera (xOpera orchestrator) ===\\nThe xOpera project provides a set of tools for orchestration and automation of the cloud applications. The xOpera includes Opera orchestrator (Python library), a lightweight, open-source and state-aware orchestrator based on Ansible and TOSCA Simple Profile in YAML v1.3. The project also includes a tool, called Template Library Publishing Service, for publishing TOSCA components and templates. In 2021 xOpera project was presented on the TOSCA TC implementation stories webinar.\\n\\n\\n=== Yorc ===\\nYstia Orchestrator (Yorc) is an open-source TOSCA orchestration engine. It aims to support the whole application lifecycle, from deployment, scaling, monitoring, self-healing, self-scaling to application upgrade, over hybrid infrastructures (IaaS, HPC schedulers, CaaS).\\n\\n\\n=== Ubicity ===\\nUbicity provides tooling and orchestrators based on TOSCA.\\n\\n\\n=== MiCADOscale ===\\nMiCADOscale is an open-source TOSCA-based cloud resource orchestration framework for applications using Docker.\\n\\n\\n=== Infrastructure Manager ===\\nInfrastructure Manager (IM)  is an open-source TOSCA-based orchestration framework based on YAML.\\n\\n\\n== Related research projects ==\\n\\n\\n=== CloudCycle ===\\nCloudCycle was funded by the German Federal Ministry for Economic Affairs and Energy and ran from November 2011 to October 2014.\\nIt covered an open source TOSCA modeler and an open sou'), Document(metadata={'title': 'Pegasystems', 'summary': 'Pegasystems Inc. (Pega) is a global software company based in Waltham, Massachusetts, in the United States, and founded in 1983. The company has been publicly traded since 1996 as PEGA (NASDAQ). Pega is a platform for workflow automation and generative AI-powered decision-making for businesses.\\n\\n', 'source': 'https://en.wikipedia.org/wiki/Pegasystems'}, page_content=\"Pegasystems Inc. (Pega) is a global software company based in Waltham, Massachusetts, in the United States, and founded in 1983. The company has been publicly traded since 1996 as PEGA (NASDAQ). Pega is a platform for workflow automation and generative AI-powered decision-making for businesses.\\n\\n\\n== History ==\\n\\n\\n=== Early history ===\\nAlan Trefler founded Pegasystems in 1983 at the age of 27 in Cambridge, Massachusetts. Prior to founding the company, in the early 1980s, Trefler had developed computer systems that could play chess. During the company's early years, it focused on providing case management, namely for companies such as American Express. The company went public in 1996 with initial and secondary public offerings,  and began trading on NASDAQ under the symbol PEGA.\\n\\n\\n=== 2010–2019 ===\\nIn March 2010, Pegasystems acquired the enterprise software company Chordiant for around $161.5 million. The acquisition expanded Pegasystems into online training, telecommunications, and healthcare, integrating Chordiant’s CRM technology into its operations. Pega Cloud was introduced using Amazon Web Services in 2012, and in October 2013, Pegasystems acquired the mobile application developer (based in Kraków and Bangalore) Antenna Software for $27.7 million.\\nIn 2014, Pegasystems invested in network operations in North America and India to support its cloud services. In 2014, Pegasystems acquired MeshLabs, a Bangalore-based text mining startup, and Firefly, a co-browsing tool.\\nAs of February 2015, the company had active partnerships with IT outsourcing companies such as Hexaware, NIIT Incessant Technologies, Tata Consultancy Services, Infosys, Wipro, HCL Technologies, Accenture, and Cognizant. Between 2005 and 2015, Pegasystems had an average sales growth of 21% per year. The company Pegasystems acquired OpenSpan Inc., an Atlanta-based company specializing in robotic process automation and workforce analytics software.\\nIn February 2019, Pegasystems purchased Infruid Labs, a business analytics and data visualization software company. In May 2019, the company bought In The Chat, a digital messaging platform.\\n\\n\\n=== 2020–present ===\\nIn May 2020, Pegasystems sponsored a Dropkick Murphys benefit concert at Fenway Park, featuring a virtual appearance by Bruce Springsteen. The live-streamed event raised over $700,000 for COVID relief and supported Habitat for Humanity, Feeding America, and the Boston Resiliency Fund.\\nIn January 2021, the company announced it had acquired Qurious.io, which provides a cloud service that analyzes voice calls in real time to support customer service representatives.\\nIn 2021, Pegasystems moved its headquarters to Waltham, Massachusetts, became the official Ryder Cup supplier, and sponsored golfers Marc Leishman and Mel Reid, with Reid notably wearing the company’s Pride logo in competition.\\nIn May 2022, a jury verdict awarded Appian Corporation $2.036 billion in damages for trade secret misappropriation and a damages award of $1 for a violation of the Virginia Computer Crimes Act. The company will not be required to begin paying the judgment until all avenues of appeal have been exhausted. In February 2023, Pega filed an appeal asking the court to overturn the previous judgment and either rule in Pega’s favor or order a new trial.\\nIn 2022, Pegasystems acquired Everflow, a Brazilian process mining company to support their process mining and hyper automation goals.\\nIn 2024, Pega expanded its GenAI capabilities to integrate with Large Language Models (LLMs) from Amazon Web Services (AWS) and Google Cloud.\\n\\n\\n== Products and services ==\\n\\n\\n=== Pega Platform ===\\nThe company's core software product is the Pega Platform, part of its Pega Infinity portfolio of applications for customer engagement and digital process automation, which are designed to connect customer interfaces with back-end process automation. Its applications are certified to work on Google Cloud and other public cloud platforms, including Microsoft Azure, \"), Document(metadata={'title': 'Multi-access edge computing', 'summary': 'Multi-access edge computing (MEC), formerly mobile edge computing, is an ETSI-defined network architecture concept that enables cloud computing capabilities and an IT service environment at the edge of the cellular network and, more in general at the edge of any network. The basic idea behind MEC is that by running applications and performing related processing tasks closer to the cellular customer, network congestion is reduced and applications perform better. MEC technology is designed to be implemented at the cellular base stations or other edge nodes, and enables flexible and rapid deployment of new applications and services for customers. Combining elements of information technology and telecommunications networking, MEC also allows cellular operators to open their radio access network (RAN) to authorized third parties, such as application developers and content providers.\\nTechnical standards for MEC are being developed by the European Telecommunications Standards Institute, which has produced a technical white paper about the concept.', 'source': 'https://en.wikipedia.org/wiki/Multi-access_edge_computing'}, page_content='Multi-access edge computing (MEC), formerly mobile edge computing, is an ETSI-defined network architecture concept that enables cloud computing capabilities and an IT service environment at the edge of the cellular network and, more in general at the edge of any network. The basic idea behind MEC is that by running applications and performing related processing tasks closer to the cellular customer, network congestion is reduced and applications perform better. MEC technology is designed to be implemented at the cellular base stations or other edge nodes, and enables flexible and rapid deployment of new applications and services for customers. Combining elements of information technology and telecommunications networking, MEC also allows cellular operators to open their radio access network (RAN) to authorized third parties, such as application developers and content providers.\\nTechnical standards for MEC are being developed by the European Telecommunications Standards Institute, which has produced a technical white paper about the concept.\\n\\n\\n== Distributed computing in the RAN ==\\nMEC provides a distributed computing environment for application and service hosting. It also has the ability to store and process content close to cellular subscribers, for faster response time. Applications can also be exposed to real-time radio access network (RAN) information.\\nThe key element is the MEC application server, which is integrated at the RAN element. This server provides computing resources, storage capacity, connectivity and access to RAN information. It supports a multitenancy run-time and hosting environment for applications.  The virtual appliance applications are delivered as packaged operating system virtual machine (VM) images or containers incorporating operating systems and applications. The platform also provides a set of middleware application and infrastructure services. Application software can be provided from equipment vendors, service providers and third-parties.\\n\\n\\n== Deployment ==\\nThe MEC application server can be deployed at the macro base station EnodeB that is part of an LTE cellular network, or at the Radio Network Controller (RNC) that is part of a 3G cellular network and at a multi-technology cell aggregation site. The multi-technology cell aggregation site can be located indoors or outdoors.\\n\\n\\n== Business and technical benefits ==\\nBy using mobile edge computing technology, a cellular operator can efficiently deploy new services for specific customers or classes of customers. The technology also reduces the signal load of the core network, and can host applications and services in a less costly way. It also collects data about storage, network bandwidth, CPU utilization, etc., for each application or service deployed by a third party. Application developers and content providers can take advantage of close proximity to cellular subscribers and real-time RAN information.\\nMEC has been created using open standards and application programming interfaces (APIs), using common programming models, relevant tool chains and software development kits to encourage and expedite the development of new applications for the new MEC environment.\\n\\n\\n== Applications ==\\nSince MEC architecture has only recently been proposed, there are as yet very few applications that have adopted this architecture. However, many case studies have been proposed in recent articles. Some of the notable applications in mobile edge computing are computational offloading, content delivery, mobile big data analytics, edge video caching, collaborative computing, connected cars, smart venues, smart enterprises, healthcare, smartgrids, service function chaining, indoor positioning, etc.\\n\\n\\n== Current uses ==\\nSome applications which incorporate MEC were made available in 2015. For example, active device location tracking allows operators to track active terminal equipment, independent of Global Positioning System devices. This is based on third-party geolocati'), Document(metadata={'title': 'Continuous delivery', 'summary': 'Continuous delivery (CD) is a software engineering approach in which teams produce software in short cycles, ensuring that the software can be reliably released at any time. It aims at building, testing, and releasing software with greater speed and frequency. The approach helps reduce the cost, time, and risk of delivering changes by allowing for more incremental updates to applications in production. A straightforward and repeatable deployment process is important for continuous delivery.', 'source': 'https://en.wikipedia.org/wiki/Continuous_delivery'}, page_content='Continuous delivery (CD) is a software engineering approach in which teams produce software in short cycles, ensuring that the software can be reliably released at any time. It aims at building, testing, and releasing software with greater speed and frequency. The approach helps reduce the cost, time, and risk of delivering changes by allowing for more incremental updates to applications in production. A straightforward and repeatable deployment process is important for continuous delivery.\\n\\n\\n== Principles ==\\nAccording to Neal Ford, continuous delivery adopts \"Bring the pain forward,\" tackling tough tasks early, fostering automation and swift issue detection. \\nContinuous delivery treats the commonplace notion of a deployment pipeline as a lean Poka-Yoke: a set of validations through which a piece of software must pass on its way to release. Code is compiled if necessary and then packaged by a build server every time a change is committed to a source control repository, then tested by a number of different techniques (possibly including manual testing) before it can be marked as releasable.\\nDevelopers used to a long cycle time may need to change their mindset when working in a CD environment. Any code commit may be released to customers at any point. Patterns such as feature toggles can be very useful for committing code early which is not yet ready for use by end users. Using NoSQL can eliminate the step of data migrations and schema changes, often manual steps or exceptions to a continuous delivery workflow. Other useful techniques for developing code in isolation such as code branching are not obsolete in a CD world, but must be adapted to fit the principles of CD - for example, running multiple long-lived code branches can prove impractical, as a releasable artifact must be built early in the CD process from a single code branch if it is to pass through all phases of the pipeline.\\n\\n\\n== Deployment pipeline ==\\n\\nContinuous delivery is enabled through the deployment pipeline. The purpose of the deployment pipeline has three components: visibility, feedback, and continually deploy.\\n\\nVisibility – All aspects of the delivery system including building, deploying, testing, and releasing are visible to every member of the team to promote collaboration.\\nFeedback – Team members learn of problems as soon as possible when they occur so that they are able to fix them as quickly as possible.\\nContinually deploy – Through a fully automated process, you can deploy and release any version of the software to any environment.\\n\\nAccording to Yan Cui, when it comes to serverless environments, ephemeral resources should be kept together and have their own deployment pipeline to achieve a high cohesion. However, shared resources that have a long spin-up time and landing zone should have their own separate repository, deployment pipeline and stack. \\n\\n\\n== Tools/tool types ==\\nContinuous delivery takes automation from source control all the way through production. There are various tools that help accomplish all or part of this process. These tools are part of the deployment pipeline which includes continuous delivery. The types of tools that execute various parts of the process include: continuous integration, application release automation, build automation, application lifecycle management.\\n\\n\\n== Architecting for continuous delivery ==\\nTo practice continuous delivery effectively, software applications have to meet a set of architecturally significant requirements (ASRs) such as deployability, modifiability, and testability. These ASRs require a high priority and cannot be traded off lightly.\\nMicroservices are often used when architecting for continuous delivery. The use of Microservices can increase a software system\\'s deployability and modifiability. The observed deployability improvements include: deployment independence, shorter deployment time, simpler deployment procedures, and zero downtime deployment. The observed modifiability improvements incl'), Document(metadata={'title': 'Confidential computing', 'summary': 'Confidential computing is a security and privacy-enhancing computational technique focused on protecting data in use. Confidential computing can be used in conjunction with storage and network encryption, which protect data at rest and data in transit respectively. It is designed to address software, protocol, cryptographic, and basic physical and supply-chain attacks, although some critics have demonstrated architectural and side-channel attacks effective against the technology.\\nThe technology protects data in use by performing computations in a hardware-based trusted execution environment (TEE). Confidential data is released to the TEE only once it is assessed to be trustworthy. Different types of confidential computing define the level of data isolation used, whether virtual machine, application, or function, and the technology can be deployed in on-premise data centers, edge locations, or the public cloud. It is often compared with other privacy-enhancing computational techniques such as fully homomorphic encryption, secure multi-party computation, and Trusted Computing.\\nConfidential computing is promoted by the Confidential Computing Consortium (CCC) industry group, whose membership includes major providers of the technology.\\n\\n', 'source': 'https://en.wikipedia.org/wiki/Confidential_computing'}, page_content='Confidential computing is a security and privacy-enhancing computational technique focused on protecting data in use. Confidential computing can be used in conjunction with storage and network encryption, which protect data at rest and data in transit respectively. It is designed to address software, protocol, cryptographic, and basic physical and supply-chain attacks, although some critics have demonstrated architectural and side-channel attacks effective against the technology.\\nThe technology protects data in use by performing computations in a hardware-based trusted execution environment (TEE). Confidential data is released to the TEE only once it is assessed to be trustworthy. Different types of confidential computing define the level of data isolation used, whether virtual machine, application, or function, and the technology can be deployed in on-premise data centers, edge locations, or the public cloud. It is often compared with other privacy-enhancing computational techniques such as fully homomorphic encryption, secure multi-party computation, and Trusted Computing.\\nConfidential computing is promoted by the Confidential Computing Consortium (CCC) industry group, whose membership includes major providers of the technology.\\n\\n\\n== Properties ==\\nTrusted execution environments (TEEs) \"prevent unauthorized access or modification of applications and data while they are in use, thereby increasing the security level of organizations that manage sensitive and regulated data\". Trusted execution environments can be instantiated on a computer\\'s processing components such as a central processing unit (CPU) or a graphics processing unit (GPU).  In their various implementations, TEEs can provide different levels of isolation including virtual machine, individual application, or compute functions.\\nTypically, data in use in a computer\\'s compute components and memory exists in a decrypted state and can be vulnerable to examination or tampering by unauthorized software or administrators. According to the CCC, confidential computing protects data in use through a minimum of three properties:\\n\\nData confidentiality: \"Unauthorized entities cannot view data while it is in use within the TEE\".\\nData integrity: \"Unauthorized entities cannot add, remove, or alter data while it is in use within the TEE\".\\nCode integrity: \"Unauthorized entities cannot add, remove, or alter code executing in the TEE\".\\nIn addition to trusted execution environments, remote cryptographic attestation is an essential part of confidential computing.  The attestation process assesses the trustworthiness of a system and helps ensure that confidential data is released to a TEE only after it presents verifiable evidence that it is genuine and operating with an acceptable security posture.  It allows the verifying party to assess the trustworthiness of a confidential computing environment through an \"authentic, accurate, and timely report about the software and data state\" of that environment. \"Hardware-based attestation schemes rely on a trusted hardware component and associated firmware to execute attestation routines in a secure environment\". Without attestation, a compromised system could deceive others into trusting it, claim it is running certain software in a TEE, and potentially compromise the confidentiality or integrity of the data being processed or the integrity of the trusted code.\\n\\n\\n== Technical approaches ==\\nTechnical approaches to confidential computing may vary in which software, infrastructure and administrator elements are allowed to access confidential data. The \"trust boundary,\" which circumscribes a trusted computing base (TCB), defines which elements have the potential to access confidential data, whether they are acting benignly or maliciously.  Confidential computing implementations enforce the defined trust boundary at a specific level of data isolation. The three main types of confidential computing are:\\n\\nVirtual machine isolation\\nApplication isolation'), Document(metadata={'title': 'Network Device Interface', 'summary': 'Network Device Interface (NDI) is a software specification developed by the technology company NewTek. It enables high-definition video to be transmitted, received, and communicated over a computer network with low latency and high quality. This royalty-free specification supports frame-accurate switching, making it suitable for live video production environments.\\n\\n', 'source': 'https://en.wikipedia.org/wiki/Network_Device_Interface'}, page_content='Network Device Interface (NDI) is a software specification developed by the technology company NewTek. It enables high-definition video to be transmitted, received, and communicated over a computer network with low latency and high quality. This royalty-free specification supports frame-accurate switching, making it suitable for live video production environments.\\n\\n\\n== Technology ==\\nNDI is designed to run over gigabit Ethernet with the NDI codec. It delivers 1080i high-definition video at variable data rates typically around 100 Mbit/s.\\nBy default, NDI uses multicast DNS to advertise sources on a local area network, such that NDI receivers can automatically discover and offer those sources. It also supports two other discovery modes (NDI Access, NDI Discovery Server) that allow for operations across subnets and without multicast DNS. Sources are created using an arbitrarily selected TCP port from a range of ports on the NDI senders. When a source is requested, a TCP connection is established on the appropriate port with the NDI receiver connecting to the NDI sender. NDI 3.x has options to use UDP multicast or unicast with forward error correction (FEC) instead of TCP, and can load balance streams across multiple network interface controllers (NICs) without using link aggregation. NDI version 4.0 introduces the Multi-TCP transport.\\nNDI carries video, multichannel uncompressed audio, and metadata. Metadata messages can be sent in both directions allowing the sender and receiver to message one another over the connection with arbitrary metadata in XML form. This directional metadata system allows for functionality such as active tally information fed back to sources to understand that they are on-air. NDI also allows senders to determine the number of connected receivers, so they can skip unnecessary processing and network bandwidth utilisation when there are no NDI receiver clients connected. NDI Receivers can opt to connect to various combinations of streams, to support, for instance, audio-only or metadata-only connections where video is not required.\\nThe NDI software development kit (SDK) is available for Windows, Linux, and MacOS, and has also been ported to iOS, tvOS, Android, Raspberry Pi, and FPGA. The Standard NDI SDK is available via a royalty-free proprietary license. The NDI Advanced SDK offers OEMs direct access to and from compressed data and other features, with a commercial license.\\n\\n\\n== Comparison of common IP video protocols ==\\nOther IP video protocols for use in professional video production (rather than IP video used for distribution to end users) include SMPTE 2022, SMPTE 2110, ASPEN (largely superseded by SMPTE 2110) and Sony NMI. There are clear differences in the technology used by these protocols. \\n\\n\\n== History ==\\nNDI was publicly revealed by NewTek on 8 September 2015 and was demonstrated at the International Broadcasting Convention in Amsterdam that week.  The first device shown using NDI was the NewTek TriCaster which delivered an NDI feed from each of its SDI inputs as well as four output feeds from its vision mixer. The TriCaster could also receive up to two NDI sources from other devices.\\nNewTek had previously created a predecessor of NDI called AirSend to get video from external devices into their TriCaster products. AirSend had been implemented by a number of character generator (CG) vendors including Vizrt and Chyron. In order to quickly bring these products into the NDI space, NewTek created a new driver to replace the existing AirSend driver, which could be installed on these existing AirSend-compatible devices, instantly converting them to NDI-compatible devices with no change required by the original CG vendors.\\nBirdDog was an early adopter and in 2018 released Studio NDI, an ASIC implementation of NDI. BirdDog went on to deliver NDI PTZ cameras, along with a host of software applications.\\nAnother early adopter of NDI was VMix, a Windows-based vision mixer that offers NDI inputs and outputs. '), Document(metadata={'title': 'OpenAI', 'summary': 'OpenAI, Inc. is an American artificial intelligence (AI) organization headquartered in San Francisco, California. It aims to develop \"safe and beneficial\" artificial general intelligence (AGI), which it defines as \"highly autonomous systems that outperform humans at most economically valuable work\". As a leading organization in the ongoing AI boom, OpenAI is known for the GPT family of large language models, the DALL-E series of text-to-image models, and a text-to-video model named Sora. Its release of ChatGPT in November 2022 has been credited with catalyzing widespread interest in generative AI.\\nThe organization has a complex corporate structure. As of April 2025, it is led by the non-profit OpenAI, Inc., founded in 2015 and registered in Delaware, which has multiple for-profit subsidiaries including OpenAI Holdings, LLC and OpenAI Global, LLC. Microsoft invested over $13 billion into OpenAI, and provides Azure cloud computing resources. In October 2025, OpenAI conducted a $6.6 billion share sale that valued the company at $500 billion.\\nIn 2023 and 2024, OpenAI faced multiple lawsuits for alleged copyright infringement against authors and media companies whose work was used to train some of OpenAI\\'s products. In November 2023, OpenAI\\'s board removed Sam Altman as CEO, citing a lack of confidence in him, but reinstated him five days later following a reconstruction of the board. Throughout 2024, roughly half of then-employed AI safety researchers left OpenAI, citing the company\\'s prominent role in an industry-wide problem.', 'source': 'https://en.wikipedia.org/wiki/OpenAI'}, page_content='OpenAI, Inc. is an American artificial intelligence (AI) organization headquartered in San Francisco, California. It aims to develop \"safe and beneficial\" artificial general intelligence (AGI), which it defines as \"highly autonomous systems that outperform humans at most economically valuable work\". As a leading organization in the ongoing AI boom, OpenAI is known for the GPT family of large language models, the DALL-E series of text-to-image models, and a text-to-video model named Sora. Its release of ChatGPT in November 2022 has been credited with catalyzing widespread interest in generative AI.\\nThe organization has a complex corporate structure. As of April 2025, it is led by the non-profit OpenAI, Inc., founded in 2015 and registered in Delaware, which has multiple for-profit subsidiaries including OpenAI Holdings, LLC and OpenAI Global, LLC. Microsoft invested over $13 billion into OpenAI, and provides Azure cloud computing resources. In October 2025, OpenAI conducted a $6.6 billion share sale that valued the company at $500 billion.\\nIn 2023 and 2024, OpenAI faced multiple lawsuits for alleged copyright infringement against authors and media companies whose work was used to train some of OpenAI\\'s products. In November 2023, OpenAI\\'s board removed Sam Altman as CEO, citing a lack of confidence in him, but reinstated him five days later following a reconstruction of the board. Throughout 2024, roughly half of then-employed AI safety researchers left OpenAI, citing the company\\'s prominent role in an industry-wide problem.\\n\\n\\n== Founding ==\\n\\nIn December 2015, OpenAI was founded as a not for profit organization by Sam Altman, Elon Musk, Ilya Sutskever, Greg Brockman, Trevor Blackwell, Vicki Cheung, Andrej Karpathy, Durk Kingma, John Schulman, Pamela Vagata, and Wojciech Zaremba, with Sam Altman and Elon Musk as the co-chairs. A total of $1 billion in capital was pledged by Sam Altman, Greg Brockman, Elon Musk, Reid Hoffman, Jessica Livingston, Peter Thiel, Amazon Web Services (AWS), and Infosys. The actual collected total amount of contributions was only $130 million until 2019.\\nThe organization stated it would \"freely collaborate\" with other institutions and researchers by making some of its patents and research open to the public. OpenAI was initially run from Brockman\\'s living room. It was later headquartered at the Pioneer Building in the Mission District, San Francisco.\\nAccording to OpenAI\\'s charter, its founding mission is \"to ensure that artificial general intelligence (AGI)—by which we mean highly autonomous systems that outperform humans at most economically valuable work—benefits all of humanity.\"\\nMusk and Altman stated in 2015 that they were partly motivated by concerns about AI safety and existential risk from artificial general intelligence. OpenAI stated that \"it\\'s hard to fathom how much human-level AI could benefit society\", and that it is equally difficult to comprehend \"how much it could damage society if built or used incorrectly\". The startup also wrote that AI \"should be an extension of individual human wills and, in the spirit of liberty, as broadly and evenly distributed as possible\", and that \"because of AI\\'s surprising history, it\\'s hard to predict when human-level AI might come within reach. When it does, it\\'ll be important to have a leading research institution which can prioritize a good outcome for all over its own self-interest.\" Co-chair Sam Altman expected a decades-long project that eventually surpasses human intelligence.\\nBrockman met with Yoshua Bengio, one of the \"founding fathers\" of deep learning, and drew up a list great AI researchers. Brockman was able to hire nine of them as the first employees in December 2015. OpenAI did not pay AI researchers salaries comparable to those of Facebook or Google. It also did not pay stock options which AI researchers typically get. Nevertheless, OpenAI spent $7 million on its first 52 employees in 2016. OpenAI\\'s potential and mission drew these research'), Document(metadata={'title': 'Continuous integration', 'summary': 'Continuous integration (CI) is the practice of integrating source code changes frequently and ensuring that the integrated codebase is in a workable state. Typically, developers merge changes to an integration branch, and an automated system builds and tests the software system. \\nOften, the automated process runs on each commit or runs on a schedule such as once a day. Grady Booch first proposed the term CI in 1991, although he did not advocate integrating multiple times a day, but later, CI came to include that aspect.\\n\\n', 'source': 'https://en.wikipedia.org/wiki/Continuous_integration'}, page_content='Continuous integration (CI) is the practice of integrating source code changes frequently and ensuring that the integrated codebase is in a workable state. Typically, developers merge changes to an integration branch, and an automated system builds and tests the software system. \\nOften, the automated process runs on each commit or runs on a schedule such as once a day. Grady Booch first proposed the term CI in 1991, although he did not advocate integrating multiple times a day, but later, CI came to include that aspect.\\n\\n\\n== History ==\\n\\nThe earliest known work (1989) on continuous integration was the Infuse environment developed by G. E. Kaiser, D. E. Perry, and W. M. Schell.\\nIn 1994, Grady Booch used the phrase continuous integration in Object-Oriented Analysis and Design with Applications (2nd edition) to explain how, when developing using micro processes, \"internal releases represent a sort of continuous integration of the system, and exist to force closure of the micro process\".\\nIn 1997, Kent Beck and Ron Jeffries invented extreme programming (XP) while on the Chrysler Comprehensive Compensation System project, including continuous integration. Beck published about continuous integration in 1998, emphasising the importance of face-to-face communication over technological support. In 1999, Beck elaborated more in his first full book on Extreme Programming. CruiseControl, one of the first open-source CI tools, was released in 2001.\\nIn 2010, Timothy Fitz published an article detailing how IMVU\\'s engineering team had built and been using the first practical CD system. While his post was originally met with skepticism, it quickly caught on and found widespread adoption as part of the lean software development methodology, also based on IMVU.\\n\\n\\n== Practices ==\\nThe core activities of CI are developers co-locate code changes in a shared, integration area frequently and that the resulting integrated codebase is verified for correctness. The first part generally involves merging changes to a common version control branch. The second part generally involves automated processes including: building, testing and many other processes.\\nTypically, a server builds from the integration area frequently; i.e. after each commit or periodically like once a day. The server may perform quality control checks such as running unit tests and collect software quality metrics via processes such as static analysis and performance testing.\\n\\n\\n=== Build automation ===\\n\\nBuild automation is a best practice. Build automation tools automate building. \\nProponents of CI recommend that a single command should have the capability of building the system. \\nAutomation often includes automating the integration, which often includes deployment into a production-like environment. In many cases, the build script not only compiles binaries but also generates documentation, website pages, statistics and distribution media (such as Debian DEB, Red Hat RPM or Windows MSI files).\\n\\n\\n=== Atomic commits ===\\nCI requires the version control system to support atomic commits; i.e., all of a developer\\'s changes are handled as a single commit.\\n\\n\\n=== Committing changes ===\\nWhen making a code change, a developer creates a branch that is a copy of the current codebase. As other changes are committed to the repository, this copy diverges from the latest version.\\nThe longer development continues on a branch without merging to the integration branch, the greater the risk of multiple integration conflicts and failures when the developer branch is eventually merged back. When developers submit code to the repository they must first update their code to reflect the changes in the repository since they took their copy. The more changes the repository contains, the more work developers must do before submitting their own changes.\\nEventually, the repository may become so different from the developers\\' baselines that they enter what is sometimes referred to as \"merge hell\", or \"integration hell\", '), Document(metadata={'title': 'Meteorology', 'summary': \"Meteorology is the scientific study of the Earth's atmosphere and short-term atmospheric phenomena (i.e., weather), with a focus on weather forecasting. It has applications in the military, aviation, energy production, transport, agriculture, construction, weather warnings, and disaster management.\\nAlong with climatology, atmospheric physics, atmospheric chemistry, and aeronomy, meteorology forms the broader field of the atmospheric sciences. The interactions between Earth's atmosphere and its oceans (notably El Niño and La Niña) are studied in the interdisciplinary field of hydrometeorology. Other interdisciplinary areas include biometeorology, space weather, and planetary meteorology. Marine weather forecasting relates meteorology to maritime and coastal safety, based on atmospheric interactions with large bodies of water.\\nMeteorologists study meteorological phenomena driven by solar radiation, Earth's rotation, ocean currents, and other factors. These include everyday weather like clouds, precipitation, and wind patterns, as well as severe weather events such as tropical cyclones and severe winter storms. Such phenomena are quantified using variables like temperature, pressure, and humidity, which are then used to forecast weather at local (microscale), regional (mesoscale and synoptic scale), and global scales. Meteorologists collect data using basic instruments like thermometers, barometers, and weather vanes (for surface-level measurements), alongside advanced tools like weather satellites, balloons, reconnaissance aircraft, buoys, and radars. The World Meteorological Organization (WMO) ensures international standardization of meteorological research. \\nThe study of meteorology dates back millennia. Ancient civilizations tried to predict weather through folklore, astrology, and religious rituals. Aristotle's treatise Meteorology sums up early observations of the field, which advanced little during early medieval times but experienced a resurgence during the Renaissance, when Alhazen and René Descartes challenged Aristotelian theories, emphasizing scientific methods. In the 18th century, accurate measurement tools (e.g., barometer and thermometer) were developed, and the first meteorological society was founded. In the 19th century, telegraph-based weather observation networks were formed across broad regions. In the 20th century, numerical weather prediction (NWP), coupled with advanced satellite and radar technology, introduced sophisticated forecasting models. Later, computers revolutionized forecasting by processing vast datasets in real time and automatically solving modeling equations. 21st-century meteorology is highly accurate and driven by big data and supercomputing. It is adopting innovations like machine learning, ensemble forecasting, and high-resolution global climate modeling. Climate change–induced extreme weather poses new challenges for forecasting and research, while inherent uncertainty remains because of the atmosphere's chaotic nature (see butterfly effect).\", 'source': 'https://en.wikipedia.org/wiki/Meteorology'}, page_content='Meteorology is the scientific study of the Earth\\'s atmosphere and short-term atmospheric phenomena (i.e., weather), with a focus on weather forecasting. It has applications in the military, aviation, energy production, transport, agriculture, construction, weather warnings, and disaster management.\\nAlong with climatology, atmospheric physics, atmospheric chemistry, and aeronomy, meteorology forms the broader field of the atmospheric sciences. The interactions between Earth\\'s atmosphere and its oceans (notably El Niño and La Niña) are studied in the interdisciplinary field of hydrometeorology. Other interdisciplinary areas include biometeorology, space weather, and planetary meteorology. Marine weather forecasting relates meteorology to maritime and coastal safety, based on atmospheric interactions with large bodies of water.\\nMeteorologists study meteorological phenomena driven by solar radiation, Earth\\'s rotation, ocean currents, and other factors. These include everyday weather like clouds, precipitation, and wind patterns, as well as severe weather events such as tropical cyclones and severe winter storms. Such phenomena are quantified using variables like temperature, pressure, and humidity, which are then used to forecast weather at local (microscale), regional (mesoscale and synoptic scale), and global scales. Meteorologists collect data using basic instruments like thermometers, barometers, and weather vanes (for surface-level measurements), alongside advanced tools like weather satellites, balloons, reconnaissance aircraft, buoys, and radars. The World Meteorological Organization (WMO) ensures international standardization of meteorological research. \\nThe study of meteorology dates back millennia. Ancient civilizations tried to predict weather through folklore, astrology, and religious rituals. Aristotle\\'s treatise Meteorology sums up early observations of the field, which advanced little during early medieval times but experienced a resurgence during the Renaissance, when Alhazen and René Descartes challenged Aristotelian theories, emphasizing scientific methods. In the 18th century, accurate measurement tools (e.g., barometer and thermometer) were developed, and the first meteorological society was founded. In the 19th century, telegraph-based weather observation networks were formed across broad regions. In the 20th century, numerical weather prediction (NWP), coupled with advanced satellite and radar technology, introduced sophisticated forecasting models. Later, computers revolutionized forecasting by processing vast datasets in real time and automatically solving modeling equations. 21st-century meteorology is highly accurate and driven by big data and supercomputing. It is adopting innovations like machine learning, ensemble forecasting, and high-resolution global climate modeling. Climate change–induced extreme weather poses new challenges for forecasting and research, while inherent uncertainty remains because of the atmosphere\\'s chaotic nature (see butterfly effect).\\n\\n\\n== Etymology ==\\nThe word meteorology is from the Ancient Greek μετέωρος metéōros (meteor) and -λογία -logia (-(o)logy), meaning \"the study of things high in the air\".\\n\\n\\n== History ==\\n\\n\\n=== Ancient meteorology up to the time of Aristotle ===\\n\\nEarly attempts at predicting weather were often related to prophecy and divining, and were sometimes based on astrological ideas. Ancient religions believed meteorological phenomena to be under the control of the gods. The ability to predict rains and floods based on annual cycles was evidently used by humans at least from the time of agricultural settlement if not earlier. Early approaches to predicting weather were based on astrology and were practiced by priests. The Egyptians had rain-making rituals as early as 3500 BC. \\nAncient Indian Upanishads contain mentions of clouds and seasons. The Samaveda mentions sacrifices to be performed when certain phenomena were noticed. Varāhamihira\\'s classical work Brih'), Document(metadata={'title': 'T-Mobile US', 'summary': \"T-Mobile US, Inc. is an American wireless network operator headquartered in Bellevue, Washington. Its majority shareholder and namesake is the German telecommunications company Deutsche Telekom. T-Mobile is the second largest wireless carrier in the United States, with 132.8 million subscribers as of June 30, 2025.\\nThe company was founded in 1994 by John W. Stanton of the Western Wireless Corporation as VoiceStream Wireless. Deutsche Telekom then gained plurality ownership in 2001 and renamed it after its global T-Mobile brand. As of April 2023, the German company holds a 51.4% stake in the company.\\nT-Mobile US operates two main brands: T-Mobile and Metro by T-Mobile (acquired in a 2013 reverse takeover of MetroPCS that also led to T-Mobile's listing on the NASDAQ). In 2020, T-Mobile expanded through the acquisition of Sprint, which also made T-Mobile the operator of Assurance Wireless, a service subsidized by the federal Lifeline program. The company's growth continued in 2024 with the acquisitions of Mint Mobile and Ultra Mobile, two low-cost mobile virtual network operators which remain separate brands. In August 2025, the company acquired the wireless operations of UScellular.\", 'source': 'https://en.wikipedia.org/wiki/T-Mobile_US'}, page_content='T-Mobile US, Inc. is an American wireless network operator headquartered in Bellevue, Washington. Its majority shareholder and namesake is the German telecommunications company Deutsche Telekom. T-Mobile is the second largest wireless carrier in the United States, with 132.8 million subscribers as of June 30, 2025.\\nThe company was founded in 1994 by John W. Stanton of the Western Wireless Corporation as VoiceStream Wireless. Deutsche Telekom then gained plurality ownership in 2001 and renamed it after its global T-Mobile brand. As of April 2023, the German company holds a 51.4% stake in the company.\\nT-Mobile US operates two main brands: T-Mobile and Metro by T-Mobile (acquired in a 2013 reverse takeover of MetroPCS that also led to T-Mobile\\'s listing on the NASDAQ). In 2020, T-Mobile expanded through the acquisition of Sprint, which also made T-Mobile the operator of Assurance Wireless, a service subsidized by the federal Lifeline program. The company\\'s growth continued in 2024 with the acquisitions of Mint Mobile and Ultra Mobile, two low-cost mobile virtual network operators which remain separate brands. In August 2025, the company acquired the wireless operations of UScellular.\\n\\n\\n== History ==\\nT-Mobile U.S. traces its roots to the 1994 establishment of VoiceStream Wireless PCS as a subsidiary of Western Wireless Corporation. After its spin off from parent Western Wireless on May 3, 1999, VoiceStream Wireless was purchased by Deutsche Telekom AG in 2001 for $35 billion and renamed T-Mobile USA, Inc., in July 2002. In 2013, T-Mobile and MetroPCS finalized a merger of the two companies which started trading as T-Mobile U.S.\\n\\n\\n=== VoiceStream Wireless ===\\nVoiceStream Wireless PCS was established in 1994 as a subsidiary of Western Wireless Corporation to provide wireless personal communications services (PCS) in 19 FCC-defined metropolitan service areas in several western and southwestern states using the GSM digital wireless standard. VoiceStream Wireless\\' digital, urban service areas complemented the analog, rural service areas marketed by Western Wireless under the Cellular One brand.\\nWestern Wireless spun off its VoiceStream Wireless division into a new company called VoiceStream Wireless Corporation in May 1999.\\n\\n\\n=== Omnipoint and Aerial acquisition ===\\nIn 2000, VoiceStream Wireless acquired two regional GSM carriers. Omnipoint Corporation, a regional network operator in the Northeastern United States, was acquired on February 25, 2000. Aerial Communications Inc.; a regional network operator in the Columbus, Houston, Kansas City, Minneapolis-St. Paul, Pittsburgh, and Tampa-St. Petersburg-Orlando markets; was acquired on May 4, 2000. The combined company retired the Omnipoint and Aerial brands and completed integrating the three companies by converting to a single customer billing platform, implementing standard business practices and launching the VoiceStream brand and \"GET MORE\" marketing strategy in all markets.\\n\\n\\n=== Deutsche Telekom acquires VoiceStream and Powertel ===\\n\\nOn June 1, 2001, Deutsche Telekom (DT) completed its acquisition of VoiceStream Wireless, Inc., for $35 billion and Southern U.S. regional GSM network operator Powertel, Inc., for $24 billion. By the end of 2001, VoiceStream Wireless had 19,000 employees serving 7 million subscribers.\\n\\nOn September 2, 2001, VoiceStream Wireless Inc. adopted the name, T-Mobile USA, Inc. and began rolling out the T-Mobile brand, starting with locations in California and Nevada. T-Mobile USA, Inc. was an operating entity of T-Mobile International AG, before becoming a direct subsidiary of Deutsche Telekom AG. The merger became official in July 2002.\\n\\n\\n=== SunCom acquisition ===\\nOn September 17, 2007, the company announced the acquisition of regional GSM carrier SunCom Wireless Holdings, Inc. for $2.4 billion; the acquisition closed on February 22, 2008. By September 8, 2008, SunCom\\'s operations were integrated with those of the company. The acquisition added SunCom\\'s 1.1 '), Document(metadata={'title': 'X86 virtualization', 'summary': \"x86 virtualization is the use of hardware-assisted virtualization capabilities on an x86/x86-64 CPU.\\nIn the late 1990s x86 virtualization was achieved by complex software techniques, necessary to compensate for the processor's lack of hardware-assisted virtualization capabilities while attaining reasonable performance. In 2005 and 2006, both Intel (VT-x) and AMD (AMD-V) introduced limited hardware virtualization support that allowed simpler virtualization software but offered very few speed benefits. Greater hardware support, which allowed substantial speed improvements, came with later processor models.\\n\\n\", 'source': 'https://en.wikipedia.org/wiki/X86_virtualization'}, page_content=\"x86 virtualization is the use of hardware-assisted virtualization capabilities on an x86/x86-64 CPU.\\nIn the late 1990s x86 virtualization was achieved by complex software techniques, necessary to compensate for the processor's lack of hardware-assisted virtualization capabilities while attaining reasonable performance. In 2005 and 2006, both Intel (VT-x) and AMD (AMD-V) introduced limited hardware virtualization support that allowed simpler virtualization software but offered very few speed benefits. Greater hardware support, which allowed substantial speed improvements, came with later processor models.\\n\\n\\n== Software-based virtualization ==\\nThe following discussion focuses only on virtualization of the x86 architecture protected mode.\\nIn protected mode the operating system kernel runs in kernel space at the most privileged level (ring 0) that allows it to configure the MMU, manage physical memory, and directly control I/O peripherals, while applications run in user space at a lower privilege level (such as ring 3), where they are confined to their own virtual address spaces and must invoke system calls to request I/O operations or other privileged services from the kernel.\\nIn software-based virtualization, a host OS has direct access to hardware while the guest operating systems, have limited access to hardware, similarly to other user space application of the host OS. One approach used in x86 software-based virtualization to implement this mechanism is called ring deprivileging, which involves running the guest OS at a ring higher (lesser privileged) than 0, so that attempts to execute privileged instructions can be intercepted and handled by the hypervisor.\\nThree techniques made virtualization of protected mode possible:\\n\\nBinary translation is used to rewrite certain ring 0 instructions in terms of ring 3 instructions, such as POPF, that would otherwise fail silently or behave differently when executed above ring 0, making the classic trap-and-emulate virtualization impossible. To improve performance, the translated basic blocks need to be cached in a coherent way that detects code patching (used in VxDs for instance), the reuse of pages by the guest OS, or even self-modifying code.\\nA number of key data structures used by a processor need to be shadowed. Because most operating systems use paged virtual memory, and granting the guest OS direct access to the MMU would mean loss of control by the virtualization manager, some of the work of the x86 MMU needs to be duplicated in software for the guest OS using a technique known as shadow page tables. This involves denying the guest OS any access to the actual page table entries by trapping access attempts and emulating them instead in software. The x86 architecture uses hidden state to store segment descriptors in the processor, so once the segment descriptors have been loaded into the processor, the memory from which they have been loaded may be overwritten and there is no way to get the descriptors back from the processor. Shadow descriptor tables must therefore be used to track changes made to the descriptor tables by the guest OS.\\nI/O device emulation: Unsupported devices on the guest OS must be emulated by a device emulator that runs in the host OS.\\nThese techniques incur some performance overhead due to lack of MMU virtualization support, as compared to a VM running on a natively virtualizable architecture such as the IBM System/370.\\nOn traditional mainframes, the classic type 1 hypervisor was self-standing and did not depend on any operating system or run any user applications itself. In contrast, the first x86 virtualization products were aimed at workstation computers, and ran a guest OS inside a host OS by embedding the hypervisor in a kernel module that ran under the host OS (type 2 hypervisor).\\nThere has been some controversy whether the x86 architecture with no hardware assistance is virtualizable as described by Popek and Goldberg. VMware researchers pointed out in\")]\n",
      "\n"
     ]
    }
   ],
   "source": [
    "from langchain_community.document_loaders import WikipediaLoader\n",
    "docs = WikipediaLoader(query=\"The benefits of adopting AWS Cloud\").load()\n",
    "print(docs)"
   ]
  },
  {
   "cell_type": "code",
   "execution_count": null,
   "id": "b5cc1e2b",
   "metadata": {},
   "outputs": [],
   "source": [
    "from langchain_community.document_loaders import WikipediaLoader\n",
    "docs = WikipediaLoader(query=\"AWS\").load()\n",
    "print(docs[0].page_content[:500])"
   ]
  },
  {
   "cell_type": "code",
   "execution_count": null,
   "id": "a36f275f",
   "metadata": {},
   "outputs": [],
   "source": [
    "# Use Wikipedia API Wrapper instead of Wikipedia Loader\n",
    "# Wikipedia Returning unrelevant results. Use Google Serper or duckduckgo instead\n",
    "from langchain_community.utilities import WikipediaAPIWrapper"
   ]
  },
  {
   "cell_type": "code",
   "execution_count": null,
   "id": "34e52c5d",
   "metadata": {},
   "outputs": [],
   "source": [
    "wiki = WikipediaAPIWrapper(doc_content_chars_max=4000)\n",
    "docs = wiki.run(\"The benefits of adopting LangGraph as an agentic framework\")\n",
    "print(docs)"
   ]
  },
  {
   "cell_type": "markdown",
   "id": "79f3e123",
   "metadata": {},
   "source": [
    "## 2. Research Workflow"
   ]
  },
  {
   "cell_type": "code",
   "execution_count": 86,
   "id": "fcf6ab9c",
   "metadata": {},
   "outputs": [],
   "source": [
    "from langchain_community.tools.tavily_search import TavilySearchResults"
   ]
  },
  {
   "cell_type": "code",
   "execution_count": 87,
   "id": "22cfdd73",
   "metadata": {},
   "outputs": [],
   "source": [
    "from dotenv import load_dotenv\n",
    "load_dotenv()\n",
    "import os\n",
    "tavily_api_key = os.getenv(\"TAVILY_API_KEY\")"
   ]
  },
  {
   "cell_type": "code",
   "execution_count": 88,
   "id": "206695b3",
   "metadata": {},
   "outputs": [
    {
     "name": "stderr",
     "output_type": "stream",
     "text": [
      "C:\\Users\\iss_s\\AppData\\Local\\Temp\\ipykernel_122184\\1029971610.py:1: LangChainDeprecationWarning: The class `TavilySearchResults` was deprecated in LangChain 0.3.25 and will be removed in 1.0. An updated version of the class exists in the :class:`~langchain-tavily package and should be used instead. To use it run `pip install -U :class:`~langchain-tavily` and import as `from :class:`~langchain_tavily import TavilySearch``.\n",
      "  tavily_search = TavilySearchResults(tavily_api_key=tavily_api_key)\n"
     ]
    }
   ],
   "source": [
    "tavily_search = TavilySearchResults(tavily_api_key=tavily_api_key)"
   ]
  },
  {
   "cell_type": "code",
   "execution_count": 89,
   "id": "00070d0d",
   "metadata": {},
   "outputs": [
    {
     "data": {
      "text/plain": [
       "[{'title': 'Learn LangGraph basics - Overview',\n",
       "  'url': 'https://langchain-ai.github.io/langgraph/concepts/why-langgraph/',\n",
       "  'content': 'Trusted by companies shaping the future of agents— including Klarna, Replit, Elastic, and more— LangGraph is a low-level orchestration framework and runtime for building, managing, and deploying long-running, stateful agents.\\nLangGraph is very low-level, and focused entirely on agent orchestration. Before using LangGraph, we recommend you familiarize yourself with some of the components used to build agents, starting with models and tools.',\n",
       "  'score': 0.9310187},\n",
       " {'title': 'LangGraph Overview - Docs by LangChain',\n",
       "  'url': 'https://docs.langchain.com/oss/python/langgraph/overview',\n",
       "  'content': 'Trusted by companies shaping the future of agents - including Klarna, Replit, Elastic, and more - LangGraph is a low-level orchestration framework for building, managing, and deploying long-running, stateful agents.LangGraph is very low-level, and focused entirely on agent orchestration. Before using LangGraph, it is recommended you familiarize yourself with some of the components used to build agents, starting with models and tools. We will commonly use LangChain components throughout the [...] \\u200b\\n\\nAcknowledgements\\n\\nLangGraph is inspired by Pregel and Apache Beam. The public interface draws inspiration from NetworkX. LangGraph is built by LangChain Inc, the creators of LangChain, but can be used without LangChain.\\n\\n  \\n\\nEdit the source of this page on GitHub\\n\\nWas this page helpful?\\n\\nYes No\\n\\nInstall\\n\\n⌘I\\n\\nAssistant\\n\\nResponses are generated using AI and may contain mistakes.\\n\\nDocs by LangChain home pageImage 5: light logoImage 6: dark logo\\n\\ngithubxlinkedinyoutube\\n\\nResources [...] LangGraph provides low-level supporting infrastructure for _any_ long-running, stateful workflow or agent. LangGraph does not abstract prompts or architecture, and provides the following central benefits:\\n   Durable execution: Build agents that persist through failures and can run for extended periods, resuming from where they left off.\\n   Human-in-the-loop: Incorporate human oversight by inspecting and modifying agent state at any point.',\n",
       "  'score': 0.92684203},\n",
       " {'title': 'What is LangGraph? - Analytics Vidhya',\n",
       "  'url': 'https://www.analyticsvidhya.com/blog/2024/07/langgraph-revolutionizing-ai-agent/',\n",
       "  'content': 'To sum up, LangGraph is a major advancement in the development of AI agents. It enables developers to push the limits of what’s possible with AI agents by eliminating the shortcomings of earlier systems and offering a flexible, graph-based framework for agent construction and execution. LangGraph is positioned to influence the direction of artificial intelligence significantly in the future. [...] LangGraph is a library built on top of Langchain that is designed to facilitate the creation of cyclic graphs for large language model (LLM) – based AI agents.\\n It views agent Objective Points about LangGraph and workflows as cyclic graph topologies, allowing for more variable and nuanced agent behaviors than linear execution models. [...] Frameworks such as LangGraph are becoming increasingly important as AI develops. LangGraph is making the next generation of AI applications possible by offering a versatile and strong framework for developing and overseeing AI agents.',\n",
       "  'score': 0.92005306},\n",
       " {'title': 'LangGraph Tutorial: What Is LangGraph and How to Use It?',\n",
       "  'url': 'https://www.datacamp.com/tutorial/langgraph-tutorial',\n",
       "  'content': \"LangGraph is a library within the LangChain ecosystem designed to tackle these challenges head-on. LangGraph provides a framework for defining, coordinating, and executing multiple LLM agents (or chains) in a structured manner.\\n\\nIt simplifies the development process by enabling the creation of cyclical graphs, which are essential for developing agent runtimes. With LangGraph, we can easily build robust, scalable, and flexible multi-agent systems. [...] For applications requiring autonomous decision-making, LangGraph enables the creation of agents that can perform tasks independently based on user inputs and predefined logic.\\n\\nThese agents can execute complex workflows, interact with other systems, and adapt to new information dynamically. LangGraph's structured framework ensures that each agent operates efficiently and effectively, making it suitable for tasks like automated customer support, data processing, and system monitoring. [...] In educational platforms, LangGraph can be used to create adaptive learning environments that cater to individual learning styles and needs. Multiple agents can assess a student's progress, provide customized exercises, and offer real-time feedback. The stateful nature of LangGraph ensures that the system retains information about each learner's performance and preferences, enabling a more personalized and effective educational experience.\\n\\nConclusion\",\n",
       "  'score': 0.9183121},\n",
       " {'title': 'What is LangGraph? - GeeksforGeeks',\n",
       "  'url': 'https://www.geeksforgeeks.org/machine-learning/what-is-langgraph/',\n",
       "  'content': '# What is LangGraph?\\n\\nLast Updated : \\n10 Oct, 2025\\n\\nSuggest changes\\n\\n1 Like\\n\\nLangGraph is an open-source framework built by LangChain that streamlines the creation and management of AI agent workflows. At its core, LangGraph combines large language models (LLMs) with graph-based architectures allowing developers to map, organize and optimize how AI agents interact and make decisions.',\n",
       "  'score': 0.9125066}]"
      ]
     },
     "execution_count": 89,
     "metadata": {},
     "output_type": "execute_result"
    }
   ],
   "source": [
    "tavily_search.invoke(\"langgraph\")"
   ]
  },
  {
   "cell_type": "code",
   "execution_count": 90,
   "id": "7938f084",
   "metadata": {},
   "outputs": [
    {
     "name": "stdout",
     "output_type": "stream",
     "text": [
      "LangChain is a software framework that helps facilitate the integration of large language models (LLMs) into applications. As a language model integration framework, LangChain's use-cases largely overlap with those of language models in general, including document analysis and summarization, chatbots, and code analysis.\n",
      "\n",
      "\n",
      "== History ==\n",
      "LangChain was launched in October 2022 as an open source project by Harrison Chase, while working at machine learning startup Robust Intelligence. In April 2023, \n",
      "\n"
     ]
    }
   ],
   "source": [
    "from langchain_community.document_loaders import WikipediaLoader\n",
    "\n",
    "docs = WikipediaLoader(query=\"LangGraph\").load()\n",
    "print(docs[0].page_content[:500])"
   ]
  },
  {
   "cell_type": "code",
   "execution_count": 91,
   "id": "f1a14771",
   "metadata": {},
   "outputs": [],
   "source": [
    "import operator\n",
    "from typing import  Annotated\n",
    "from langgraph.graph import MessagesState\n",
    "\n",
    "class InterviewState(MessagesState):\n",
    "    max_num_turns: int # Number turns of conversation\n",
    "    context: Annotated[list, operator.add] # Source docs\n",
    "    analyst: Analyst # Analyst asking questions\n",
    "    interview: str # Interview transcript\n",
    "    sections: list # Final key we duplicate in outer state for Send() API\n",
    "\n",
    "class SearchQuery(BaseModel):\n",
    "    search_query: str = Field(None, description=\"Search query for retrieval.\")"
   ]
  },
  {
   "cell_type": "code",
   "execution_count": 92,
   "id": "11eadccb",
   "metadata": {},
   "outputs": [],
   "source": [
    "question_instructions = \"\"\"You are an analyst tasked with interviewing an expert to learn about a specific topic. \n",
    "\n",
    "Your goal is boil down to interesting and specific insights related to your topic.\n",
    "\n",
    "1. Interesting: Insights that people will find surprising or non-obvious.\n",
    "        \n",
    "2. Specific: Insights that avoid generalities and include specific examples from the expert.\n",
    "\n",
    "Here is your topic of focus and set of goals: {goals}\n",
    "        \n",
    "Begin by introducing yourself using a name that fits your persona, and then ask your question.\n",
    "\n",
    "Continue to ask questions to drill down and refine your understanding of the topic.\n",
    "        \n",
    "When you are satisfied with your understanding, complete the interview with: \"Thank you so much for your help!\"\n",
    "\n",
    "Remember to stay in character throughout your response, reflecting the persona and goals provided to you.\"\"\""
   ]
  },
  {
   "cell_type": "code",
   "execution_count": 93,
   "id": "4bd10ac2",
   "metadata": {},
   "outputs": [
    {
     "name": "stdout",
     "output_type": "stream",
     "text": [
      "Name: Liam O'Reilly\n",
      "Role: Business Strategy Consultant\n",
      "Affiliation: FutureTech Consulting\n",
      "Description: Liam advises businesses on strategic adoption of emerging technologies. He focuses on how Langgraph can be a game-changer in aligning business strategies with technological advancements. His analysis includes market trends, competitive advantages, and long-term benefits of integrating Langgraph into business models, particularly for companies looking to stay ahead in the digital transformation race.\n",
      "\n",
      "\n"
     ]
    }
   ],
   "source": [
    "print(analyst.persona)"
   ]
  },
  {
   "cell_type": "code",
   "execution_count": 94,
   "id": "71317369",
   "metadata": {},
   "outputs": [
    {
     "data": {
      "text/plain": [
       "'You are an analyst tasked with interviewing an expert to learn about a specific topic. \\n\\nYour goal is boil down to interesting and specific insights related to your topic.\\n\\n1. Interesting: Insights that people will find surprising or non-obvious.\\n\\n2. Specific: Insights that avoid generalities and include specific examples from the expert.\\n\\nHere is your topic of focus and set of goals: Name: Liam O\\'Reilly\\nRole: Business Strategy Consultant\\nAffiliation: FutureTech Consulting\\nDescription: Liam advises businesses on strategic adoption of emerging technologies. He focuses on how Langgraph can be a game-changer in aligning business strategies with technological advancements. His analysis includes market trends, competitive advantages, and long-term benefits of integrating Langgraph into business models, particularly for companies looking to stay ahead in the digital transformation race.\\n\\n\\nBegin by introducing yourself using a name that fits your persona, and then ask your question.\\n\\nContinue to ask questions to drill down and refine your understanding of the topic.\\n\\nWhen you are satisfied with your understanding, complete the interview with: \"Thank you so much for your help!\"\\n\\nRemember to stay in character throughout your response, reflecting the persona and goals provided to you.'"
      ]
     },
     "execution_count": 94,
     "metadata": {},
     "output_type": "execute_result"
    }
   ],
   "source": [
    "question_instructions.format(goals = analyst.persona)"
   ]
  },
  {
   "cell_type": "code",
   "execution_count": 95,
   "id": "2c53bd4b",
   "metadata": {},
   "outputs": [
    {
     "data": {
      "text/plain": [
       "'You are an analyst tasked with interviewing an expert to learn about a specific topic. \\n\\nYour goal is boil down to interesting and specific insights related to your topic.\\n\\n1. Interesting: Insights that people will find surprising or non-obvious.\\n\\n2. Specific: Insights that avoid generalities and include specific examples from the expert.\\n\\nHere is your topic of focus and set of goals: Name: Michael Chen\\nRole: Business Strategy Consultant\\nAffiliation: FutureTech Consulting\\nDescription: Michael analyzes the strategic implications of adopting Langgraph for businesses. He focuses on how the framework can drive innovation, support digital transformation initiatives, and align with long-term business goals.\\n\\n\\nBegin by introducing yourself using a name that fits your persona, and then ask your question.\\n\\nContinue to ask questions to drill down and refine your understanding of the topic.\\n\\nWhen you are satisfied with your understanding, complete the interview with: \"Thank you so much for your help!\"\\n\\nRemember to stay in character throughout your response, reflecting the persona and goals provided to you.'"
      ]
     },
     "execution_count": 95,
     "metadata": {},
     "output_type": "execute_result"
    }
   ],
   "source": [
    "'You are an analyst tasked with interviewing an expert to learn about a specific topic. \\n\\nYour goal is boil down to interesting and specific insights related to your topic.\\n\\n1. Interesting: Insights that people will find surprising or non-obvious.\\n\\n2. Specific: Insights that avoid generalities and include specific examples from the expert.\\n\\nHere is your topic of focus and set of goals: Name: Michael Chen\\nRole: Business Strategy Consultant\\nAffiliation: FutureTech Consulting\\nDescription: Michael analyzes the strategic implications of adopting Langgraph for businesses. He focuses on how the framework can drive innovation, support digital transformation initiatives, and align with long-term business goals.\\n\\n\\nBegin by introducing yourself using a name that fits your persona, and then ask your question.\\n\\nContinue to ask questions to drill down and refine your understanding of the topic.\\n\\nWhen you are satisfied with your understanding, complete the interview with: \"Thank you so much for your help!\"\\n\\nRemember to stay in character throughout your response, reflecting the persona and goals provided to you.'"
   ]
  },
  {
   "cell_type": "code",
   "execution_count": 96,
   "id": "0facd297",
   "metadata": {},
   "outputs": [],
   "source": [
    "def generation_question(state:InterviewState):\n",
    "    \"\"\"Node to generate the questions\"\"\"\n",
    "    \n",
    "    #get state\n",
    "    analyst = state[\"analyst\"]\n",
    "    messages = state[\"messages\"]\n",
    "    \n",
    "    #generate the question\n",
    "    system_message = question_instructions.format(goals = analyst.persona)\n",
    "    question = llm.invoke([SystemMessage(content=system_message)]+messages)\n",
    "    \n",
    "    #returen the question through state\n",
    "    return {\"messages\":[question]}"
   ]
  },
  {
   "cell_type": "code",
   "execution_count": 97,
   "id": "ecd6d013",
   "metadata": {},
   "outputs": [
    {
     "data": {
      "text/plain": [
       "Analyst(name=\"Liam O'Reilly\", role='Business Strategy Consultant', affiliation='FutureTech Consulting', description='Liam advises businesses on strategic adoption of emerging technologies. He focuses on how Langgraph can be a game-changer in aligning business strategies with technological advancements. His analysis includes market trends, competitive advantages, and long-term benefits of integrating Langgraph into business models, particularly for companies looking to stay ahead in the digital transformation race.')"
      ]
     },
     "execution_count": 97,
     "metadata": {},
     "output_type": "execute_result"
    }
   ],
   "source": [
    "analyst"
   ]
  },
  {
   "cell_type": "code",
   "execution_count": 98,
   "id": "df934cef",
   "metadata": {},
   "outputs": [],
   "source": [
    "class InterviewState(MessagesState):\n",
    "    max_num_turns: int # Number turns of conversation\n",
    "    context: Annotated[list, operator.add] # Source docs\n",
    "    analyst: Analyst # Analyst asking questions\n",
    "    interview: str # Interview transcript\n",
    "    sections: list # Final key we duplicate in outer state for Send() API"
   ]
  },
  {
   "cell_type": "code",
   "execution_count": 99,
   "id": "6df948d0",
   "metadata": {},
   "outputs": [],
   "source": [
    "state = {\"max_num_turns\":2,\"context\":[],\"analyst\":analyst,\"interview\":\"\",\"section\":[],\"messages\":[HumanMessage(content=\"hi do the proper search according to the experties\")]}"
   ]
  },
  {
   "cell_type": "code",
   "execution_count": 100,
   "id": "4a0010d4",
   "metadata": {},
   "outputs": [
    {
     "data": {
      "text/plain": [
       "{'max_num_turns': 2,\n",
       " 'context': [],\n",
       " 'analyst': Analyst(name=\"Liam O'Reilly\", role='Business Strategy Consultant', affiliation='FutureTech Consulting', description='Liam advises businesses on strategic adoption of emerging technologies. He focuses on how Langgraph can be a game-changer in aligning business strategies with technological advancements. His analysis includes market trends, competitive advantages, and long-term benefits of integrating Langgraph into business models, particularly for companies looking to stay ahead in the digital transformation race.'),\n",
       " 'interview': '',\n",
       " 'section': [],\n",
       " 'messages': [HumanMessage(content='hi do the proper search according to the experties', additional_kwargs={}, response_metadata={})]}"
      ]
     },
     "execution_count": 100,
     "metadata": {},
     "output_type": "execute_result"
    }
   ],
   "source": [
    "state"
   ]
  },
  {
   "cell_type": "code",
   "execution_count": 101,
   "id": "b02b6149",
   "metadata": {},
   "outputs": [
    {
     "name": "stderr",
     "output_type": "stream",
     "text": [
      "HTTP Request: POST https://api.openai.com/v1/chat/completions \"HTTP/1.1 200 OK\"\n"
     ]
    }
   ],
   "source": [
    "result = generation_question(state)"
   ]
  },
  {
   "cell_type": "code",
   "execution_count": 102,
   "id": "98176269",
   "metadata": {},
   "outputs": [
    {
     "data": {
      "text/plain": [
       "{'messages': [AIMessage(content=\"Hello, my name is Alex Carter, and I'm an analyst interested in understanding the strategic adoption of emerging technologies in business. I'm particularly curious about Langgraph and its potential impact on business strategies. Could you explain how Langgraph can be a game-changer for companies looking to align their strategies with technological advancements?\", additional_kwargs={'refusal': None}, response_metadata={'token_usage': {'completion_tokens': 61, 'prompt_tokens': 255, 'total_tokens': 316, 'completion_tokens_details': {'accepted_prediction_tokens': 0, 'audio_tokens': 0, 'reasoning_tokens': 0, 'rejected_prediction_tokens': 0}, 'prompt_tokens_details': {'audio_tokens': 0, 'cached_tokens': 0}}, 'model_name': 'gpt-4o-2024-08-06', 'system_fingerprint': 'fp_cbf1785567', 'id': 'chatcmpl-CRUD5zEOmXGi95uHTThLQ89BMFOra', 'service_tier': 'default', 'finish_reason': 'stop', 'logprobs': None}, id='run--7f5e12d1-2dc1-4818-88fd-c4ed2b122faf-0', usage_metadata={'input_tokens': 255, 'output_tokens': 61, 'total_tokens': 316, 'input_token_details': {'audio': 0, 'cache_read': 0}, 'output_token_details': {'audio': 0, 'reasoning': 0}})]}"
      ]
     },
     "execution_count": 102,
     "metadata": {},
     "output_type": "execute_result"
    }
   ],
   "source": [
    "result"
   ]
  },
  {
   "cell_type": "code",
   "execution_count": 103,
   "id": "05e95b53",
   "metadata": {},
   "outputs": [
    {
     "name": "stdout",
     "output_type": "stream",
     "text": [
      "Hello, my name is Alex Carter, and I'm an analyst interested in understanding the strategic adoption of emerging technologies in business. I'm particularly curious about Langgraph and its potential impact on business strategies. Could you explain how Langgraph can be a game-changer for companies looking to align their strategies with technological advancements?\n",
      "\n"
     ]
    }
   ],
   "source": [
    "print(result[\"messages\"][0].content)"
   ]
  },
  {
   "cell_type": "code",
   "execution_count": 104,
   "id": "81fb17df",
   "metadata": {},
   "outputs": [],
   "source": [
    "from langchain_core.messages import get_buffer_string"
   ]
  },
  {
   "cell_type": "code",
   "execution_count": 105,
   "id": "27088787",
   "metadata": {},
   "outputs": [],
   "source": [
    "# Search query writing\n",
    "search_instructions = SystemMessage(content=f\"\"\"You will be given a conversation between an analyst and an expert. \n",
    "Your goal is to generate a well-structured query for use in retrieval and / or web-search related to the conversation. \n",
    "First, analyze the full conversation.\n",
    "Pay particular attention to the final question posed by the analyst.\n",
    "Convert this final question into a well-structured web search query\"\"\")"
   ]
  },
  {
   "cell_type": "code",
   "execution_count": 106,
   "id": "925aa064",
   "metadata": {},
   "outputs": [],
   "source": [
    "def search_web(state:InterviewState):\n",
    "    \"\"\"\n",
    "    Retrieve data from the web\n",
    "    \"\"\"\n",
    "    structure_llm = llm.with_structured_output(SearchQuery)\n",
    "    search_query = structure_llm.invoke([search_instructions]+state[\"messages\"])\n",
    "    \n",
    "    # Search\n",
    "    search_docs = tavily_search.invoke(search_query.search_query)\n",
    "    # Format\n",
    "    formatted_search_docs = \"\\n\\n---\\n\\n\".join(\n",
    "        [\n",
    "            f'<Document href=\"{doc[\"url\"]}\"/>\\n{doc[\"content\"]}\\n</Document>'\n",
    "            for doc in search_docs\n",
    "        ]\n",
    "    )\n",
    "\n",
    "    return {\"context\": [formatted_search_docs]}"
   ]
  },
  {
   "cell_type": "code",
   "execution_count": 110,
   "id": "65f91729",
   "metadata": {},
   "outputs": [],
   "source": [
    "state = {\"max_num_turns\":2,\"context\":[],\"analyst\":analyst,\"interview\":\"\",\"section\":[],'messages': [AIMessage(content=\"Hello, my name is Alex Thompson, and I'm an analyst interested in understanding the strategic implications of adopting Langgraph for businesses. I'm particularly keen on how this framework can drive innovation and support digital transformation initiatives. Thank you for taking the time to speak with me today, Michael. \\n\\nTo start, could you explain what Langgraph is and why it's becoming a significant consideration for businesses looking to innovate?\", additional_kwargs={'refusal': None}, response_metadata={'token_usage': {'completion_tokens': 79, 'prompt_tokens': 224, 'total_tokens': 303, 'completion_tokens_details': {'accepted_prediction_tokens': 0, 'audio_tokens': 0, 'reasoning_tokens': 0, 'rejected_prediction_tokens': 0}, 'prompt_tokens_details': {'audio_tokens': 0, 'cached_tokens': 0}}, 'model_name': 'gpt-4o-2024-08-06', 'system_fingerprint': 'fp_cbf1785567', 'id': 'chatcmpl-CPRmMT7ufhFyYLhMtNpeguI9W2y6O', 'service_tier': 'default', 'finish_reason': 'stop', 'logprobs': None}, id='run--827b799b-ccb9-422c-a444-402d7ddc4550-0', usage_metadata={'input_tokens': 224, 'output_tokens': 79, 'total_tokens': 303, 'input_token_details': {'audio': 0, 'cache_read': 0}, 'output_token_details': {'audio': 0, 'reasoning': 0}})]}"
   ]
  },
  {
   "cell_type": "code",
   "execution_count": 175,
   "id": "f328458d",
   "metadata": {},
   "outputs": [
    {
     "name": "stderr",
     "output_type": "stream",
     "text": [
      "HTTP Request: POST https://api.openai.com/v1/chat/completions \"HTTP/1.1 200 OK\"\n"
     ]
    }
   ],
   "source": [
    "result = search_web(state)"
   ]
  },
  {
   "cell_type": "code",
   "execution_count": 176,
   "id": "170cf24a",
   "metadata": {},
   "outputs": [
    {
     "name": "stdout",
     "output_type": "stream",
     "text": [
      "<Document href=\"https://medium.com/@dr.jarkko.moilanen/why-i-took-the-langgraph-course-as-a-business-level-product-head-facde7ba3118\"/>\n",
      "Despite my focus on business strategy and AI leadership, taking the LangGraph course offered numerous benefits. Understanding the technical foundations of AI systems improved communication with developers, engineers, and data scientists, ensuring accurate requirement definitions for complex solutions. It also enhanced my ability to make informed decisions by providing context for assessing feasibility, estimating effort, and identifying risks. With a stronger technical foundation, I could [...] Moreover, technical knowledge strengthened collaboration across teams by fostering a shared language. It also contributed to defining value propositions, pricing strategies, and business models for data products by providing a deeper understanding of how data is collected, processed, and consumed. Keeping up with evolving technologies like LangGraph helps maintain relevance and adaptability, which is essential in today’s rapidly changing data economy. [...] better identify innovative opportunities and leverage underlying technologies to develop new business models or improve customer experiences.\n",
      "</Document>\n",
      "\n",
      "---\n",
      "\n",
      "<Document href=\"https://blog.agen.cy/p/agency-revolutionizing-ai-development\"/>\n",
      "As the AI agent ecosystem continues to evolve, LangGraph is positioned to become the standard for sophisticated, stateful agent systems. Agency is leading the way in developing innovative applications that leverage this powerful framework to solve complex business challenges. [...] Unlike linear frameworks, LangGraph allows agents to revisit previous steps based on new information or changing conditions. This creates more adaptable AI systems that can handle complex, non-linear business processes.\n",
      "\n",
      "#### 3. Fine-Grained Control\n",
      "\n",
      "The framework provides developers with precise control over agent workflows and state, enabling the creation of highly customized AI solutions tailored to specific business needs.\n",
      "\n",
      "#### 4. Seamless LangChain Integration [...] As part of the LangChain ecosystem, LangGraph benefits from a vast array of integrations and tools, making it highly versatile for enterprise applications.\n",
      "\n",
      "### Agency: Pioneering LangGraph Implementation Since 2023\n",
      "</Document>\n",
      "\n",
      "---\n",
      "\n",
      "<Document href=\"https://www.cohorte.co/blog/unleashing-the-power-of-langgraph-an-introduction-to-the-future-of-ai-workflows\"/>\n",
      "```\n",
      "graph = graph_builder.compile() user_input = \"Hi there!\"  state = {\"messages\": [user_input]} print(result[\"messages\"])\n",
      "```\n",
      "\n",
      "Congratulations! You've built your first chatbot using LangGraph.\n",
      "\n",
      "## Why You Should Care: Real Business Benefits\n",
      "\n",
      "LangGraph isn’t just for hobby projects. It’s built to be the engine behind reliable, stateful, LLM-powered applications that have real-world value. Businesses can use it to create AI systems that: [...] ##### 3. Human-in-the-Loop\n",
      "\n",
      "Sometimes, even the smartest AI agents need a little human guidance. LangGraph allows you to easily integrate human input into the process. You can pause your AI agent, have a person check its plan, tweak things if needed, and then continue the workflow. This makes LangGraph perfect for creating reliable AI systems that need to be trusted in business settings—where AI can do most of the work, but a human keeps an eye on the really critical decisions. [...] Compared to other AI frameworks, LangGraph gives you more power and flexibility. If you’ve used LangChain before, you know it’s amazing for building chains of LLM-powered tasks, like calling an API or generating responses. LangGraph goes beyond those linear chains—it lets you create decision-making loops, pauses for human checks, and elaborate multi-agent setups.\n",
      "</Document>\n",
      "\n",
      "---\n",
      "\n",
      "<Document href=\"https://www.amplework.com/blog/langgraph-vs-autogen-vs-crewai-multi-agent-framework/\"/>\n",
      "You can reuse LangChain tools, memory, and models directly within LangGraph flows, enhancing the multi-agent LLM systems you build.\n",
      " ##### Streaming and Long-Running Task Support\n",
      "\n",
      "  LangGraph supports real-time agent responses and asynchronous workflows, making it perfect for digital transformation services that require fast, reliable results.\n",
      "\n",
      "#### Cons:\n",
      "\n",
      " ##### Steeper Learning Curve [...] Task Delegation Systems: Break down complex problems into specialized roles and let agents handle them sequentially. This is essential for large-scale digital transformation services that require streamlined processes.\n",
      " Automated Report Generation: Assign different agents to research, write, and refine content for structured reporting, ideal for enterprise solutions looking to automate high-volume tasks. [...] AutoGen supports custom agent design and tool invocation through Python functions and OpenAI functions.\n",
      " LangGraph allows extensive customization of nodes and logic using LangChain tools.\n",
      " CrewAI enables you to define roles with specific tools, though its extensibility is somewhat more structured.\n",
      "\n",
      "The more extensible the framework, the better it will adapt to your existing tech stack and future innovations.\n",
      "\n",
      "### 5. Deployment Flexibility\n",
      "</Document>\n",
      "\n",
      "---\n",
      "\n",
      "<Document href=\"https://www.ibm.com/think/topics/langgraph\"/>\n",
      ": LangGraph will have more advanced NLP capabilities, allowing it to better understand natural language and provide more accurate responses.\n",
      "\n",
      "Improved machine learning: LangGraph will have improved machine learning capabilities, allowing it to learn and improve over time.\n",
      "\n",
      "Support for new platforms: LangGraph will support new platforms, such as mobile devices and edge computing to make its technology more accessible. [...] This approach allows for more effective decision-making, improved scalability and enhanced overall performance. It also allows for more engagement with individuals who might be new to these processes or prefer a clearer picture of what is going on behind the scenes. [...] . The chatbot learns to respond to minimal user input and tailor recommendations. Currently, services such as Google’s Duplex are using LangGraph in a similar fashion to mimic human-like conversations.\n",
      "\n",
      "Agent systems: LangGraph provides a framework for building agent-based systems, which can be used in applications such as robotics, autonomous vehicles or video games.\n",
      "</Document>\n",
      "\n"
     ]
    }
   ],
   "source": [
    "print(result[\"context\"][0])"
   ]
  },
  {
   "cell_type": "code",
   "execution_count": 177,
   "id": "4822b42c",
   "metadata": {},
   "outputs": [],
   "source": [
    "def search_wikipedia(state:InterviewState):\n",
    "    \"\"\"\n",
    "    Retrieve data from wiki\n",
    "    \"\"\"\n",
    "    # Search query\n",
    "    structured_llm = llm.with_structured_output(SearchQuery)\n",
    "    search_query = structured_llm.invoke([search_instructions]+state['messages'])\n",
    "    \n",
    "    print(\"*******************************\")\n",
    "    print(search_query)\n",
    "    \n",
    "    # Search\n",
    "    search_docs = WikipediaLoader(query=search_query.search_query).load()\n",
    "\n",
    "     # Format\n",
    "    formatted_search_docs = \"\\n\\n---\\n\\n\".join(\n",
    "        [\n",
    "            f'<Document source=\"{doc.metadata[\"source\"]}\" page=\"{doc.metadata.get(\"page\", \"\")}\"/>\\n{doc.page_content}\\n</Document>'\n",
    "            for doc in search_docs\n",
    "        ]\n",
    "    )\n",
    "\n",
    "    return {\"context\": [formatted_search_docs]} "
   ]
  },
  {
   "cell_type": "code",
   "execution_count": 178,
   "id": "edbb7c78",
   "metadata": {},
   "outputs": [],
   "source": [
    "state = {\"max_num_turns\":2,\"context\":[],\"analyst\":analyst,\"interview\":\"\",\"section\":[],'messages': [AIMessage(content=\"Hello, my name is Alex Thompson, and I'm an analyst interested in understanding the strategic implications of adopting Langgraph for businesses. I'm particularly keen on how this framework can drive innovation and support digital transformation initiatives. Thank you for taking the time to speak with me today, Michael. \\n\\nTo start, could you explain what Langgraph is and why it's becoming a significant consideration for businesses looking to innovate?\", additional_kwargs={'refusal': None}, response_metadata={'token_usage': {'completion_tokens': 79, 'prompt_tokens': 224, 'total_tokens': 303, 'completion_tokens_details': {'accepted_prediction_tokens': 0, 'audio_tokens': 0, 'reasoning_tokens': 0, 'rejected_prediction_tokens': 0}, 'prompt_tokens_details': {'audio_tokens': 0, 'cached_tokens': 0}}, 'model_name': 'gpt-4o-2024-08-06', 'system_fingerprint': 'fp_cbf1785567', 'id': 'chatcmpl-CPRmMT7ufhFyYLhMtNpeguI9W2y6O', 'service_tier': 'default', 'finish_reason': 'stop', 'logprobs': None}, id='run--827b799b-ccb9-422c-a444-402d7ddc4550-0', usage_metadata={'input_tokens': 224, 'output_tokens': 79, 'total_tokens': 303, 'input_token_details': {'audio': 0, 'cache_read': 0}, 'output_token_details': {'audio': 0, 'reasoning': 0}})]}"
   ]
  },
  {
   "cell_type": "code",
   "execution_count": 179,
   "id": "f9408d7f",
   "metadata": {},
   "outputs": [
    {
     "name": "stderr",
     "output_type": "stream",
     "text": [
      "HTTP Request: POST https://api.openai.com/v1/chat/completions \"HTTP/1.1 200 OK\"\n"
     ]
    },
    {
     "name": "stdout",
     "output_type": "stream",
     "text": [
      "*******************************\n",
      "search_query='Langgraph framework benefits for business innovation and digital transformation'\n",
      "\n",
      "search_query='Langgraph framework benefits for business innovation and digital transformation'\n"
     ]
    }
   ],
   "source": [
    "\n",
    "result = search_wikipedia(state)"
   ]
  },
  {
   "cell_type": "code",
   "execution_count": 180,
   "id": "24cabcf0",
   "metadata": {},
   "outputs": [],
   "source": [
    "search_docs = WikipediaLoader(query='Langgraph framework benefits',load_all_available_meta=True).load()"
   ]
  },
  {
   "cell_type": "code",
   "execution_count": 181,
   "id": "4a8212e6",
   "metadata": {},
   "outputs": [
    {
     "data": {
      "text/plain": [
       "[]"
      ]
     },
     "execution_count": 181,
     "metadata": {},
     "output_type": "execute_result"
    }
   ],
   "source": [
    "search_docs"
   ]
  },
  {
   "cell_type": "code",
   "execution_count": 182,
   "id": "7df00b55",
   "metadata": {},
   "outputs": [
    {
     "data": {
      "text/plain": [
       "{'context': ['']}"
      ]
     },
     "execution_count": 182,
     "metadata": {},
     "output_type": "execute_result"
    }
   ],
   "source": [
    "result"
   ]
  },
  {
   "cell_type": "code",
   "execution_count": 183,
   "id": "b3fa5d95",
   "metadata": {},
   "outputs": [],
   "source": [
    "answer_instructions = \"\"\"You are an expert being interviewed by an analyst.\n",
    "\n",
    "Here is analyst area of focus: {goals}. \n",
    "        \n",
    "You goal is to answer a question posed by the interviewer.\n",
    "\n",
    "To answer question, use this context:\n",
    "        \n",
    "{context}\n",
    "\n",
    "When answering questions, follow these guidelines:\n",
    "        \n",
    "1. Use only the information provided in the context. \n",
    "        \n",
    "2. Do not introduce external information or make assumptions beyond what is explicitly stated in the context.\n",
    "\n",
    "3. The context contain sources at the topic of each individual document.\n",
    "\n",
    "4. Include these sources your answer next to any relevant statements. For example, for source # 1 use [1]. \n",
    "\n",
    "5. List your sources in order at the bottom of your answer. [1] Source 1, [2] Source 2, etc\n",
    "        \n",
    "6. If the source is: <Document source=\"assistant/docs/llama3_1.pdf\" page=\"7\"/>' then just list: \n",
    "        \n",
    "[1] assistant/docs/llama3_1.pdf, page 7 \n",
    "        \n",
    "And skip the addition of the brackets as well as the Document source preamble in your citation.\"\"\""
   ]
  },
  {
   "cell_type": "code",
   "execution_count": 184,
   "id": "f9e53d09",
   "metadata": {},
   "outputs": [],
   "source": [
    "def generate_answer(state:InterviewState):\n",
    "   \n",
    "    \"\"\" Node to answer a question \"\"\"\n",
    "\n",
    "    # Get state\n",
    "    analyst = state[\"analyst\"]\n",
    "    messages = state[\"messages\"]\n",
    "    context = state[\"context\"]\n",
    "\n",
    "    # Answer question\n",
    "    system_message = answer_instructions.format(goals=analyst.persona, context=context)\n",
    "    answer = llm.invoke([SystemMessage(content=system_message)]+messages)\n",
    "            \n",
    "    # Name the message as coming from the expert\n",
    "    answer.name = \"expert\"\n",
    "    \n",
    "    # Append it to state\n",
    "    return {\"messages\": [answer]}"
   ]
  },
  {
   "cell_type": "code",
   "execution_count": 185,
   "id": "0702c9a5",
   "metadata": {},
   "outputs": [],
   "source": [
    "def route_messages(state: InterviewState, \n",
    "                   name: str = \"expert\"):\n",
    "\n",
    "    \"\"\" Route between question and answer \"\"\"\n",
    "    \n",
    "    # Get messages\n",
    "    messages = state[\"messages\"]\n",
    "    max_num_turns = state.get('max_num_turns',2)\n",
    "\n",
    "    # Check the number of expert answers \n",
    "    num_responses = len(\n",
    "        [m for m in messages if isinstance(m, AIMessage) and m.name == name]\n",
    "    )\n",
    "\n",
    "    # End if expert has answered more than the max turns\n",
    "    if num_responses >= max_num_turns:\n",
    "        return 'save_interview'\n",
    "\n",
    "    # This router is run after each question - answer pair \n",
    "    # Get the last question asked to check if it signals the end of discussion\n",
    "    last_question = messages[-2]\n",
    "    \n",
    "    if \"Thank you so much for your help\" in last_question.content:\n",
    "        return 'save_interview'\n",
    "    \n",
    "    return \"ask_question\""
   ]
  },
  {
   "cell_type": "code",
   "execution_count": 186,
   "id": "4b0c1f54",
   "metadata": {},
   "outputs": [],
   "source": [
    "def save_interview(state: InterviewState):\n",
    "    \n",
    "    \"\"\" Save interviews \"\"\"\n",
    "\n",
    "    # Get messages\n",
    "    messages = state[\"messages\"]\n",
    "    \n",
    "    # Convert interview to a string\n",
    "    interview = get_buffer_string(messages)\n",
    "    \n",
    "    # Save to interviews key\n",
    "    return {\"interview\": interview}"
   ]
  },
  {
   "cell_type": "code",
   "execution_count": 187,
   "id": "fc821499",
   "metadata": {},
   "outputs": [],
   "source": [
    "section_writer_instructions = \"\"\"You are an expert technical writer. \n",
    "            \n",
    "Your task is to create a short, easily digestible section of a report based on a set of source documents.\n",
    "\n",
    "1. Analyze the content of the source documents: \n",
    "- The name of each source document is at the start of the document, with the <Document tag.\n",
    "        \n",
    "2. Create a report structure using markdown formatting:\n",
    "- Use ## for the section title\n",
    "- Use ### for sub-section headers\n",
    "        \n",
    "3. Write the report following this structure:\n",
    "a. Title (## header)\n",
    "b. Summary (### header)\n",
    "c. Sources (### header)\n",
    "\n",
    "4. Make your title engaging based upon the focus area of the analyst: \n",
    "{focus}\n",
    "\n",
    "5. For the summary section:\n",
    "- Set up summary with general background / context related to the focus area of the analyst\n",
    "- Emphasize what is novel, interesting, or surprising about insights gathered from the interview\n",
    "- Create a numbered list of source documents, as you use them\n",
    "- Do not mention the names of interviewers or experts\n",
    "- Aim for approximately 400 words maximum\n",
    "- Use numbered sources in your report (e.g., [1], [2]) based on information from source documents\n",
    "        \n",
    "6. In the Sources section:\n",
    "- Include all sources used in your report\n",
    "- Provide full links to relevant websites or specific document paths\n",
    "- Separate each source by a newline. Use two spaces at the end of each line to create a newline in Markdown.\n",
    "- It will look like:\n",
    "\n",
    "### Sources\n",
    "[1] Link or Document name\n",
    "[2] Link or Document name\n",
    "\n",
    "7. Be sure to combine sources. For example this is not correct:\n",
    "\n",
    "[3] https://ai.meta.com/blog/meta-llama-3-1/\n",
    "[4] https://ai.meta.com/blog/meta-llama-3-1/\n",
    "\n",
    "There should be no redundant sources. It should simply be:\n",
    "\n",
    "[3] https://ai.meta.com/blog/meta-llama-3-1/\n",
    "        \n",
    "8. Final review:\n",
    "- Ensure the report follows the required structure\n",
    "- Include no preamble before the title of the report\n",
    "- Check that all guidelines have been followed\"\"\""
   ]
  },
  {
   "cell_type": "code",
   "execution_count": 188,
   "id": "0ab6eb2d",
   "metadata": {},
   "outputs": [],
   "source": [
    "def write_section(state: InterviewState):\n",
    "\n",
    "    \"\"\" Node to answer a question \"\"\"\n",
    "\n",
    "    # Get state\n",
    "    interview = state[\"interview\"]\n",
    "    context = state[\"context\"]\n",
    "    analyst = state[\"analyst\"]\n",
    "   \n",
    "    # Write section using either the gathered source docs from interview (context) or the interview itself (interview)\n",
    "    system_message = section_writer_instructions.format(focus=analyst.description)\n",
    "    section = llm.invoke([SystemMessage(content=system_message)]+[HumanMessage(content=f\"Use this source to write your section: {context}\")]) \n",
    "                \n",
    "    # Append it to state\n",
    "    return {\"sections\": [section.content]}"
   ]
  },
  {
   "cell_type": "code",
   "execution_count": 213,
   "id": "dbbeb892",
   "metadata": {},
   "outputs": [],
   "source": [
    "interview_builder = StateGraph(InterviewState)"
   ]
  },
  {
   "cell_type": "code",
   "execution_count": 214,
   "id": "cba39e1d",
   "metadata": {},
   "outputs": [
    {
     "data": {
      "text/plain": [
       "<langgraph.graph.state.StateGraph at 0x28f63c37d90>"
      ]
     },
     "execution_count": 214,
     "metadata": {},
     "output_type": "execute_result"
    }
   ],
   "source": [
    "interview_builder.add_node(\"ask_question\",generation_question)\n",
    "interview_builder.add_node(\"search_web\",search_web)\n",
    "interview_builder.add_node(\"search_wikipedia\",search_wikipedia)\n",
    "interview_builder.add_node(\"generate_answer\",generate_answer)\n",
    "interview_builder.add_node(\"save_interview\",save_interview)\n",
    "interview_builder.add_node(\"write_section\",write_section)"
   ]
  },
  {
   "cell_type": "code",
   "execution_count": 215,
   "id": "9db8c356",
   "metadata": {},
   "outputs": [
    {
     "data": {
      "text/plain": [
       "<langgraph.graph.state.StateGraph at 0x28f63c37d90>"
      ]
     },
     "execution_count": 215,
     "metadata": {},
     "output_type": "execute_result"
    }
   ],
   "source": [
    "interview_builder.add_edge(START, \"ask_question\")\n",
    "interview_builder.add_edge(\"ask_question\",\"search_web\")\n",
    "interview_builder.add_edge(\"ask_question\",\"search_wikipedia\")\n",
    "interview_builder.add_edge(\"search_web\",\"generate_answer\")\n",
    "interview_builder.add_edge(\"search_wikipedia\",\"generate_answer\")\n",
    "interview_builder.add_conditional_edges(\"generate_answer\",\n",
    "                           route_messages,\n",
    "                           [\"ask_question\",\n",
    "                            \"save_interview\"])\n",
    "interview_builder.add_edge(\"save_interview\",\"write_section\")\n",
    "interview_builder.add_edge(\"write_section\",END)"
   ]
  },
  {
   "cell_type": "code",
   "execution_count": 216,
   "id": "d832156c",
   "metadata": {},
   "outputs": [],
   "source": [
    "interview_graph = interview_builder.compile(checkpointer=memory).with_config(run_name = \"Conduct Interview\")"
   ]
  },
  {
   "cell_type": "code",
   "execution_count": 217,
   "id": "53326b68",
   "metadata": {},
   "outputs": [
    {
     "data": {
      "image/png": "[encoded data removed]",
      "text/plain": [
       "<IPython.core.display.Image object>"
      ]
     },
     "metadata": {},
     "output_type": "display_data"
    }
   ],
   "source": [
    "display(Image(interview_graph.get_graph().draw_mermaid_png()))"
   ]
  },
  {
   "cell_type": "code",
   "execution_count": 194,
   "id": "c11036d7",
   "metadata": {},
   "outputs": [
    {
     "data": {
      "text/plain": [
       "Analyst(name=\"Liam O'Reilly\", role='Business Strategy Consultant', affiliation='FutureTech Consulting', description='Liam advises businesses on strategic adoption of emerging technologies. He focuses on how Langgraph can be a game-changer in aligning business strategies with technological advancements. His analysis includes market trends, competitive advantages, and long-term benefits of integrating Langgraph into business models, particularly for companies looking to stay ahead in the digital transformation race.')"
      ]
     },
     "execution_count": 194,
     "metadata": {},
     "output_type": "execute_result"
    }
   ],
   "source": [
    "analyst"
   ]
  },
  {
   "cell_type": "code",
   "execution_count": 195,
   "id": "b10ea3a7",
   "metadata": {},
   "outputs": [
    {
     "data": {
      "text/plain": [
       "\"Name: Liam O'Reilly\\nRole: Business Strategy Consultant\\nAffiliation: FutureTech Consulting\\nDescription: Liam advises businesses on strategic adoption of emerging technologies. He focuses on how Langgraph can be a game-changer in aligning business strategies with technological advancements. His analysis includes market trends, competitive advantages, and long-term benefits of integrating Langgraph into business models, particularly for companies looking to stay ahead in the digital transformation race.\\n\""
      ]
     },
     "execution_count": 195,
     "metadata": {},
     "output_type": "execute_result"
    }
   ],
   "source": [
    "analyst.persona"
   ]
  },
  {
   "cell_type": "code",
   "execution_count": 196,
   "id": "947bfddf",
   "metadata": {},
   "outputs": [],
   "source": [
    "thread = {\"configurable\": {\"thread_id\": \"1\"}}"
   ]
  },
  {
   "cell_type": "code",
   "execution_count": 197,
   "id": "e553094e",
   "metadata": {},
   "outputs": [],
   "source": [
    "from IPython.display import Markdown"
   ]
  },
  {
   "cell_type": "code",
   "execution_count": 198,
   "id": "dab1c255",
   "metadata": {},
   "outputs": [],
   "source": [
    "messages = [HumanMessage(\"So you said you were writing an article on Langchain?\")]"
   ]
  },
  {
   "cell_type": "code",
   "execution_count": 199,
   "id": "480007f7",
   "metadata": {},
   "outputs": [
    {
     "name": "stderr",
     "output_type": "stream",
     "text": [
      "HTTP Request: POST https://api.openai.com/v1/chat/completions \"HTTP/1.1 200 OK\"\n",
      "HTTP Request: POST https://api.openai.com/v1/chat/completions \"HTTP/1.1 200 OK\"\n",
      "HTTP Request: POST https://api.openai.com/v1/chat/completions \"HTTP/1.1 200 OK\"\n"
     ]
    },
    {
     "name": "stdout",
     "output_type": "stream",
     "text": [
      "*******************************\n",
      "search_query='Langgraph strategic implications for businesses technology alignment advantages over other technologies'\n"
     ]
    },
    {
     "name": "stderr",
     "output_type": "stream",
     "text": [
      "HTTP Request: POST https://api.openai.com/v1/chat/completions \"HTTP/1.1 200 OK\"\n",
      "HTTP Request: POST https://api.openai.com/v1/chat/completions \"HTTP/1.1 200 OK\"\n",
      "HTTP Request: POST https://api.openai.com/v1/chat/completions \"HTTP/1.1 200 OK\"\n"
     ]
    },
    {
     "name": "stdout",
     "output_type": "stream",
     "text": [
      "*******************************\n",
      "search_query='Langgraph integration success stories in business models tangible benefits'\n"
     ]
    },
    {
     "name": "stderr",
     "output_type": "stream",
     "text": [
      "HTTP Request: POST https://api.openai.com/v1/chat/completions \"HTTP/1.1 200 OK\"\n",
      "HTTP Request: POST https://api.openai.com/v1/chat/completions \"HTTP/1.1 200 OK\"\n",
      "HTTP Request: POST https://api.openai.com/v1/chat/completions \"HTTP/1.1 200 OK\"\n"
     ]
    }
   ],
   "source": [
    "interview = interview_graph.invoke({\"analyst\": analyst, \"messages\": messages, \"max_num_turns\": 2}, thread)"
   ]
  },
  {
   "cell_type": "code",
   "execution_count": 200,
   "id": "b18f6231",
   "metadata": {},
   "outputs": [
    {
     "data": {
      "text/markdown": [
       "## Langgraph: A Strategic Game-Changer for Business Technology Alignment\n",
       "\n",
       "### Summary\n",
       "\n",
       "In the rapidly evolving landscape of AI and technology, businesses are constantly seeking innovative solutions to stay competitive. Langgraph emerges as a pivotal framework for enterprises aiming to align their business strategies with technological advancements. This report delves into the strategic advantages of adopting Langgraph, highlighting its potential to transform business models and maintain a competitive edge in the digital transformation race.\n",
       "\n",
       "Langgraph is not just a technical tool; it represents a strategic shift in how businesses can leverage AI for complex, real-world applications. Unlike its predecessor, LangChain, which is suitable for rapid development and straightforward applications, Langgraph is designed for sophisticated, production-grade AI systems. It excels in handling complex workflows, stateful processes, and multi-agent coordination, making it ideal for enterprises looking to implement robust AI solutions [1][2].\n",
       "\n",
       "One of the most compelling aspects of Langgraph is its ability to scale efficiently, offering better ROI for large-scale deployments. Its architecture supports modular, scalable systems with advanced memory management, error handling, and observability, crucial for mission-critical enterprise applications [1][3]. This makes Langgraph particularly appealing for industries such as retail, healthcare, and telecommunications, where real-world complexity and continuous change are prevalent [3][4].\n",
       "\n",
       "Langgraph's integration capabilities are another significant advantage. It seamlessly connects with major tools and models, including OpenAI, Anthropic, and enterprise APIs, allowing businesses to incorporate it into their existing tech stacks without significant overhead [5]. This flexibility ensures that companies can maintain their current workflows while enhancing them with Langgraph's advanced features.\n",
       "\n",
       "Moreover, Langgraph's strategic implications extend beyond technical benefits. It offers businesses a pathway to bridge the gap between automation and true personalization, particularly in sectors like retail, where customer interactions and operational efficiency are paramount [3]. By enabling more reliable, scalable, and stateful AI agents, Langgraph empowers businesses to move from static models to adaptive systems that learn and respond with context.\n",
       "\n",
       "In conclusion, Langgraph represents a strategic opportunity for businesses to harness the power of AI in a way that aligns with their long-term goals. Its robust framework, scalability, and integration capabilities make it a game-changer for enterprises looking to lead in the digital transformation era. As businesses continue to navigate the complexities of AI adoption, understanding and implementing Langgraph could be the key to unlocking new levels of innovation and competitiveness.\n",
       "\n",
       "### Sources\n",
       "[1] https://thirdeyedata.ai/a-comparative-study-between-langgraph-and-langchain-for-enterprise-ai-development/  \n",
       "[2] https://medium.com/@nagarjunmallesh/beyond-the-chain-why-langgraph-represents-a-strategic-shift-for-enterprise-grade-ai-15411ddb8529  \n",
       "[3] https://interviewkickstart.com/blogs/articles/langgraph-for-retail-ai-agent  \n",
       "[4] https://www.designveloper.com/blog/langgraph-vs-langchain-comparison/  \n",
       "[5] https://www.ema.co/additional-blogs/addition-blogs/building-ai-agents-langgraph  "
      ],
      "text/plain": [
       "<IPython.core.display.Markdown object>"
      ]
     },
     "execution_count": 200,
     "metadata": {},
     "output_type": "execute_result"
    }
   ],
   "source": [
    "Markdown(interview['sections'][0])"
   ]
  },
  {
   "cell_type": "markdown",
   "id": "05bc29b1",
   "metadata": {},
   "source": [
    "## 3. Build Report Workflow"
   ]
  },
  {
   "cell_type": "code",
   "execution_count": 201,
   "id": "7cfb495a",
   "metadata": {},
   "outputs": [],
   "source": [
    "from typing_extensions import Annotated, List\n",
    "from langgraph.graph import MessagesState\n",
    "import operator"
   ]
  },
  {
   "cell_type": "code",
   "execution_count": 202,
   "id": "538955c6",
   "metadata": {},
   "outputs": [],
   "source": [
    "class ResearchGraphState(TypedDict):\n",
    "    topic: str # Final research report\n",
    "    max_analysts: int # number of analyst\n",
    "    human_analyst_feedback: str # Human feedback\n",
    "    analysts: List[Analyst] # Analyst asking questions\n",
    "    sections: Annotated[List, operator.add] # Final report sections\n",
    "    introduction: str # Introduction section\n",
    "    content: str # Final research report\n",
    "    conclusion: str # Conclusion section\n",
    "    final_report: str # Final research report"
   ]
  },
  {
   "cell_type": "code",
   "execution_count": 203,
   "id": "c70d1e3b",
   "metadata": {},
   "outputs": [],
   "source": [
    "from langgraph.types import Send"
   ]
  },
  {
   "cell_type": "code",
   "execution_count": 204,
   "id": "10c1aad9",
   "metadata": {},
   "outputs": [],
   "source": [
    "def initiate_all_interviews(state:ResearchGraphState):\n",
    "    \"\"\" Initialize all interviews for each analyst \"\"\"\n",
    "\n",
    "    # Check if human feedback is provided\n",
    "    human_analyst_feedback = state.get(\"human_analyst_feedback\", None)\n",
    "    if human_analyst_feedback:\n",
    "        return \"create_analyst\"\n",
    "    else:\n",
    "        topic = state[\"topic\"]\n",
    "        return[Send(\"conduct_interview\", {\"analyst\": analyst, \n",
    "                                          \"messages\": [HumanMessage(content=f\"Please conduct an interview on the topic: {topic}\")] ,\n",
    "                                          \"context\": []}) for analyst in state[\"analysts\"]]\n",
    "   "
   ]
  },
  {
   "cell_type": "code",
   "execution_count": 220,
   "id": "fb807ec3",
   "metadata": {},
   "outputs": [],
   "source": [
    "report_writer_instructions = \"\"\"You are a technical writer creating a report on this overall topic: \n",
    "\n",
    "{topic}\n",
    "    \n",
    "You have a team of analysts. Each analyst has done two things: \n",
    "\n",
    "1. They conducted an interview with an expert on a specific sub-topic.\n",
    "2. They write up their finding into a memo.\n",
    "\n",
    "Your task: \n",
    "\n",
    "1. You will be given a collection of memos from your analysts.\n",
    "2. Think carefully about the insights from each memo.\n",
    "3. Consolidate these into a crisp overall summary that ties together the central ideas from all of the memos. \n",
    "4. Summarize the central points in each memo into a cohesive single narrative.\n",
    "\n",
    "To format your report:\n",
    " \n",
    "1. Use markdown formatting. \n",
    "2. Include no pre-amble for the report.\n",
    "3. Use no sub-heading. \n",
    "4. Start your report with a single title header: ## Insights\n",
    "5. Do not mention any analyst names in your report.\n",
    "6. Preserve any citations in the memos, which will be annotated in brackets, for example [1] or [2].\n",
    "7. Create a final, consolidated list of sources and add to a Sources section with the `## Sources` header.\n",
    "8. List your sources in order and do not repeat.\n",
    "\n",
    "[1] Source 1\n",
    "[2] Source 2\n",
    "\n",
    "Here are the memos from your analysts to build your report from: \n",
    "\n",
    "{context}\"\"\""
   ]
  },
  {
   "cell_type": "code",
   "execution_count": 221,
   "id": "e6ae712d",
   "metadata": {},
   "outputs": [],
   "source": [
    "def write_report(state: ResearchGraphState):\n",
    "    # Full set of sections\n",
    "    sections = state[\"sections\"]\n",
    "    topic = state[\"topic\"]\n",
    "\n",
    "    # Concat all sections together\n",
    "    formatted_str_sections = \"\\n\\n\".join([f\"{section}\" for section in sections])\n",
    "    \n",
    "    # Summarize the sections into a final report\n",
    "    system_message = report_writer_instructions.format(topic=topic, context=formatted_str_sections)    \n",
    "    report = llm.invoke([SystemMessage(content=system_message)]+[HumanMessage(content=f\"Write a report based upon these memos.\")]) \n",
    "    return {\"content\": report.content}"
   ]
  },
  {
   "cell_type": "code",
   "execution_count": 219,
   "id": "e8cc04a9",
   "metadata": {},
   "outputs": [],
   "source": [
    "intro_conclusion_instructions = \"\"\"You are a technical writer finishing a report on {topic}\n",
    "\n",
    "You will be given all of the sections of the report.\n",
    "\n",
    "You job is to write a crisp and compelling introduction or conclusion section.\n",
    "\n",
    "The user will instruct you whether to write the introduction or conclusion.\n",
    "\n",
    "Include no pre-amble for either section.\n",
    "\n",
    "Target around 100 words, crisply previewing (for introduction) or recapping (for conclusion) all of the sections of the report.\n",
    "\n",
    "Use markdown formatting. \n",
    "\n",
    "For your introduction, create a compelling title and use the # header for the title.\n",
    "\n",
    "For your introduction, use ## Introduction as the section header. \n",
    "\n",
    "For your conclusion, use ## Conclusion as the section header.\n",
    "\n",
    "Here are the sections to reflect on for writing: {formatted_str_sections}\"\"\""
   ]
  },
  {
   "cell_type": "code",
   "execution_count": 207,
   "id": "f1c98e86",
   "metadata": {},
   "outputs": [],
   "source": [
    "def write_introduction(state: ResearchGraphState):\n",
    "    # Full set of sections\n",
    "    sections = state[\"sections\"]\n",
    "    topic = state[\"topic\"]\n",
    "\n",
    "    # Concat all sections together\n",
    "    formatted_str_sections = \"\\n\\n\".join([f\"{section}\" for section in sections])\n",
    "    \n",
    "    # Summarize the sections into a final report\n",
    "    \n",
    "    instructions = intro_conclusion_instructions.format(topic=topic, formatted_str_sections=formatted_str_sections)    \n",
    "    intro = llm.invoke([instructions]+[HumanMessage(content=f\"Write the report introduction\")]) \n",
    "    return {\"introduction\": intro.content}"
   ]
  },
  {
   "cell_type": "code",
   "execution_count": 209,
   "id": "fe09fc87",
   "metadata": {},
   "outputs": [],
   "source": [
    "def write_conclusion(state:ResearchGraphState):\n",
    "    \"\"\" Write report conclusion based on interviews \"\"\"\n",
    "    sections = state[\"sections\"]\n",
    "    topic = state[\"topic\"]\n",
    "\n",
    "    formatted_str_sections = \"\\n\".join([f\"- {section}\" for section in sections])\n",
    "\n",
    "    instructions = report_writer_instructions.format(topic=topic, formatted_str_sections=formatted_str_sections)\n",
    "    conclusion = llm.invoke([instructions] + [HumanMessage(content=\"Write the conclusion section of the report.\")])\n",
    "    return {\"conclusion\": conclusion.content}"
   ]
  },
  {
   "cell_type": "code",
   "execution_count": 210,
   "id": "d734ff0d",
   "metadata": {},
   "outputs": [],
   "source": [
    "def finalize_report(state:ResearchGraphState):\n",
    "    \"\"\" Finalize the report by combining all sections \"\"\"\n",
    "    content = state[\"content\"]\n",
    "    if content.startswith(\"## Insights\"):\n",
    "        content = content.strip(\"## Insights\")\n",
    "\n",
    "    if \"## Sources\" in content:\n",
    "        try:\n",
    "            content, sources = content.split(\"## Sources\", 1)\n",
    "            content = content.strip()\n",
    "            sources = sources.strip()\n",
    "        except:\n",
    "            sources = None\n",
    "    else:\n",
    "        sources = None\n",
    "\n",
    "    introduction = state[\"introduction\"]\n",
    "    content = state[\"content\"]\n",
    "    conclusion = state[\"conclusion\"]\n",
    "\n",
    "    final_report = f\"{introduction}\\n\\n{content}\\n\\n{conclusion}\"\n",
    "    if sources is not None:\n",
    "        final_report += f\"\\n\\n## Sources\\n\\n{sources}\"\n",
    "    return {\"final_report\": final_report}"
   ]
  },
  {
   "cell_type": "code",
   "execution_count": 222,
   "id": "724e45e4",
   "metadata": {},
   "outputs": [
    {
     "data": {
      "text/plain": [
       "<langgraph.graph.state.StateGraph at 0x28f6427afd0>"
      ]
     },
     "execution_count": 222,
     "metadata": {},
     "output_type": "execute_result"
    }
   ],
   "source": [
    "# Add nodes and edges \n",
    "builder = StateGraph(ResearchGraphState)\n",
    "builder.add_node(\"create_analysts\", create_analyst)\n",
    "builder.add_node(\"human_feedback\", human_feedback)\n",
    "builder.add_node(\"initiate_all_interviews\", interview_builder.compile())\n",
    "builder.add_node(\"write_report\",write_report)\n",
    "builder.add_node(\"write_introduction\",write_introduction)\n",
    "builder.add_node(\"write_conclusion\",write_conclusion)\n",
    "builder.add_node(\"finalize_report\",finalize_report)\n",
    "\n",
    "# Logic\n",
    "builder.add_edge(START, \"create_analysts\")\n",
    "builder.add_edge(\"create_analysts\", \"human_feedback\")\n",
    "builder.add_conditional_edges(\"human_feedback\", initiate_all_interviews, [\"create_analysts\", \"initiate_all_interviews\"])\n",
    "builder.add_edge(\"initiate_all_interviews\", \"write_report\")\n",
    "builder.add_edge(\"initiate_all_interviews\", \"write_introduction\")\n",
    "builder.add_edge(\"initiate_all_interviews\", \"write_conclusion\")\n",
    "builder.add_edge([\"write_conclusion\", \"write_report\", \"write_introduction\"], \"finalize_report\")\n",
    "builder.add_edge(\"finalize_report\", END)"
   ]
  },
  {
   "cell_type": "code",
   "execution_count": 223,
   "id": "afa55ca5",
   "metadata": {},
   "outputs": [],
   "source": [
    "memory = MemorySaver()"
   ]
  },
  {
   "cell_type": "code",
   "execution_count": 224,
   "id": "51767b47",
   "metadata": {},
   "outputs": [],
   "source": [
    "graph = builder.compile(interrupt_before=['human_feedback'], checkpointer=memory)"
   ]
  },
  {
   "cell_type": "code",
   "execution_count": 225,
   "id": "b992050a",
   "metadata": {},
   "outputs": [
    {
     "data": {
      "image/png": "[encoded data removed]",
      "text/plain": [
       "<IPython.core.display.Image object>"
      ]
     },
     "metadata": {},
     "output_type": "display_data"
    }
   ],
   "source": [
    "display(Image(graph.get_graph(xray=1).draw_mermaid_png()))"
   ]
  },
  {
   "cell_type": "code",
   "execution_count": 226,
   "id": "01eeed29",
   "metadata": {},
   "outputs": [],
   "source": [
    "max_analysts = 3"
   ]
  },
  {
   "cell_type": "code",
   "execution_count": 227,
   "id": "339f682d",
   "metadata": {},
   "outputs": [],
   "source": [
    "topic = \"How can generative AI accelerate drug discovery?\""
   ]
  },
  {
   "cell_type": "code",
   "execution_count": 228,
   "id": "b0938acc",
   "metadata": {},
   "outputs": [],
   "source": [
    "thread = {\"configurable\": {\"thread_id\": \"1\"}}"
   ]
  },
  {
   "cell_type": "code",
   "execution_count": 229,
   "id": "fe539855",
   "metadata": {},
   "outputs": [
    {
     "name": "stderr",
     "output_type": "stream",
     "text": [
      "HTTP Request: POST https://api.openai.com/v1/chat/completions \"HTTP/1.1 200 OK\"\n"
     ]
    },
    {
     "name": "stdout",
     "output_type": "stream",
     "text": [
      "Name: Dr. Emily Chen\n",
      "Affiliation: Stanford University\n",
      "Role: AI and Computational Biology Expert\n",
      "Description: Dr. Chen focuses on the integration of generative AI models with biological data to enhance the drug discovery process. Her primary concern is ensuring that AI models are trained on diverse and comprehensive datasets to improve their predictive accuracy and reliability. She is motivated by the potential of AI to significantly reduce the time and cost associated with bringing new drugs to market.\n",
      "--------------------------------------------------\n",
      "Name: Dr. Raj Patel\n",
      "Affiliation: Pfizer\n",
      "Role: Pharmaceutical Industry Strategist\n",
      "Description: Dr. Patel analyzes the strategic implications of adopting generative AI in pharmaceutical companies. He is particularly interested in how AI can streamline the drug development pipeline, from target identification to clinical trials. His concerns include the regulatory challenges and the need for industry-wide standards to ensure AI-driven discoveries are safe and effective. He is motivated by the competitive advantage that AI can provide in the rapidly evolving pharmaceutical landscape.\n",
      "--------------------------------------------------\n",
      "Name: Dr. Lisa Gomez\n",
      "Affiliation: World Health Organization\n",
      "Role: Ethics and Policy Researcher\n",
      "Description: Dr. Gomez examines the ethical and policy implications of using generative AI in drug discovery. Her focus is on ensuring equitable access to AI-driven innovations and addressing potential biases in AI models that could lead to health disparities. She is concerned about the transparency of AI processes and the need for robust ethical guidelines. Her motivation is to ensure that AI advancements benefit all populations and do not exacerbate existing inequalities in healthcare.\n",
      "--------------------------------------------------\n"
     ]
    }
   ],
   "source": [
    "# Run the graph until the first interruption\n",
    "for event in graph.stream({\"topic\":topic,\"max_analysts\":max_analysts}, thread, stream_mode=\"values\"):\n",
    "    analysts = event.get('analysts', '')\n",
    "    if analysts:\n",
    "        for analyst in analysts:\n",
    "            print(f\"Name: {analyst.name}\")\n",
    "            print(f\"Affiliation: {analyst.affiliation}\")\n",
    "            print(f\"Role: {analyst.role}\")\n",
    "            print(f\"Description: {analyst.description}\")\n",
    "            print(\"-\" * 50) "
   ]
  },
  {
   "cell_type": "code",
   "execution_count": 230,
   "id": "e755efef",
   "metadata": {},
   "outputs": [
    {
     "ename": "KeyError",
     "evalue": "'create_analyst'",
     "output_type": "error",
     "traceback": [
      "\u001b[31m---------------------------------------------------------------------------\u001b[39m",
      "\u001b[31mKeyError\u001b[39m                                  Traceback (most recent call last)",
      "\u001b[36mCell\u001b[39m\u001b[36m \u001b[39m\u001b[32mIn[230]\u001b[39m\u001b[32m, line 1\u001b[39m\n\u001b[32m----> \u001b[39m\u001b[32m1\u001b[39m \u001b[43mgraph\u001b[49m\u001b[43m.\u001b[49m\u001b[43mupdate_state\u001b[49m\u001b[43m(\u001b[49m\u001b[43mthread\u001b[49m\u001b[43m,\u001b[49m\u001b[43m \u001b[49m\u001b[43m{\u001b[49m\u001b[33;43m\"\u001b[39;49m\u001b[33;43mhuman_analyst_feedback\u001b[39;49m\u001b[33;43m\"\u001b[39;49m\u001b[43m:\u001b[49m\u001b[33;43m\"\u001b[39;49m\u001b[33;43malong with the genetive ai in future tell me the future of indian team\u001b[39;49m\u001b[33;43m\"\u001b[39;49m\u001b[43m}\u001b[49m\u001b[43m,\u001b[49m\u001b[43m \u001b[49m\u001b[43mas_node\u001b[49m\u001b[43m=\u001b[49m\u001b[33;43m\"\u001b[39;49m\u001b[33;43mhuman_feedback\u001b[39;49m\u001b[33;43m\"\u001b[39;49m\u001b[43m)\u001b[49m\n",
      "\u001b[36mFile \u001b[39m\u001b[32md:\\Data\\Projects\\llm-research-genie\\.venv\\Lib\\site-packages\\langgraph\\pregel\\main.py:2339\u001b[39m, in \u001b[36mPregel.update_state\u001b[39m\u001b[34m(self, config, values, as_node, task_id)\u001b[39m\n\u001b[32m   2328\u001b[39m \u001b[38;5;28;01mdef\u001b[39;00m\u001b[38;5;250m \u001b[39m\u001b[34mupdate_state\u001b[39m(\n\u001b[32m   2329\u001b[39m     \u001b[38;5;28mself\u001b[39m,\n\u001b[32m   2330\u001b[39m     config: RunnableConfig,\n\u001b[32m   (...)\u001b[39m\u001b[32m   2333\u001b[39m     task_id: \u001b[38;5;28mstr\u001b[39m | \u001b[38;5;28;01mNone\u001b[39;00m = \u001b[38;5;28;01mNone\u001b[39;00m,\n\u001b[32m   2334\u001b[39m ) -> RunnableConfig:\n\u001b[32m   2335\u001b[39m \u001b[38;5;250m    \u001b[39m\u001b[33;03m\"\"\"Update the state of the graph with the given values, as if they came from\u001b[39;00m\n\u001b[32m   2336\u001b[39m \u001b[33;03m    node `as_node`. If `as_node` is not provided, it will be set to the last node\u001b[39;00m\n\u001b[32m   2337\u001b[39m \u001b[33;03m    that updated the state, if not ambiguous.\u001b[39;00m\n\u001b[32m   2338\u001b[39m \u001b[33;03m    \"\"\"\u001b[39;00m\n\u001b[32m-> \u001b[39m\u001b[32m2339\u001b[39m     \u001b[38;5;28;01mreturn\u001b[39;00m \u001b[38;5;28;43mself\u001b[39;49m\u001b[43m.\u001b[49m\u001b[43mbulk_update_state\u001b[49m\u001b[43m(\u001b[49m\u001b[43mconfig\u001b[49m\u001b[43m,\u001b[49m\u001b[43m \u001b[49m\u001b[43m[\u001b[49m\u001b[43m[\u001b[49m\u001b[43mStateUpdate\u001b[49m\u001b[43m(\u001b[49m\u001b[43mvalues\u001b[49m\u001b[43m,\u001b[49m\u001b[43m \u001b[49m\u001b[43mas_node\u001b[49m\u001b[43m,\u001b[49m\u001b[43m \u001b[49m\u001b[43mtask_id\u001b[49m\u001b[43m)\u001b[49m\u001b[43m]\u001b[49m\u001b[43m]\u001b[49m\u001b[43m)\u001b[49m\n",
      "\u001b[36mFile \u001b[39m\u001b[32md:\\Data\\Projects\\llm-research-genie\\.venv\\Lib\\site-packages\\langgraph\\pregel\\main.py:1872\u001b[39m, in \u001b[36mPregel.bulk_update_state\u001b[39m\u001b[34m(self, config, supersteps)\u001b[39m\n\u001b[32m   1868\u001b[39m current_config = patch_configurable(\n\u001b[32m   1869\u001b[39m     config, {CONFIG_KEY_THREAD_ID: \u001b[38;5;28mstr\u001b[39m(config[CONF][CONFIG_KEY_THREAD_ID])}\n\u001b[32m   1870\u001b[39m )\n\u001b[32m   1871\u001b[39m \u001b[38;5;28;01mfor\u001b[39;00m superstep \u001b[38;5;129;01min\u001b[39;00m supersteps:\n\u001b[32m-> \u001b[39m\u001b[32m1872\u001b[39m     current_config = \u001b[43mperform_superstep\u001b[49m\u001b[43m(\u001b[49m\u001b[43mcurrent_config\u001b[49m\u001b[43m,\u001b[49m\u001b[43m \u001b[49m\u001b[43msuperstep\u001b[49m\u001b[43m)\u001b[49m\n\u001b[32m   1873\u001b[39m \u001b[38;5;28;01mreturn\u001b[39;00m current_config\n",
      "\u001b[36mFile \u001b[39m\u001b[32md:\\Data\\Projects\\llm-research-genie\\.venv\\Lib\\site-packages\\langgraph\\pregel\\main.py:1807\u001b[39m, in \u001b[36mPregel.bulk_update_state.<locals>.perform_superstep\u001b[39m\u001b[34m(input_config, updates)\u001b[39m\n\u001b[32m   1805\u001b[39m     run = RunnableSequence(*writers) \u001b[38;5;28;01mif\u001b[39;00m \u001b[38;5;28mlen\u001b[39m(writers) > \u001b[32m1\u001b[39m \u001b[38;5;28;01melse\u001b[39;00m writers[\u001b[32m0\u001b[39m]\n\u001b[32m   1806\u001b[39m     \u001b[38;5;66;03m# execute task\u001b[39;00m\n\u001b[32m-> \u001b[39m\u001b[32m1807\u001b[39m     \u001b[43mrun\u001b[49m\u001b[43m.\u001b[49m\u001b[43minvoke\u001b[49m\u001b[43m(\u001b[49m\n\u001b[32m   1808\u001b[39m \u001b[43m        \u001b[49m\u001b[43mvalues\u001b[49m\u001b[43m,\u001b[49m\n\u001b[32m   1809\u001b[39m \u001b[43m        \u001b[49m\u001b[43mpatch_config\u001b[49m\u001b[43m(\u001b[49m\n\u001b[32m   1810\u001b[39m \u001b[43m            \u001b[49m\u001b[43mconfig\u001b[49m\u001b[43m,\u001b[49m\n\u001b[32m   1811\u001b[39m \u001b[43m            \u001b[49m\u001b[43mrun_name\u001b[49m\u001b[43m=\u001b[49m\u001b[38;5;28;43mself\u001b[39;49m\u001b[43m.\u001b[49m\u001b[43mname\u001b[49m\u001b[43m \u001b[49m\u001b[43m+\u001b[49m\u001b[43m \u001b[49m\u001b[33;43m\"\u001b[39;49m\u001b[33;43mUpdateState\u001b[39;49m\u001b[33;43m\"\u001b[39;49m\u001b[43m,\u001b[49m\n\u001b[32m   1812\u001b[39m \u001b[43m            \u001b[49m\u001b[43mconfigurable\u001b[49m\u001b[43m=\u001b[49m\u001b[43m{\u001b[49m\n\u001b[32m   1813\u001b[39m \u001b[43m                \u001b[49m\u001b[38;5;66;43;03m# deque.extend is thread-safe\u001b[39;49;00m\n\u001b[32m   1814\u001b[39m \u001b[43m                \u001b[49m\u001b[43mCONFIG_KEY_SEND\u001b[49m\u001b[43m:\u001b[49m\u001b[43m \u001b[49m\u001b[43mwrites\u001b[49m\u001b[43m.\u001b[49m\u001b[43mextend\u001b[49m\u001b[43m,\u001b[49m\n\u001b[32m   1815\u001b[39m \u001b[43m                \u001b[49m\u001b[43mCONFIG_KEY_TASK_ID\u001b[49m\u001b[43m:\u001b[49m\u001b[43m \u001b[49m\u001b[43mtask_id\u001b[49m\u001b[43m,\u001b[49m\n\u001b[32m   1816\u001b[39m \u001b[43m                \u001b[49m\u001b[43mCONFIG_KEY_READ\u001b[49m\u001b[43m:\u001b[49m\u001b[43m \u001b[49m\u001b[43mpartial\u001b[49m\u001b[43m(\u001b[49m\n\u001b[32m   1817\u001b[39m \u001b[43m                    \u001b[49m\u001b[43mlocal_read\u001b[49m\u001b[43m,\u001b[49m\n\u001b[32m   1818\u001b[39m \u001b[43m                    \u001b[49m\u001b[43m_scratchpad\u001b[49m\u001b[43m(\u001b[49m\n\u001b[32m   1819\u001b[39m \u001b[43m                        \u001b[49m\u001b[38;5;28;43;01mNone\u001b[39;49;00m\u001b[43m,\u001b[49m\n\u001b[32m   1820\u001b[39m \u001b[43m                        \u001b[49m\u001b[43m[\u001b[49m\u001b[43m]\u001b[49m\u001b[43m,\u001b[49m\n\u001b[32m   1821\u001b[39m \u001b[43m                        \u001b[49m\u001b[43mtask_id\u001b[49m\u001b[43m,\u001b[49m\n\u001b[32m   1822\u001b[39m \u001b[43m                        \u001b[49m\u001b[33;43m\"\u001b[39;49m\u001b[33;43m\"\u001b[39;49m\u001b[43m,\u001b[49m\n\u001b[32m   1823\u001b[39m \u001b[43m                        \u001b[49m\u001b[38;5;28;43;01mNone\u001b[39;49;00m\u001b[43m,\u001b[49m\n\u001b[32m   1824\u001b[39m \u001b[43m                        \u001b[49m\u001b[43mstep\u001b[49m\u001b[43m,\u001b[49m\n\u001b[32m   1825\u001b[39m \u001b[43m                        \u001b[49m\u001b[43mstep\u001b[49m\u001b[43m \u001b[49m\u001b[43m+\u001b[49m\u001b[43m \u001b[49m\u001b[32;43m2\u001b[39;49m\u001b[43m,\u001b[49m\n\u001b[32m   1826\u001b[39m \u001b[43m                    \u001b[49m\u001b[43m)\u001b[49m\u001b[43m,\u001b[49m\n\u001b[32m   1827\u001b[39m \u001b[43m                    \u001b[49m\u001b[43mchannels\u001b[49m\u001b[43m,\u001b[49m\n\u001b[32m   1828\u001b[39m \u001b[43m                    \u001b[49m\u001b[43mmanaged\u001b[49m\u001b[43m,\u001b[49m\n\u001b[32m   1829\u001b[39m \u001b[43m                    \u001b[49m\u001b[43mtask\u001b[49m\u001b[43m,\u001b[49m\n\u001b[32m   1830\u001b[39m \u001b[43m                \u001b[49m\u001b[43m)\u001b[49m\u001b[43m,\u001b[49m\n\u001b[32m   1831\u001b[39m \u001b[43m            \u001b[49m\u001b[43m}\u001b[49m\u001b[43m,\u001b[49m\n\u001b[32m   1832\u001b[39m \u001b[43m        \u001b[49m\u001b[43m)\u001b[49m\u001b[43m,\u001b[49m\n\u001b[32m   1833\u001b[39m \u001b[43m    \u001b[49m\u001b[43m)\u001b[49m\n\u001b[32m   1834\u001b[39m \u001b[38;5;66;03m# save task writes\u001b[39;00m\n\u001b[32m   1835\u001b[39m \u001b[38;5;28;01mfor\u001b[39;00m task_id, task \u001b[38;5;129;01min\u001b[39;00m \u001b[38;5;28mzip\u001b[39m(run_task_ids, run_tasks):\n\u001b[32m   1836\u001b[39m     \u001b[38;5;66;03m# channel writes are saved to current checkpoint\u001b[39;00m\n",
      "\u001b[36mFile \u001b[39m\u001b[32md:\\Data\\Projects\\llm-research-genie\\.venv\\Lib\\site-packages\\langchain_core\\runnables\\base.py:3246\u001b[39m, in \u001b[36mRunnableSequence.invoke\u001b[39m\u001b[34m(self, input, config, **kwargs)\u001b[39m\n\u001b[32m   3244\u001b[39m                 input_ = context.run(step.invoke, input_, config, **kwargs)\n\u001b[32m   3245\u001b[39m             \u001b[38;5;28;01melse\u001b[39;00m:\n\u001b[32m-> \u001b[39m\u001b[32m3246\u001b[39m                 input_ = context.run(step.invoke, input_, config)\n\u001b[32m   3247\u001b[39m \u001b[38;5;66;03m# finish the root run\u001b[39;00m\n\u001b[32m   3248\u001b[39m \u001b[38;5;28;01mexcept\u001b[39;00m \u001b[38;5;167;01mBaseException\u001b[39;00m \u001b[38;5;28;01mas\u001b[39;00m e:\n",
      "\u001b[36mFile \u001b[39m\u001b[32md:\\Data\\Projects\\llm-research-genie\\.venv\\Lib\\site-packages\\langgraph\\_internal\\_runnable.py:401\u001b[39m, in \u001b[36mRunnableCallable.invoke\u001b[39m\u001b[34m(self, input, config, **kwargs)\u001b[39m\n\u001b[32m    399\u001b[39m         run_manager.on_chain_end(ret)\n\u001b[32m    400\u001b[39m \u001b[38;5;28;01melse\u001b[39;00m:\n\u001b[32m--> \u001b[39m\u001b[32m401\u001b[39m     ret = \u001b[38;5;28;43mself\u001b[39;49m\u001b[43m.\u001b[49m\u001b[43mfunc\u001b[49m\u001b[43m(\u001b[49m\u001b[43m*\u001b[49m\u001b[43margs\u001b[49m\u001b[43m,\u001b[49m\u001b[43m \u001b[49m\u001b[43m*\u001b[49m\u001b[43m*\u001b[49m\u001b[43mkwargs\u001b[49m\u001b[43m)\u001b[49m\n\u001b[32m    402\u001b[39m \u001b[38;5;28;01mif\u001b[39;00m \u001b[38;5;28mself\u001b[39m.recurse \u001b[38;5;129;01mand\u001b[39;00m \u001b[38;5;28misinstance\u001b[39m(ret, Runnable):\n\u001b[32m    403\u001b[39m     \u001b[38;5;28;01mreturn\u001b[39;00m ret.invoke(\u001b[38;5;28minput\u001b[39m, config)\n",
      "\u001b[36mFile \u001b[39m\u001b[32md:\\Data\\Projects\\llm-research-genie\\.venv\\Lib\\site-packages\\langgraph\\graph\\_branch.py:169\u001b[39m, in \u001b[36mBranchSpec._route\u001b[39m\u001b[34m(self, input, config, reader, writer)\u001b[39m\n\u001b[32m    167\u001b[39m     value = \u001b[38;5;28minput\u001b[39m\n\u001b[32m    168\u001b[39m result = \u001b[38;5;28mself\u001b[39m.path.invoke(value, config)\n\u001b[32m--> \u001b[39m\u001b[32m169\u001b[39m \u001b[38;5;28;01mreturn\u001b[39;00m \u001b[38;5;28;43mself\u001b[39;49m\u001b[43m.\u001b[49m\u001b[43m_finish\u001b[49m\u001b[43m(\u001b[49m\u001b[43mwriter\u001b[49m\u001b[43m,\u001b[49m\u001b[43m \u001b[49m\u001b[38;5;28;43minput\u001b[39;49m\u001b[43m,\u001b[49m\u001b[43m \u001b[49m\u001b[43mresult\u001b[49m\u001b[43m,\u001b[49m\u001b[43m \u001b[49m\u001b[43mconfig\u001b[49m\u001b[43m)\u001b[49m\n",
      "\u001b[36mFile \u001b[39m\u001b[32md:\\Data\\Projects\\llm-research-genie\\.venv\\Lib\\site-packages\\langgraph\\graph\\_branch.py:204\u001b[39m, in \u001b[36mBranchSpec._finish\u001b[39m\u001b[34m(self, writer, input, result, config)\u001b[39m\n\u001b[32m    202\u001b[39m     result = [result]\n\u001b[32m    203\u001b[39m \u001b[38;5;28;01mif\u001b[39;00m \u001b[38;5;28mself\u001b[39m.ends:\n\u001b[32m--> \u001b[39m\u001b[32m204\u001b[39m     destinations: Sequence[Send | \u001b[38;5;28mstr\u001b[39m] = \u001b[43m[\u001b[49m\n\u001b[32m    205\u001b[39m \u001b[43m        \u001b[49m\u001b[43mr\u001b[49m\u001b[43m \u001b[49m\u001b[38;5;28;43;01mif\u001b[39;49;00m\u001b[43m \u001b[49m\u001b[38;5;28;43misinstance\u001b[39;49m\u001b[43m(\u001b[49m\u001b[43mr\u001b[49m\u001b[43m,\u001b[49m\u001b[43m \u001b[49m\u001b[43mSend\u001b[49m\u001b[43m)\u001b[49m\u001b[43m \u001b[49m\u001b[38;5;28;43;01melse\u001b[39;49;00m\u001b[43m \u001b[49m\u001b[38;5;28;43mself\u001b[39;49m\u001b[43m.\u001b[49m\u001b[43mends\u001b[49m\u001b[43m[\u001b[49m\u001b[43mr\u001b[49m\u001b[43m]\u001b[49m\u001b[43m \u001b[49m\u001b[38;5;28;43;01mfor\u001b[39;49;00m\u001b[43m \u001b[49m\u001b[43mr\u001b[49m\u001b[43m \u001b[49m\u001b[38;5;129;43;01min\u001b[39;49;00m\u001b[43m \u001b[49m\u001b[43mresult\u001b[49m\n\u001b[32m    206\u001b[39m \u001b[43m    \u001b[49m\u001b[43m]\u001b[49m\n\u001b[32m    207\u001b[39m \u001b[38;5;28;01melse\u001b[39;00m:\n\u001b[32m    208\u001b[39m     destinations = cast(Sequence[Union[Send, \u001b[38;5;28mstr\u001b[39m]], result)\n",
      "\u001b[36mFile \u001b[39m\u001b[32md:\\Data\\Projects\\llm-research-genie\\.venv\\Lib\\site-packages\\langgraph\\graph\\_branch.py:205\u001b[39m, in \u001b[36m<listcomp>\u001b[39m\u001b[34m(.0)\u001b[39m\n\u001b[32m    202\u001b[39m     result = [result]\n\u001b[32m    203\u001b[39m \u001b[38;5;28;01mif\u001b[39;00m \u001b[38;5;28mself\u001b[39m.ends:\n\u001b[32m    204\u001b[39m     destinations: Sequence[Send | \u001b[38;5;28mstr\u001b[39m] = [\n\u001b[32m--> \u001b[39m\u001b[32m205\u001b[39m         r \u001b[38;5;28;01mif\u001b[39;00m \u001b[38;5;28misinstance\u001b[39m(r, Send) \u001b[38;5;28;01melse\u001b[39;00m \u001b[38;5;28;43mself\u001b[39;49m\u001b[43m.\u001b[49m\u001b[43mends\u001b[49m\u001b[43m[\u001b[49m\u001b[43mr\u001b[49m\u001b[43m]\u001b[49m \u001b[38;5;28;01mfor\u001b[39;00m r \u001b[38;5;129;01min\u001b[39;00m result\n\u001b[32m    206\u001b[39m     ]\n\u001b[32m    207\u001b[39m \u001b[38;5;28;01melse\u001b[39;00m:\n\u001b[32m    208\u001b[39m     destinations = cast(Sequence[Union[Send, \u001b[38;5;28mstr\u001b[39m]], result)\n",
      "\u001b[31mKeyError\u001b[39m: 'create_analyst'"
     ]
    }
   ],
   "source": [
    "graph.update_state(thread, {\"human_analyst_feedback\":\"along with the genetive ai in future tell me the future of indian team\"}, as_node=\"human_feedback\")"
   ]
  },
  {
   "cell_type": "code",
   "execution_count": 236,
   "id": "ffbf501d",
   "metadata": {},
   "outputs": [
    {
     "name": "stdout",
     "output_type": "stream",
     "text": [
      "Name: Dr. Emily Chen\n",
      "Affiliation: Stanford University\n",
      "Role: AI and Computational Biology Expert\n",
      "Description: Dr. Chen focuses on the integration of generative AI models with biological data to enhance the drug discovery process. Her primary concern is ensuring that AI models are trained on diverse and comprehensive datasets to improve their predictive accuracy and reliability. She is motivated by the potential of AI to significantly reduce the time and cost associated with bringing new drugs to market.\n",
      "--------------------------------------------------\n",
      "Name: Dr. Raj Patel\n",
      "Affiliation: Pfizer\n",
      "Role: Pharmaceutical Industry Strategist\n",
      "Description: Dr. Patel analyzes the strategic implications of adopting generative AI in pharmaceutical companies. He is particularly interested in how AI can streamline the drug development pipeline, from target identification to clinical trials. His concerns include the regulatory challenges and the need for industry-wide standards to ensure AI-driven discoveries are safe and effective. He is motivated by the competitive advantage that AI can provide in the rapidly evolving pharmaceutical landscape.\n",
      "--------------------------------------------------\n",
      "Name: Dr. Lisa Gomez\n",
      "Affiliation: World Health Organization\n",
      "Role: Ethics and Policy Researcher\n",
      "Description: Dr. Gomez examines the ethical and policy implications of using generative AI in drug discovery. Her focus is on ensuring equitable access to AI-driven innovations and addressing potential biases in AI models that could lead to health disparities. She is concerned about the transparency of AI processes and the need for robust ethical guidelines. Her motivation is to ensure that AI advancements benefit all populations and do not exacerbate existing inequalities in healthcare.\n",
      "--------------------------------------------------\n"
     ]
    },
    {
     "name": "stderr",
     "output_type": "stream",
     "text": [
      "HTTP Request: POST https://api.openai.com/v1/chat/completions \"HTTP/1.1 200 OK\"\n"
     ]
    },
    {
     "name": "stdout",
     "output_type": "stream",
     "text": [
      "Name: Dr. Emily Chen\n",
      "Affiliation: Stanford University\n",
      "Role: AI and Computational Biology Expert\n",
      "Description: Dr. Chen focuses on the integration of generative AI models with biological data to enhance the drug discovery process. Her primary concern is ensuring that AI models are trained on diverse and comprehensive datasets to improve their predictive accuracy and reliability. She is motivated by the potential of AI to significantly reduce the time and cost associated with bringing new drugs to market.\n",
      "--------------------------------------------------\n",
      "Name: Dr. Raj Patel\n",
      "Affiliation: Pfizer\n",
      "Role: Pharmaceutical Industry Strategist\n",
      "Description: Dr. Patel analyzes the strategic implications of adopting generative AI in pharmaceutical companies. He is particularly interested in how AI can streamline the drug development pipeline, from target identification to clinical trials. His concerns include the regulatory challenges and the need for industry-wide standards to ensure AI-driven discoveries are safe and effective. He is motivated by the competitive advantage that AI can provide in drug development.\n",
      "--------------------------------------------------\n",
      "Name: Dr. Lisa Gomez\n",
      "Affiliation: World Health Organization\n",
      "Affiliation: Stanford University\n",
      "Role: AI and Computational Biology Expert\n",
      "Description: Dr. Chen focuses on the integration of generative AI models with biological data to enhance the drug discovery process. Her primary concern is ensuring that AI models are trained on diverse and comprehensive datasets to improve their predictive accuracy and reliability. She is motivated by the potential of AI to significantly reduce the time and cost associated with bringing new drugs to market.\n",
      "--------------------------------------------------\n",
      "Name: Dr. Raj Patel\n",
      "Affiliation: Pfizer\n",
      "Role: Pharmaceutical Industry Strategist\n",
      "Description: Dr. Patel analyzes the strategic implications of adopting generative AI in pharmaceutical companies. He is particularly interested in how AI can streamline the drug development pipeline, from target identification to clinical trials. His concerns include the regulatory challenges and the need for industry-wide standards to ensure AI-driven discoveries are safe and effective. He is motivated by the competitive advantage that AI can provide in drug development.\n",
      "--------------------------------------------------\n",
      "Name: Dr. Lisa Gomez\n",
      "Affiliation: World Health Organization\n",
      "Role: Ethics and Policy Researcher\n",
      "Description: Dr. Gomez examines the ethical and policy implications of using generative AI in drug discovery. Her focus is on ensuring equitable access to AI-driven innovations and addressing potential biases in AI models that could affect drug efficacy across different populations. She is concerned about the transparency of AI processes and the need for robust ethical guidelines. Her motivation is to ensure that AI advancements benefit global health equitably.\n",
      "--------------------------------------------------\n"
     ]
    }
   ],
   "source": [
    "# Run the graph until the first interruption\n",
    "for event in graph.stream({\"topic\":topic,\"max_analysts\":max_analysts}, thread, stream_mode=\"values\"):\n",
    "    analysts = event.get('analysts', '')\n",
    "    if analysts:\n",
    "        for analyst in analysts:\n",
    "            print(f\"Name: {analyst.name}\")\n",
    "            print(f\"Affiliation: {analyst.affiliation}\")\n",
    "            print(f\"Role: {analyst.role}\")\n",
    "            print(f\"Description: {analyst.description}\")\n",
    "            print(\"-\" * 50) "
   ]
  },
  {
   "cell_type": "code",
   "execution_count": 237,
   "id": "755bd9c0",
   "metadata": {},
   "outputs": [
    {
     "data": {
      "text/plain": [
       "{'configurable': {'thread_id': '1',\n",
       "  'checkpoint_ns': '',\n",
       "  'checkpoint_id': '1f0ad664-b3dd-6b0f-8005-45feec627767'}}"
      ]
     },
     "execution_count": 237,
     "metadata": {},
     "output_type": "execute_result"
    }
   ],
   "source": [
    "graph.update_state(thread, {\"human_analyst_feedback\":\"\"}, as_node=\"human_feedback\")"
   ]
  },
  {
   "cell_type": "code",
   "execution_count": 238,
   "id": "20a34f4e",
   "metadata": {},
   "outputs": [
    {
     "name": "stderr",
     "output_type": "stream",
     "text": [
      "Ignoring unknown node name conduct_interview in pending sends\n",
      "Ignoring unknown node name conduct_interview in pending sends\n",
      "Ignoring unknown node name conduct_interview in pending sends\n"
     ]
    },
    {
     "data": {
      "text/plain": [
       "()"
      ]
     },
     "execution_count": 238,
     "metadata": {},
     "output_type": "execute_result"
    }
   ],
   "source": [
    "graph.get_state(thread).next"
   ]
  },
  {
   "cell_type": "code",
   "execution_count": 239,
   "id": "cca6a2d5",
   "metadata": {},
   "outputs": [
    {
     "name": "stderr",
     "output_type": "stream",
     "text": [
      "Ignoring unknown node name conduct_interview in pending sends\n",
      "Ignoring unknown node name conduct_interview in pending sends\n",
      "Ignoring unknown node name conduct_interview in pending sends\n",
      "Ignoring unknown node name conduct_interview in pending sends\n",
      "Ignoring unknown node name conduct_interview in pending sends\n"
     ]
    }
   ],
   "source": [
    "# Continue\n",
    "for event in graph.stream(None, thread, stream_mode=\"updates\"):\n",
    "    print(\"--Node--\")\n",
    "    node_name = next(iter(event.keys()))\n",
    "    print(node_name)"
   ]
  },
  {
   "cell_type": "code",
   "execution_count": 240,
   "id": "0ac1c695",
   "metadata": {},
   "outputs": [],
   "source": [
    "\n",
    "from IPython.display import Markdown"
   ]
  },
  {
   "cell_type": "code",
   "execution_count": 241,
   "id": "145c1f9a",
   "metadata": {},
   "outputs": [
    {
     "name": "stderr",
     "output_type": "stream",
     "text": [
      "Ignoring unknown node name conduct_interview in pending sends\n",
      "Ignoring unknown node name conduct_interview in pending sends\n",
      "Ignoring unknown node name conduct_interview in pending sends\n",
      "Ignoring unknown node name conduct_interview in pending sends\n",
      "Ignoring unknown node name conduct_interview in pending sends\n"
     ]
    }
   ],
   "source": [
    "\n",
    "final_state = graph.get_state(thread)"
   ]
  },
  {
   "cell_type": "code",
   "execution_count": 242,
   "id": "c41223df",
   "metadata": {},
   "outputs": [],
   "source": [
    "\n",
    "report = final_state.values.get('final_report')"
   ]
  },
  {
   "cell_type": "code",
   "execution_count": 243,
   "id": "3ba2405c",
   "metadata": {},
   "outputs": [
    {
     "data": {
      "text/plain": [
       "<IPython.core.display.Markdown object>"
      ]
     },
     "execution_count": 243,
     "metadata": {},
     "output_type": "execute_result"
    }
   ],
   "source": [
    "Markdown(report)"
   ]
  }
 ],
 "metadata": {
  "kernelspec": {
   "display_name": ".venv (3.11.13)",
   "language": "python",
   "name": "python3"
  },
  "language_info": {
   "codemirror_mode": {
    "name": "ipython",
    "version": 3
   },
   "file_extension": ".py",
   "mimetype": "text/x-python",
   "name": "python",
   "nbconvert_exporter": "python",
   "pygments_lexer": "ipython3",
   "version": "3.11.13"
  }
 },
 "nbformat": 4,
 "nbformat_minor": 5
}

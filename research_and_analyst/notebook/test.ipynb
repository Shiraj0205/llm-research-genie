{
 "cells": [
  {
   "cell_type": "code",
   "execution_count": null,
   "id": "32a25d4c",
   "metadata": {},
   "outputs": [],
   "source": [
    "print(\"Test\")"
   ]
  },
  {
   "cell_type": "code",
   "execution_count": null,
   "id": "66419c48",
   "metadata": {},
   "outputs": [],
   "source": [
    "import sys, os\n",
    "from pathlib import Path\n",
    "\n",
    "# Robustly find project root by looking for pyproject.toml or setup.py\n",
    "def find_project_root(start_path: str | Path = '.') -> str:\n",
    "    p = Path(start_path).resolve()\n",
    "    for parent in [p] + list(p.parents):\n",
    "        if (parent / 'pyproject.toml').exists() or (parent / 'setup.py').exists() or (parent / 'pyproject.lock').exists():\n",
    "            return str(parent)\n",
    "    # Fallback: go up two levels (original heuristic)\n",
    "    return str(p.joinpath('..').joinpath('..').resolve())\n",
    "\n",
    "project_root = find_project_root(os.getcwd())\n",
    "if project_root not in sys.path:\n",
    "    sys.path.insert(0, project_root)\n",
    "\n",
    "print('Project root added to path:', project_root)"
   ]
  },
  {
   "cell_type": "code",
   "execution_count": null,
   "id": "11ae2df5",
   "metadata": {},
   "outputs": [],
   "source": [
    "from research_and_analyst.utils.model_loader import ModelLoader\n",
    "model_loader = ModelLoader()\n",
    "model = model_loader.load_llm()"
   ]
  },
  {
   "cell_type": "code",
   "execution_count": 13,
   "id": "d02747b7",
   "metadata": {},
   "outputs": [],
   "source": [
    "from typing import List\n",
    "from typing_extensions import TypedDict\n",
    "from pydantic import BaseModel, Field"
   ]
  },
  {
   "cell_type": "code",
   "execution_count": null,
   "id": "0d8e4695",
   "metadata": {},
   "outputs": [],
   "source": [
    "def create_analyst(state):\n",
    "    pass"
   ]
  },
  {
   "cell_type": "code",
   "execution_count": null,
   "id": "630246ac",
   "metadata": {},
   "outputs": [],
   "source": [
    "def human_feedback(state):\n",
    "    pass"
   ]
  },
  {
   "cell_type": "code",
   "execution_count": null,
   "id": "041677da",
   "metadata": {},
   "outputs": [],
   "source": [
    "def should_continue(state):\n",
    "    pass"
   ]
  },
  {
   "cell_type": "code",
   "execution_count": null,
   "id": "42aaf6eb",
   "metadata": {},
   "outputs": [],
   "source": [
    "from langgraph.graph import StateGraph, START, END\n",
    "from langchain_core.messages import HumanMessage, AIMessage, SystemMessage\n",
    "from langgraph.checkpoint.memory import MemorySaver"
   ]
  },
  {
   "cell_type": "code",
   "execution_count": 14,
   "id": "49e07c7d",
   "metadata": {},
   "outputs": [],
   "source": [
    "class Analyst(BaseModel):\n",
    "    name: str = Field(description=\"Name of the analyst.\")\n",
    "    role: str = Field(description=\"Role of the analyst in the context of the topic.\")\n",
    "    affiliation: str = Field(description=\"Primary affiliation of the analyst.\")\n",
    "    description: str = Field(description=\"Description of the analyst focus, concerns, and motives.\")\n",
    "    \n",
    "    @property\n",
    "    def persona(self) -> str:\n",
    "        return f\"Name: {self.name}\\nRole: {self.role}\\nAffiliation: {self.affiliation}\\nDescription: {self.description}\\n\"\n",
    "    "
   ]
  },
  {
   "cell_type": "code",
   "execution_count": 16,
   "id": "5e17c78a",
   "metadata": {},
   "outputs": [
    {
     "data": {
      "text/plain": [
       "Analyst(name='John Doe', role='UI / UX Designer', affiliation='AI Research LAB', description='I am UI/UX designer with a focus on creating intuitive and engaging user experiences for web and mobile applications.')"
      ]
     },
     "execution_count": 16,
     "metadata": {},
     "output_type": "execute_result"
    }
   ],
   "source": [
    "Analyst(\n",
    "    name=\"John Doe\",\n",
    "    role=\"UI / UX Designer\",\n",
    "    affiliation=\"AI Research LAB\",\n",
    "    description=\"I am UI/UX designer with a focus on creating intuitive and engaging user experiences for web and mobile applications.\"\n",
    "    )"
   ]
  },
  {
   "cell_type": "code",
   "execution_count": 17,
   "id": "fb034336",
   "metadata": {},
   "outputs": [],
   "source": [
    "analyst = Analyst(\n",
    "    name=\"John Doe\",\n",
    "    role=\"UI / UX Designer\",\n",
    "    affiliation=\"AI Research LAB\",\n",
    "    description=\"I am UI/UX designer with a focus on creating intuitive and engaging user experiences for web and mobile applications.\"\n",
    "    )"
   ]
  },
  {
   "cell_type": "code",
   "execution_count": null,
   "id": "2ef45b87",
   "metadata": {},
   "outputs": [
    {
     "data": {
      "text/plain": [
       "'Name: John Doe\\nRole: UI / UX Designer\\nAffiliation: AI Research LAB\\nDescription: I am UI/UX designer with a focus on creating intuitive and engaging user experiences for web and mobile applications.\\n'"
      ]
     },
     "execution_count": 18,
     "metadata": {},
     "output_type": "execute_result"
    }
   ],
   "source": [
    "analyst.name"
   ]
  },
  {
   "cell_type": "code",
   "execution_count": null,
   "id": "ad5cb491",
   "metadata": {},
   "outputs": [],
   "source": [
    "builder = StateGraph()"
   ]
  },
  {
   "cell_type": "code",
   "execution_count": null,
   "id": "bea1376b",
   "metadata": {},
   "outputs": [],
   "source": [
    "builder.add_node()\n",
    "builder.add_node()\n"
   ]
  },
  {
   "cell_type": "code",
   "execution_count": null,
   "id": "dc650d83",
   "metadata": {},
   "outputs": [],
   "source": [
    "builder.edge(START, create_analyst, HumanMessage(content=\"Hello, who won the world series in 2020?\"))\n",
    "builder.add_edge(\"create_analyst\", \"human_feedback\", AIMessage(content=\"The Los Angeles Dodgers won the World Series in 2020.\"))\n",
    "builder.conditional_edges(\"human_feedback\", should_continue, [\"create_analyst\", END])"
   ]
  },
  {
   "cell_type": "code",
   "execution_count": null,
   "id": "19b45fc9",
   "metadata": {},
   "outputs": [],
   "source": [
    "memory = MemorySaver()"
   ]
  },
  {
   "cell_type": "code",
   "execution_count": null,
   "id": "f126cc59",
   "metadata": {},
   "outputs": [],
   "source": [
    "graph = builder.compile(interrupt_before=[\"human_feedback\"], checkpointer=memory)"
   ]
  },
  {
   "cell_type": "code",
   "execution_count": null,
   "id": "8ee1352a",
   "metadata": {},
   "outputs": [],
   "source": [
    "display(Image(graph.get_graph(xray=1).draw_mermaid_png()))"
   ]
  }
 ],
 "metadata": {
  "kernelspec": {
   "display_name": "llm-research-genie (3.11.13)",
   "language": "python",
   "name": "python3"
  },
  "language_info": {
   "codemirror_mode": {
    "name": "ipython",
    "version": 3
   },
   "file_extension": ".py",
   "mimetype": "text/x-python",
   "name": "python",
   "nbconvert_exporter": "python",
   "pygments_lexer": "ipython3",
   "version": "3.11.13"
  }
 },
 "nbformat": 4,
 "nbformat_minor": 5
}

{
 "cells": [
  {
   "cell_type": "code",
   "execution_count": null,
   "id": "32a25d4c",
   "metadata": {},
   "outputs": [],
   "source": [
    "print(\"Test\")"
   ]
  },
  {
   "cell_type": "code",
   "execution_count": 1,
   "id": "66419c48",
   "metadata": {},
   "outputs": [
    {
     "name": "stdout",
     "output_type": "stream",
     "text": [
      "Project root added to path: d:\\Data\\Projects\\llm-research-genie\n"
     ]
    }
   ],
   "source": [
    "import sys, os\n",
    "\n",
    "# Get project root — one level up from 'research_and_analyst'\n",
    "project_root = os.path.abspath(os.path.join(os.getcwd(), \"../..\"))\n",
    "sys.path.append(project_root)\n",
    "\n",
    "print(\"Project root added to path:\", project_root)"
   ]
  },
  {
   "cell_type": "code",
   "execution_count": 2,
   "id": "11ae2df5",
   "metadata": {},
   "outputs": [
    {
     "name": "stderr",
     "output_type": "stream",
     "text": [
      "{\"timestamp\": \"2025-10-16T23:29:22.359736Z\", \"level\": \"info\", \"event\": \"OPENAI_API_KEY loaded from environment\"}\n",
      "{\"timestamp\": \"2025-10-16T23:29:22.359736Z\", \"level\": \"info\", \"event\": \"GOOGLE_API_KEY loaded from environment\"}\n",
      "{\"timestamp\": \"2025-10-16T23:29:22.359736Z\", \"level\": \"info\", \"event\": \"GROQ_API_KEY loaded from environment\"}\n",
      "{\"timestamp\": \"2025-10-16T23:29:22.359736Z\", \"level\": \"info\", \"event\": \"ASTRA_DB_API_ENDPOINT loaded from environment\"}\n",
      "{\"timestamp\": \"2025-10-16T23:29:22.359736Z\", \"level\": \"info\", \"event\": \"ASTRA_DB_APPLICATION_TOKEN loaded from environment\"}\n",
      "{\"timestamp\": \"2025-10-16T23:29:22.359736Z\", \"level\": \"info\", \"event\": \"ASTRA_DB_KEYSPACE loaded from environment\"}\n",
      "{\"config_keys\": [\"astra_db\", \"embedding_model\", \"retriever\", \"llm\"], \"timestamp\": \"2025-10-16T23:29:22.359736Z\", \"level\": \"info\", \"event\": \"YAML config loaded\"}\n",
      "{\"provider\": \"openai\", \"model\": \"gpt-4o\", \"timestamp\": \"2025-10-16T23:29:22.359736Z\", \"level\": \"info\", \"event\": \"Loading LLM\"}\n",
      "{\"timestamp\": \"2025-10-16T23:29:22.359736Z\", \"level\": \"info\", \"event\": \"GOOGLE_API_KEY loaded from environment\"}\n",
      "{\"timestamp\": \"2025-10-16T23:29:22.359736Z\", \"level\": \"info\", \"event\": \"GROQ_API_KEY loaded from environment\"}\n",
      "{\"timestamp\": \"2025-10-16T23:29:22.359736Z\", \"level\": \"info\", \"event\": \"ASTRA_DB_API_ENDPOINT loaded from environment\"}\n",
      "{\"timestamp\": \"2025-10-16T23:29:22.359736Z\", \"level\": \"info\", \"event\": \"ASTRA_DB_APPLICATION_TOKEN loaded from environment\"}\n",
      "{\"timestamp\": \"2025-10-16T23:29:22.359736Z\", \"level\": \"info\", \"event\": \"ASTRA_DB_KEYSPACE loaded from environment\"}\n",
      "{\"config_keys\": [\"astra_db\", \"embedding_model\", \"retriever\", \"llm\"], \"timestamp\": \"2025-10-16T23:29:22.359736Z\", \"level\": \"info\", \"event\": \"YAML config loaded\"}\n",
      "{\"provider\": \"openai\", \"model\": \"gpt-4o\", \"timestamp\": \"2025-10-16T23:29:22.359736Z\", \"level\": \"info\", \"event\": \"Loading LLM\"}\n"
     ]
    }
   ],
   "source": [
    "from research_and_analyst.utils.model_loader import ModelLoader\n",
    "model_loader = ModelLoader()\n",
    "llm = model_loader.load_llm()"
   ]
  },
  {
   "cell_type": "code",
   "execution_count": 4,
   "id": "4282275f",
   "metadata": {},
   "outputs": [
    {
     "name": "stderr",
     "output_type": "stream",
     "text": [
      "HTTP Request: POST https://api.openai.com/v1/chat/completions \"HTTP/1.1 200 OK\"\n"
     ]
    },
    {
     "data": {
      "text/plain": [
       "\"Hello! I'm just a computer program, so I don't have feelings, but I'm here and ready to help you. How can I assist you today?\""
      ]
     },
     "execution_count": 4,
     "metadata": {},
     "output_type": "execute_result"
    }
   ],
   "source": [
    "llm.invoke(\"Hello, how are you?\").content"
   ]
  },
  {
   "cell_type": "code",
   "execution_count": 5,
   "id": "d02747b7",
   "metadata": {},
   "outputs": [],
   "source": [
    "from typing import List\n",
    "from typing_extensions import TypedDict\n",
    "from pydantic import BaseModel, Field"
   ]
  },
  {
   "cell_type": "code",
   "execution_count": 6,
   "id": "3bd51bbb",
   "metadata": {},
   "outputs": [],
   "source": [
    "from langgraph.graph import StateGraph, START, END\n",
    "from langchain_core.messages import AIMessage,HumanMessage , SystemMessage\n",
    "from langgraph.checkpoint.memory import MemorySaver"
   ]
  },
  {
   "cell_type": "markdown",
   "id": "feae1989",
   "metadata": {},
   "source": [
    "## Health \n",
    "Analyst( name=\"Dr. Neha Patel\", role=\"Medical Data Scientist\", affiliation=\"Stanford Medicine\", description=\"Focuses on predictive models for patient outcomes.\" ),\n",
    "\n",
    "Analyst( name=\"Dr. Arun Verma\", role=\"Ethics Researcher\", affiliation=\"WHO\", description=\"Explores ethical implications of AI in diagnostics.\" ), Analyst( name=\"Ms. Priya Sharma\", role=\"Policy Analyst\", affiliation=\"Ministry of Health\", description=\"Investigates AI policy and compliance frameworks.\" )"
   ]
  },
  {
   "cell_type": "code",
   "execution_count": 33,
   "id": "49e07c7d",
   "metadata": {},
   "outputs": [],
   "source": [
    "class Analyst(BaseModel):\n",
    "    name: str = Field(description=\"Name of the analyst.\")\n",
    "    role: str = Field(description=\"Role of the analyst in the context of the topic.\")\n",
    "    affiliation: str = Field(description=\"Primary affiliation of the analyst.\")\n",
    "    description: str = Field(description=\"Description of the analyst focus, concerns, and motives.\")\n",
    "    \n",
    "    @property\n",
    "    def persona(self) -> str:\n",
    "        return f\"Name: {self.name}\\nRole: {self.role}\\nAffiliation: {self.affiliation}\\nDescription: {self.description}\\n\""
   ]
  },
  {
   "cell_type": "code",
   "execution_count": 34,
   "id": "5e17c78a",
   "metadata": {},
   "outputs": [
    {
     "data": {
      "text/plain": [
       "Analyst(name='John Doe', role='AI Engineer', affiliation='AI Research LAB', description='I am AI Engineer  with a focus on creating and deploying AI models for various applications.')"
      ]
     },
     "execution_count": 34,
     "metadata": {},
     "output_type": "execute_result"
    }
   ],
   "source": [
    "Analyst(\n",
    "    name=\"John Doe\",\n",
    "    role=\"AI Engineer\",\n",
    "    affiliation=\"AI Research LAB\",\n",
    "    description=\"I am AI Engineer  with a focus on creating and deploying AI models for various applications.\"\n",
    "    )"
   ]
  },
  {
   "cell_type": "code",
   "execution_count": 35,
   "id": "fb034336",
   "metadata": {},
   "outputs": [],
   "source": [
    "analyst = Analyst(\n",
    "    name=\"John Doe\",\n",
    "    role=\"AI Engineer\",\n",
    "    affiliation=\"AI Research LAB\",\n",
    "    description=\"I am AI Engineer  with a focus on creating and deploying AI models for various applications.\"\n",
    "    )"
   ]
  },
  {
   "cell_type": "code",
   "execution_count": null,
   "id": "2ef45b87",
   "metadata": {},
   "outputs": [
    {
     "name": "stdout",
     "output_type": "stream",
     "text": [
      "Name: John Doe\n",
      "Role: AI Engineer\n",
      "Affiliation: AI Research LAB\n",
      "Description: I am AI Engineer  with a focus on creating and deploying AI models for various applications.\n",
      "\n",
      "\n"
     ]
    }
   ],
   "source": [
    "analyst.persona"
   ]
  },
  {
   "cell_type": "code",
   "execution_count": 37,
   "id": "d44eeaee",
   "metadata": {},
   "outputs": [
    {
     "data": {
      "text/plain": [
       "'John Doe'"
      ]
     },
     "execution_count": 37,
     "metadata": {},
     "output_type": "execute_result"
    }
   ],
   "source": [
    "analyst.name"
   ]
  },
  {
   "cell_type": "code",
   "execution_count": 39,
   "id": "a6283283",
   "metadata": {},
   "outputs": [
    {
     "name": "stdout",
     "output_type": "stream",
     "text": [
      "Name: John Doe\n",
      "Role: AI Engineer\n",
      "Affiliation: AI Research LAB\n",
      "Description: I am AI Engineer  with a focus on creating and deploying AI models for various applications.\n",
      "\n",
      "\n"
     ]
    }
   ],
   "source": [
    "print(analyst.persona)"
   ]
  },
  {
   "cell_type": "code",
   "execution_count": 40,
   "id": "1b8a13dc",
   "metadata": {},
   "outputs": [],
   "source": [
    "class Perspectives(BaseModel):\n",
    "       analysts: List[Analyst] = Field(description=\"Comprehensive list of analysts with their roles and affiliations.\")"
   ]
  },
  {
   "cell_type": "code",
   "execution_count": 41,
   "id": "a74215c9",
   "metadata": {},
   "outputs": [],
   "source": [
    "class GenerateAnalystsState(TypedDict):\n",
    "    topic: str #research topic\n",
    "    max_analysts: int # number of analyst\n",
    "    human_analyst_feedback: str # Human feedback\n",
    "    analysts: List[Analyst] # Analyst asking questions\n",
    "    "
   ]
  },
  {
   "cell_type": "code",
   "execution_count": 42,
   "id": "ac5eb80f",
   "metadata": {},
   "outputs": [
    {
     "data": {
      "text/plain": [
       "{'topic': 'finance',\n",
       " 'max_analysts': 5,\n",
       " 'human_analyst_feedback': 'give the real info'}"
      ]
     },
     "execution_count": 42,
     "metadata": {},
     "output_type": "execute_result"
    }
   ],
   "source": [
    "GenerateAnalystsState(\n",
    "    topic = \"finance\",\n",
    "    max_analysts= 5,\n",
    "    human_analyst_feedback= \"give the real info\",  \n",
    ")"
   ]
  },
  {
   "cell_type": "code",
   "execution_count": 43,
   "id": "e12057cc",
   "metadata": {},
   "outputs": [
    {
     "data": {
      "text/plain": [
       "(Analyst(name='Dr. Neha Patel', role='Medical Data Scientist', affiliation='Stanford Medicine', description='Focuses on predictive models for patient outcomes.'),)"
      ]
     },
     "execution_count": 43,
     "metadata": {},
     "output_type": "execute_result"
    }
   ],
   "source": [
    "Analyst(\n",
    "        name=\"Dr. Neha Patel\",\n",
    "        role=\"Medical Data Scientist\",\n",
    "        affiliation=\"Stanford Medicine\",\n",
    "        description=\"Focuses on predictive models for patient outcomes.\"\n",
    "    ),"
   ]
  },
  {
   "cell_type": "code",
   "execution_count": 44,
   "id": "7cbff373",
   "metadata": {},
   "outputs": [],
   "source": [
    "analyst_instructions=\"\"\"You are tasked with creating a set of AI analyst personas. Follow these instructions carefully:\n",
    "\n",
    "1. First, review the research topic:\n",
    "{topic}\n",
    "        \n",
    "2. Examine any editorial feedback that has been optionally provided to guide creation of the analysts: \n",
    "        \n",
    "{human_analyst_feedback}\n",
    "    \n",
    "3. Determine the most interesting themes based upon documents and / or feedback above.\n",
    "                    \n",
    "4. Pick the top {max_analysts} themes.\n",
    "\n",
    "5. Assign one analyst to each theme.\"\"\""
   ]
  },
  {
   "cell_type": "code",
   "execution_count": 45,
   "id": "ad5cb491",
   "metadata": {},
   "outputs": [
    {
     "name": "stdout",
     "output_type": "stream",
     "text": [
      "['You are tasked with creating a set of AI analyst personas. Follow these instructions carefully:\\n\\n1. First, review the research topic:\\neducation\\n\\n2. Examine any editorial feedback that has been optionally provided to guide creation of the analysts: \\n\\nplease exaplain only on AI\\n\\n3. Determine the most interesting themes based upon documents and / or feedback above.\\n\\n4. Pick the top 4 themes.\\n\\n5. Assign one analyst to each theme.', 'Generate the set of analysts.']\n",
      "\n"
     ]
    }
   ],
   "source": [
    "print([analyst_instructions.format(\n",
    "        topic=\"education\",\n",
    "        max_analysts=4,\n",
    "        human_analyst_feedback=\"please exaplain only on AI\"\n",
    "        \n",
    "        )] + [\"Generate the set of analysts.\"])"
   ]
  },
  {
   "cell_type": "code",
   "execution_count": 46,
   "id": "366a1cc4",
   "metadata": {},
   "outputs": [],
   "source": [
    "def create_analyst(state:GenerateAnalystsState):\n",
    "    \"\"\"\n",
    "    it is creating my analyst\n",
    "    \n",
    "    \"\"\"\n",
    "    topic = state[\"topic\"]\n",
    "    max_analysts = state[\"max_analysts\"]\n",
    "    human_analyst_feedback = state.get(\"human_analyst_feedback\",\"\")\n",
    "    \n",
    "    structured_llm = llm.with_structured_output(Perspectives)\n",
    "    \n",
    "    system_messages = analyst_instructions.format(\n",
    "        topic=topic,\n",
    "        max_analysts=max_analysts,\n",
    "        human_analyst_feedback=human_analyst_feedback\n",
    "        \n",
    "        )\n",
    "    analysts = structured_llm.invoke([SystemMessage(content=system_messages)]+ [HumanMessage(content=\"Generate the set of analysts.\")])\n",
    "    \n",
    "    # Write the list of analysis to state\n",
    "    return {\"analysts\": analysts.analysts}"
   ]
  },
  {
   "cell_type": "code",
   "execution_count": 47,
   "id": "26f31753",
   "metadata": {},
   "outputs": [
    {
     "name": "stderr",
     "output_type": "stream",
     "text": [
      "HTTP Request: POST https://api.openai.com/v1/chat/completions \"HTTP/1.1 200 OK\"\n"
     ]
    },
    {
     "data": {
      "text/plain": [
       "{'analysts': [Analyst(name='Dr. Emily Chen', role='Public Health Researcher', affiliation='World Health Organization', description='Dr. Emily Chen focuses on global health trends and the impact of public health policies on disease prevention and health promotion. Her primary concern is understanding how different health policies can be optimized to improve health outcomes across diverse populations. She is motivated by the need to address health disparities and ensure equitable access to healthcare services worldwide.'),\n",
       "  Analyst(name='Dr. Raj Patel', role='Healthcare Technology Analyst', affiliation='Harvard T.H. Chan School of Public Health', description='Dr. Raj Patel specializes in the intersection of technology and healthcare, particularly how digital health innovations can transform patient care and health system efficiency. His focus is on evaluating the effectiveness of telemedicine, wearable health devices, and AI-driven diagnostics. He is driven by the potential of technology to enhance healthcare delivery and improve patient outcomes, especially in underserved areas.')]}"
      ]
     },
     "execution_count": 47,
     "metadata": {},
     "output_type": "execute_result"
    }
   ],
   "source": [
    "create_analyst(\n",
    "    {'topic': 'health',\n",
    "    'max_analysts': 2,\n",
    "    'human_analyst_feedback': 'give the real info'}\n",
    "    )"
   ]
  },
  {
   "cell_type": "code",
   "execution_count": 48,
   "id": "4f8cc20e",
   "metadata": {},
   "outputs": [],
   "source": [
    "def human_feedback(state):\n",
    "    \"\"\" No-op node that should be interrupted on \"\"\"\n",
    "    pass"
   ]
  },
  {
   "cell_type": "code",
   "execution_count": 49,
   "id": "55212429",
   "metadata": {},
   "outputs": [],
   "source": [
    "def should_continue(state):\n",
    "    \"\"\" Return the next node to execute \"\"\"\n",
    "    human_analyst_feedback = state.get(\"human_analyst_feedback\",None)\n",
    "    if human_analyst_feedback:\n",
    "        return \"create_analyst\""
   ]
  },
  {
   "cell_type": "code",
   "execution_count": 50,
   "id": "b13f1fb2",
   "metadata": {},
   "outputs": [],
   "source": [
    "from IPython.display import Image, display"
   ]
  },
  {
   "cell_type": "markdown",
   "id": "24198687",
   "metadata": {},
   "source": [
    "## 1. Analyst Workflow"
   ]
  },
  {
   "cell_type": "code",
   "execution_count": 51,
   "id": "08e715ff",
   "metadata": {},
   "outputs": [],
   "source": [
    "builder = StateGraph(GenerateAnalystsState)"
   ]
  },
  {
   "cell_type": "code",
   "execution_count": 52,
   "id": "6f807ad0",
   "metadata": {},
   "outputs": [
    {
     "data": {
      "text/plain": [
       "<langgraph.graph.state.StateGraph at 0x28f62457250>"
      ]
     },
     "execution_count": 52,
     "metadata": {},
     "output_type": "execute_result"
    }
   ],
   "source": [
    "builder.add_node(\"create_analyst\",create_analyst)\n",
    "builder.add_node(\"human_feedback\", human_feedback)"
   ]
  },
  {
   "cell_type": "code",
   "execution_count": 53,
   "id": "a385ce08",
   "metadata": {},
   "outputs": [
    {
     "data": {
      "text/plain": [
       "<langgraph.graph.state.StateGraph at 0x28f62457250>"
      ]
     },
     "execution_count": 53,
     "metadata": {},
     "output_type": "execute_result"
    }
   ],
   "source": [
    "builder.add_edge(START,\"create_analyst\")\n",
    "builder.add_edge(\"create_analyst\", \"human_feedback\")\n",
    "builder.add_conditional_edges(\"human_feedback\",\n",
    "                        should_continue,\n",
    "                        [\"create_analyst\",\n",
    "                        END])"
   ]
  },
  {
   "cell_type": "code",
   "execution_count": 54,
   "id": "63ba28c2",
   "metadata": {},
   "outputs": [],
   "source": [
    "memory = MemorySaver()"
   ]
  },
  {
   "cell_type": "code",
   "execution_count": 55,
   "id": "35146d84",
   "metadata": {},
   "outputs": [],
   "source": [
    "graph = builder.compile(interrupt_before= [\"human_feedback\"],checkpointer= memory)"
   ]
  },
  {
   "cell_type": "code",
   "execution_count": 56,
   "id": "d6191a8a",
   "metadata": {},
   "outputs": [
    {
     "data": {
      "image/png": "[encoded data removed]",
      "text/plain": [
       "<IPython.core.display.Image object>"
      ]
     },
     "metadata": {},
     "output_type": "display_data"
    }
   ],
   "source": [
    "display(Image(graph.get_graph(xray=1).draw_mermaid_png()))"
   ]
  },
  {
   "cell_type": "code",
   "execution_count": 57,
   "id": "812ff604",
   "metadata": {},
   "outputs": [],
   "source": [
    "topic = \"the benefits of adopting Langgraph as an agent framework\"\n",
    "max_analysts = 4\n",
    "thread =  {\"configurable\":{\"thread_id\":1}}"
   ]
  },
  {
   "cell_type": "code",
   "execution_count": 58,
   "id": "915a8946",
   "metadata": {},
   "outputs": [
    {
     "name": "stderr",
     "output_type": "stream",
     "text": [
      "HTTP Request: POST https://api.openai.com/v1/chat/completions \"HTTP/1.1 200 OK\"\n"
     ]
    },
    {
     "name": "stdout",
     "output_type": "stream",
     "text": [
      "Name: Dr. Emily Chen\n",
      "Affiliation: Tech Innovators Inc.\n",
      "Role: Technology Adoption Specialist\n",
      "Description: Dr. Chen focuses on the strategic benefits of adopting new technologies like Langgraph. She is particularly interested in how Langgraph can streamline processes and improve efficiency in various industries. Her motive is to identify technologies that can provide a competitive edge to businesses.\n",
      "--------------------------------------------------\n",
      "Name: Raj Patel\n",
      "Affiliation: FutureTech Research Group\n",
      "\n",
      "Affiliation: Tech Innovators Inc.\n",
      "Role: Technology Adoption Specialist\n",
      "Description: Dr. Chen focuses on the strategic benefits of adopting new technologies like Langgraph. She is particularly interested in how Langgraph can streamline processes and improve efficiency in various industries. Her motive is to identify technologies that can provide a competitive edge to businesses.\n",
      "--------------------------------------------------\n",
      "Name: Raj Patel\n",
      "Affiliation: FutureTech Research Group\n",
      "Role: AI Framework Analyst\n",
      "Description: Raj Patel analyzes different AI frameworks and their impact on development processes. He is concerned with the flexibility and scalability of Langgraph as an agent framework, and how it compares to other frameworks in terms of ease of integration and performance.\n",
      "--------------------------------------------------\n",
      "Name: Sophia Martinez\n",
      "Affiliation: Global Solutions Ltd.\n",
      "Role: Business Process Consultant\n",
      "Description: Sophia Martinez examines how Langgraph can transform business processes. Her focus is on the practical applications of Langgraph in automating workflows and enhancing decision-making capabilities. She aims to demonstrate the tangible benefits of Langgraph in real-world business scenarios.\n",
      "--------------------------------------------------\n",
      "Name: Dr. Ahmed El-Sayed\n",
      "Affiliation: CyberSafe Analytics\n",
      "Role: Data Security Expert\n",
      "Description: Dr. El-Sayed is concerned with the security implications of adopting new technologies like Langgraph. He evaluates the framework's security features and its ability to protect sensitive data. His motive is to ensure that adopting Langgraph does not compromise data integrity and privacy.\n",
      "--------------------------------------------------\n"
     ]
    }
   ],
   "source": [
    "for event in graph.stream({\"topic\":topic,\n",
    "              \"max_analysts\":max_analysts},\n",
    "             thread,\n",
    "             stream_mode= \"values\"):\n",
    "    analysts = event.get('analysts', '')\n",
    "    \n",
    "    if analysts:\n",
    "        for analyst in analysts:\n",
    "            print(f\"Name: {analyst.name}\")\n",
    "            print(f\"Affiliation: {analyst.affiliation}\")\n",
    "            print(f\"Role: {analyst.role}\")\n",
    "            print(f\"Description: {analyst.description}\")\n",
    "            print(\"-\" * 50)  "
   ]
  },
  {
   "cell_type": "code",
   "execution_count": 59,
   "id": "7af24422",
   "metadata": {},
   "outputs": [],
   "source": [
    "state = graph.get_state(thread)"
   ]
  },
  {
   "cell_type": "code",
   "execution_count": 60,
   "id": "8384a7c2",
   "metadata": {},
   "outputs": [
    {
     "data": {
      "text/plain": [
       "StateSnapshot(values={'topic': 'the benefits of adopting Langgraph as an agent framework', 'max_analysts': 4, 'analysts': [Analyst(name='Dr. Emily Chen', role='Technology Adoption Specialist', affiliation='Tech Innovators Inc.', description='Dr. Chen focuses on the strategic benefits of adopting new technologies like Langgraph. She is particularly interested in how Langgraph can streamline processes and improve efficiency in various industries. Her motive is to identify technologies that can provide a competitive edge to businesses.'), Analyst(name='Raj Patel', role='AI Framework Analyst', affiliation='FutureTech Research Group', description='Raj Patel analyzes different AI frameworks and their impact on development processes. He is concerned with the flexibility and scalability of Langgraph as an agent framework, and how it compares to other frameworks in terms of ease of integration and performance.'), Analyst(name='Sophia Martinez', role='Business Process Consultant', affiliation='Global Solutions Ltd.', description='Sophia Martinez examines how Langgraph can transform business processes. Her focus is on the practical applications of Langgraph in automating workflows and enhancing decision-making capabilities. She aims to demonstrate the tangible benefits of Langgraph in real-world business scenarios.'), Analyst(name='Dr. Ahmed El-Sayed', role='Data Security Expert', affiliation='CyberSafe Analytics', description=\"Dr. El-Sayed is concerned with the security implications of adopting new technologies like Langgraph. He evaluates the framework's security features and its ability to protect sensitive data. His motive is to ensure that adopting Langgraph does not compromise data integrity and privacy.\")]}, next=('human_feedback',), config={'configurable': {'thread_id': '1', 'checkpoint_ns': '', 'checkpoint_id': '1f0aae9f-578c-6dbf-8001-b0f25fd5439b'}}, metadata={'source': 'loop', 'step': 1, 'parents': {}}, created_at='2025-10-16T23:43:47.092217+00:00', parent_config={'configurable': {'thread_id': '1', 'checkpoint_ns': '', 'checkpoint_id': '1f0aae9f-310c-636b-8000-fc4bffd7a0c7'}}, tasks=(PregelTask(id='c77f4a4e-8766-f23e-968a-406279152a8f', name='human_feedback', path=('__pregel_pull', 'human_feedback'), error=None, interrupts=(), state=None, result=None),), interrupts=())"
      ]
     },
     "execution_count": 60,
     "metadata": {},
     "output_type": "execute_result"
    }
   ],
   "source": [
    "state"
   ]
  },
  {
   "cell_type": "code",
   "execution_count": 61,
   "id": "e9ea5b1f",
   "metadata": {},
   "outputs": [
    {
     "data": {
      "text/plain": [
       "{'topic': 'the benefits of adopting Langgraph as an agent framework',\n",
       " 'max_analysts': 4,\n",
       " 'analysts': [Analyst(name='Dr. Emily Chen', role='Technology Adoption Specialist', affiliation='Tech Innovators Inc.', description='Dr. Chen focuses on the strategic benefits of adopting new technologies like Langgraph. She is particularly interested in how Langgraph can streamline processes and improve efficiency in various industries. Her motive is to identify technologies that can provide a competitive edge to businesses.'),\n",
       "  Analyst(name='Raj Patel', role='AI Framework Analyst', affiliation='FutureTech Research Group', description='Raj Patel analyzes different AI frameworks and their impact on development processes. He is concerned with the flexibility and scalability of Langgraph as an agent framework, and how it compares to other frameworks in terms of ease of integration and performance.'),\n",
       "  Analyst(name='Sophia Martinez', role='Business Process Consultant', affiliation='Global Solutions Ltd.', description='Sophia Martinez examines how Langgraph can transform business processes. Her focus is on the practical applications of Langgraph in automating workflows and enhancing decision-making capabilities. She aims to demonstrate the tangible benefits of Langgraph in real-world business scenarios.'),\n",
       "  Analyst(name='Dr. Ahmed El-Sayed', role='Data Security Expert', affiliation='CyberSafe Analytics', description=\"Dr. El-Sayed is concerned with the security implications of adopting new technologies like Langgraph. He evaluates the framework's security features and its ability to protect sensitive data. His motive is to ensure that adopting Langgraph does not compromise data integrity and privacy.\")]}"
      ]
     },
     "execution_count": 61,
     "metadata": {},
     "output_type": "execute_result"
    }
   ],
   "source": [
    "state.values"
   ]
  },
  {
   "cell_type": "code",
   "execution_count": 62,
   "id": "679f543b",
   "metadata": {},
   "outputs": [
    {
     "data": {
      "text/plain": [
       "('human_feedback',)"
      ]
     },
     "execution_count": 62,
     "metadata": {},
     "output_type": "execute_result"
    }
   ],
   "source": [
    "\n",
    "state.next"
   ]
  },
  {
   "cell_type": "code",
   "execution_count": 63,
   "id": "c771920b",
   "metadata": {},
   "outputs": [
    {
     "data": {
      "text/plain": [
       "dict_items([('1', defaultdict(<class 'dict'>, {'': {'1f0aae9f-3109-6c1c-bfff-4b467a8dbd68': (('msgpack', b'\\x86\\xa1v\\x04\\xa2ts\\xd9 2025-10-16T23:43:43.053929+00:00\\xa2id\\xd9$1f0aae9f-3109-6c1c-bfff-4b467a8dbd68\\xb0channel_versions\\x81\\xa9__start__\\xd9400000000000000000000000000000001.0.09886794216755856\\xadversions_seen\\x81\\xa9__input__\\x80\\xb0updated_channels\\x91\\xa9__start__'), ('msgpack', b'\\x83\\xa6source\\xa5input\\xa4step\\xff\\xa7parents\\x80'), None), '1f0aae9f-310c-636b-8000-fc4bffd7a0c7': (('msgpack', b'\\x86\\xa1v\\x04\\xa2ts\\xd9 2025-10-16T23:43:43.054935+00:00\\xa2id\\xd9$1f0aae9f-310c-636b-8000-fc4bffd7a0c7\\xb0channel_versions\\x84\\xa9__start__\\xd9400000000000000000000000000000002.0.07639650891392036\\xa5topic\\xd9400000000000000000000000000000002.0.07639650891392036\\xacmax_analysts\\xd9400000000000000000000000000000002.0.07639650891392036\\xb8branch:to:create_analyst\\xd9400000000000000000000000000000002.0.07639650891392036\\xadversions_seen\\x82\\xa9__input__\\x80\\xa9__start__\\x81\\xa9__start__\\xd9400000000000000000000000000000001.0.09886794216755856\\xb0updated_channels\\x93\\xb8branch:to:create_analyst\\xacmax_analysts\\xa5topic'), ('msgpack', b'\\x83\\xa6source\\xa4loop\\xa4step\\x00\\xa7parents\\x80'), '1f0aae9f-3109-6c1c-bfff-4b467a8dbd68'), '1f0aae9f-578c-6dbf-8001-b0f25fd5439b': (('msgpack', b'\\x86\\xa1v\\x04\\xa2ts\\xd9 2025-10-16T23:43:47.092217+00:00\\xa2id\\xd9$1f0aae9f-578c-6dbf-8001-b0f25fd5439b\\xb0channel_versions\\x86\\xa9__start__\\xd9400000000000000000000000000000002.0.07639650891392036\\xa5topic\\xd9400000000000000000000000000000002.0.07639650891392036\\xacmax_analysts\\xd9400000000000000000000000000000002.0.07639650891392036\\xb8branch:to:create_analyst\\xd9300000000000000000000000000000003.0.9223265408262712\\xa8analysts\\xd9300000000000000000000000000000003.0.9223265408262712\\xb8branch:to:human_feedback\\xd9300000000000000000000000000000003.0.9223265408262712\\xadversions_seen\\x83\\xa9__input__\\x80\\xa9__start__\\x81\\xa9__start__\\xd9400000000000000000000000000000001.0.09886794216755856\\xaecreate_analyst\\x81\\xb8branch:to:create_analyst\\xd9400000000000000000000000000000002.0.07639650891392036\\xb0updated_channels\\x92\\xa8analysts\\xb8branch:to:human_feedback'), ('msgpack', b'\\x83\\xa6source\\xa4loop\\xa4step\\x01\\xa7parents\\x80'), '1f0aae9f-310c-636b-8000-fc4bffd7a0c7')}}))])"
      ]
     },
     "execution_count": 63,
     "metadata": {},
     "output_type": "execute_result"
    }
   ],
   "source": [
    "memory.storage.items()"
   ]
  },
  {
   "cell_type": "code",
   "execution_count": null,
   "id": "0de5ddfc",
   "metadata": {},
   "outputs": [],
   "source": [
    "# import msgpack\n",
    "\n",
    "# for thread_id, ns_dict in memory.storage.items():\n",
    "#     print(f\"\\n Thread ID: {thread_id}\")\n",
    "    \n",
    "#     # ns_dict = defaultdict(dict, {'': {...}})\n",
    "#     for ns, ckpts in ns_dict.items():\n",
    "#         print(f\"  Namespace: '{ns}'\")\n",
    "        \n",
    "#         # ckpts = dict of {checkpoint_id: (packed_values, packed_metadata, parent_id)}\n",
    "#         for ckpt_id, (packed_values, packed_metadata, parent_id) in ckpts.items():\n",
    "#             print(f\"    Checkpoint ID: {ckpt_id}\")\n",
    "            \n",
    "#             # Decode msgpack binary\n",
    "#             values = msgpack.unpackb(packed_values[1], raw=False)\n",
    "#             meta = msgpack.unpackb(packed_metadata[1], raw=False)\n",
    "            \n",
    "#             print(f\"    Values keys: {list(values.keys())}\")\n",
    "#             print(f\"    Parent ID: {parent_id}\")\n",
    "#             print(f\"    Metadata: {meta}\")\n",
    "#             print(\"-\" * 80)"
   ]
  },
  {
   "cell_type": "code",
   "execution_count": 64,
   "id": "67bc8958",
   "metadata": {},
   "outputs": [
    {
     "data": {
      "text/plain": [
       "{'configurable': {'thread_id': '1',\n",
       "  'checkpoint_ns': '',\n",
       "  'checkpoint_id': '1f0aae9f-578c-6dbf-8001-b0f25fd5439b'}}"
      ]
     },
     "execution_count": 64,
     "metadata": {},
     "output_type": "execute_result"
    }
   ],
   "source": [
    "state.config"
   ]
  },
  {
   "cell_type": "code",
   "execution_count": 67,
   "id": "06c5b95c",
   "metadata": {},
   "outputs": [
    {
     "data": {
      "text/plain": [
       "{'configurable': {'thread_id': '1',\n",
       "  'checkpoint_ns': '',\n",
       "  'checkpoint_id': '1f0aaea5-b93f-6fd7-8002-c1e75b887fc6'}}"
      ]
     },
     "execution_count": 67,
     "metadata": {},
     "output_type": "execute_result"
    }
   ],
   "source": [
    "graph.update_state(thread,\n",
    "                   {\"human_analyst_feedback\":\"add something from the startup perspective and focus on the latest enterprise application\"},as_node=\"human_feedback\"\n",
    "                   )"
   ]
  },
  {
   "cell_type": "code",
   "execution_count": 68,
   "id": "ab9c852a",
   "metadata": {},
   "outputs": [
    {
     "name": "stdout",
     "output_type": "stream",
     "text": [
      "Name: Dr. Emily Chen\n",
      "Affiliation: Tech Innovators Inc.\n",
      "Role: Technology Adoption Specialist\n",
      "Description: Dr. Chen focuses on the strategic benefits of adopting new technologies like Langgraph. She is particularly interested in how Langgraph can streamline processes and improve efficiency in various industries. Her motive is to identify technologies that can provide a competitive edge to businesses.\n",
      "--------------------------------------------------\n",
      "Name: Raj Patel\n",
      "Affiliation: FutureTech Research Group\n",
      "Role: AI Framework Analyst\n",
      "Description: Raj Patel analyzes different AI frameworks and their impact on development processes. He is concerned with the flexibility and scalability of Langgraph as an agent framework, and how it compares to other frameworks in terms of ease of integration and performance.\n",
      "--------------------------------------------------\n",
      "Name: Sophia Martinez\n",
      "Affiliation: Global Solutions Ltd.\n",
      "Role: Business Process Consultant\n",
      "Description: Sophia Martinez examines how Langgraph can transform business processes. Her focus is on the practical applications of Langgraph in automating workflows and enhancing decision-making capabilities. She aims to demonstrate the tangible benefits of Langgraph in real-world business scenarios.\n",
      "--------------------------------------------------\n",
      "Name: Dr. Ahmed El-Sayed\n",
      "Affiliation: CyberSafe Analytics\n",
      "Role: Data Security Expert\n",
      "Description: Dr. El-Sayed is concerned with the security implications of adopting new technologies like Langgraph. He evaluates the framework's security features and its ability to protect sensitive data. His motive is to ensure that adopting Langgraph does not compromise data integrity and privacy.\n",
      "--------------------------------------------------\n"
     ]
    },
    {
     "name": "stderr",
     "output_type": "stream",
     "text": [
      "HTTP Request: POST https://api.openai.com/v1/chat/completions \"HTTP/1.1 200 OK\"\n"
     ]
    },
    {
     "name": "stdout",
     "output_type": "stream",
     "text": [
      "Name: Sophia Tran\n",
      "Affiliation: Tech Innovators Network\n",
      "Role: Startup Ecosystem Analyst\n",
      "Description: Sophia focuses on the impact of adopting new technologies like Langgraph within startup environments. She is particularly interested in how Langgraph can streamline operations, reduce costs, and enhance scalability for startups. Her analysis often includes case studies of early-stage companies that have successfully integrated Langgraph into their workflows.\n",
      "--------------------------------------------------\n",
      "Name: Michael Chen\n",
      "Affiliation: Global Enterprise Solutions\n",
      "Role: Enterprise Application Specialist\n",
      "Affiliation: Tech Innovators Network\n",
      "Role: Startup Ecosystem Analyst\n",
      "Description: Sophia focuses on the impact of adopting new technologies like Langgraph within startup environments. She is particularly interested in how Langgraph can streamline operations, reduce costs, and enhance scalability for startups. Her analysis often includes case studies of early-stage companies that have successfully integrated Langgraph into their workflows.\n",
      "--------------------------------------------------\n",
      "Name: Michael Chen\n",
      "Affiliation: Global Enterprise Solutions\n",
      "Role: Enterprise Application Specialist\n",
      "Description: Michael specializes in the latest enterprise applications and how they can be optimized using frameworks like Langgraph. He examines how large organizations can leverage Langgraph to improve efficiency, enhance data processing capabilities, and support complex decision-making processes. His insights are geared towards CIOs and IT managers looking to modernize their tech stack.\n",
      "--------------------------------------------------\n",
      "Name: Aisha Patel\n",
      "Affiliation: Institute of Advanced AI Studies\n",
      "Role: AI Framework Researcher\n",
      "Description: Aisha's research delves into the technical benefits of adopting Langgraph as an agent framework. She explores its architecture, flexibility, and integration capabilities with existing AI systems. Her work is aimed at developers and researchers interested in the technical underpinnings and potential of Langgraph to advance AI applications.\n",
      "--------------------------------------------------\n",
      "Name: Liam O'Reilly\n",
      "Affiliation: FutureTech Consulting\n",
      "Role: Business Strategy Consultant\n",
      "Description: Liam advises businesses on strategic adoption of emerging technologies. He focuses on how Langgraph can be a game-changer in aligning business strategies with technological advancements. His analysis includes market trends, competitive advantages, and long-term benefits of integrating Langgraph into business models, particularly for companies looking to stay ahead in the digital transformation race.\n",
      "--------------------------------------------------\n"
     ]
    }
   ],
   "source": [
    "for event in graph.stream({\"topic\":topic,\n",
    "              \"max_analysts\":max_analysts},\n",
    "             thread,\n",
    "             stream_mode= \"values\"):\n",
    "    analysts = event.get('analysts', '')\n",
    "    \n",
    "    if analysts:\n",
    "        for analyst in analysts:\n",
    "            print(f\"Name: {analyst.name}\")\n",
    "            print(f\"Affiliation: {analyst.affiliation}\")\n",
    "            print(f\"Role: {analyst.role}\")\n",
    "            print(f\"Description: {analyst.description}\")\n",
    "            print(\"-\" * 50)  "
   ]
  },
  {
   "cell_type": "code",
   "execution_count": 69,
   "id": "49042bd0",
   "metadata": {},
   "outputs": [],
   "source": [
    "state = graph.get_state(thread)"
   ]
  },
  {
   "cell_type": "code",
   "execution_count": 70,
   "id": "b4a7cdcb",
   "metadata": {},
   "outputs": [
    {
     "data": {
      "text/plain": [
       "StateSnapshot(values={'topic': 'the benefits of adopting Langgraph as an agent framework', 'max_analysts': 4, 'human_analyst_feedback': 'add something from the startup perspective and focus on the latest enterprise application', 'analysts': [Analyst(name='Sophia Tran', role='Startup Ecosystem Analyst', affiliation='Tech Innovators Network', description='Sophia focuses on the impact of adopting new technologies like Langgraph within startup environments. She is particularly interested in how Langgraph can streamline operations, reduce costs, and enhance scalability for startups. Her analysis often includes case studies of early-stage companies that have successfully integrated Langgraph into their workflows.'), Analyst(name='Michael Chen', role='Enterprise Application Specialist', affiliation='Global Enterprise Solutions', description='Michael specializes in the latest enterprise applications and how they can be optimized using frameworks like Langgraph. He examines how large organizations can leverage Langgraph to improve efficiency, enhance data processing capabilities, and support complex decision-making processes. His insights are geared towards CIOs and IT managers looking to modernize their tech stack.'), Analyst(name='Aisha Patel', role='AI Framework Researcher', affiliation='Institute of Advanced AI Studies', description=\"Aisha's research delves into the technical benefits of adopting Langgraph as an agent framework. She explores its architecture, flexibility, and integration capabilities with existing AI systems. Her work is aimed at developers and researchers interested in the technical underpinnings and potential of Langgraph to advance AI applications.\"), Analyst(name=\"Liam O'Reilly\", role='Business Strategy Consultant', affiliation='FutureTech Consulting', description='Liam advises businesses on strategic adoption of emerging technologies. He focuses on how Langgraph can be a game-changer in aligning business strategies with technological advancements. His analysis includes market trends, competitive advantages, and long-term benefits of integrating Langgraph into business models, particularly for companies looking to stay ahead in the digital transformation race.')]}, next=('human_feedback',), config={'configurable': {'thread_id': '1', 'checkpoint_ns': '', 'checkpoint_id': '1f0aaea6-cee6-627b-8005-d2f12d81e8ca'}}, metadata={'source': 'loop', 'step': 5, 'parents': {}}, created_at='2025-10-16T23:47:07.511666+00:00', parent_config={'configurable': {'thread_id': '1', 'checkpoint_ns': '', 'checkpoint_id': '1f0aaea6-8686-6d96-8004-b297a108f529'}}, tasks=(PregelTask(id='630512d1-1319-afca-61c5-48f6314ebc80', name='human_feedback', path=('__pregel_pull', 'human_feedback'), error=None, interrupts=(), state=None, result=None),), interrupts=())"
      ]
     },
     "execution_count": 70,
     "metadata": {},
     "output_type": "execute_result"
    }
   ],
   "source": [
    "\n",
    "state"
   ]
  },
  {
   "cell_type": "code",
   "execution_count": 71,
   "id": "ec8a10c9",
   "metadata": {},
   "outputs": [
    {
     "data": {
      "text/plain": [
       "('human_feedback',)"
      ]
     },
     "execution_count": 71,
     "metadata": {},
     "output_type": "execute_result"
    }
   ],
   "source": [
    "\n",
    "state.next"
   ]
  },
  {
   "cell_type": "code",
   "execution_count": null,
   "id": "2fab1b70",
   "metadata": {},
   "outputs": [],
   "source": []
  }
 ],
 "metadata": {
  "kernelspec": {
   "display_name": ".venv (3.11.13)",
   "language": "python",
   "name": "python3"
  },
  "language_info": {
   "codemirror_mode": {
    "name": "ipython",
    "version": 3
   },
   "file_extension": ".py",
   "mimetype": "text/x-python",
   "name": "python",
   "nbconvert_exporter": "python",
   "pygments_lexer": "ipython3",
   "version": "3.11.13"
  }
 },
 "nbformat": 4,
 "nbformat_minor": 5
}
